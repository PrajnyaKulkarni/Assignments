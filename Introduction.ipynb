{
  "nbformat": 4,
  "nbformat_minor": 0,
  "metadata": {
    "colab": {
      "provenance": [],
      "authorship_tag": "ABX9TyOd6sWPXTB8EcE9wwruaIxy",
      "include_colab_link": true
    },
    "kernelspec": {
      "name": "python3",
      "display_name": "Python 3"
    },
    "language_info": {
      "name": "python"
    }
  },
  "cells": [
    {
      "cell_type": "markdown",
      "metadata": {
        "id": "view-in-github",
        "colab_type": "text"
      },
      "source": [
        "<a href=\"https://colab.research.google.com/github/PrajnyaKulkarni/Assignments/blob/main/Introduction.ipynb\" target=\"_parent\"><img src=\"https://colab.research.google.com/assets/colab-badge.svg\" alt=\"Open In Colab\"/></a>"
      ]
    },
    {
      "cell_type": "code",
      "execution_count": 3,
      "metadata": {
        "colab": {
          "base_uri": "https://localhost:8080/"
        },
        "id": "Nz8iILzjmwfG",
        "outputId": "83a3216b-02ac-4bb8-a806-0477c8a0c6bb"
      },
      "outputs": [
        {
          "output_type": "stream",
          "name": "stdout",
          "text": [
            "3.10.12 (main, Jun 11 2023, 05:26:28) [GCC 11.4.0]\n"
          ]
        }
      ],
      "source": [
        "#To check the python version we are working on\n",
        "#python --version - in terminal\n",
        "import sys\n",
        "print(sys.version)"
      ]
    },
    {
      "cell_type": "code",
      "source": [
        "#understand each function using 'help' keyword\n",
        "help(print)"
      ],
      "metadata": {
        "id": "cGqu6SJNm_Lq",
        "colab": {
          "base_uri": "https://localhost:8080/"
        },
        "outputId": "68109597-bda6-4e6c-8657-6d160855c124"
      },
      "execution_count": 4,
      "outputs": [
        {
          "output_type": "stream",
          "name": "stdout",
          "text": [
            "Help on built-in function print in module builtins:\n",
            "\n",
            "print(...)\n",
            "    print(value, ..., sep=' ', end='\\n', file=sys.stdout, flush=False)\n",
            "    \n",
            "    Prints the values to a stream, or to sys.stdout by default.\n",
            "    Optional keyword arguments:\n",
            "    file:  a file-like object (stream); defaults to the current sys.stdout.\n",
            "    sep:   string inserted between values, default a space.\n",
            "    end:   string appended after the last value, default a newline.\n",
            "    flush: whether to forcibly flush the stream.\n",
            "\n"
          ]
        }
      ]
    },
    {
      "cell_type": "code",
      "source": [
        "#Variable declaration with type hinting\n",
        "quiz : int = 100\n",
        "print(quiz)"
      ],
      "metadata": {
        "colab": {
          "base_uri": "https://localhost:8080/"
        },
        "id": "auEA5b3Pn30I",
        "outputId": "38960fa8-3f43-4606-b1b1-9848b8030012"
      },
      "execution_count": 5,
      "outputs": [
        {
          "output_type": "stream",
          "name": "stdout",
          "text": [
            "100\n"
          ]
        }
      ]
    },
    {
      "cell_type": "code",
      "source": [
        "help(sys)"
      ],
      "metadata": {
        "colab": {
          "base_uri": "https://localhost:8080/"
        },
        "id": "tu82-iOJoWfd",
        "outputId": "180c4666-48d4-4853-cc8e-1c46cbf2b709"
      },
      "execution_count": 6,
      "outputs": [
        {
          "output_type": "stream",
          "name": "stdout",
          "text": [
            "Help on built-in module sys:\n",
            "\n",
            "NAME\n",
            "    sys\n",
            "\n",
            "MODULE REFERENCE\n",
            "    https://docs.python.org/3.10/library/sys.html\n",
            "    \n",
            "    The following documentation is automatically generated from the Python\n",
            "    source files.  It may be incomplete, incorrect or include features that\n",
            "    are considered implementation detail and may vary between Python\n",
            "    implementations.  When in doubt, consult the module reference at the\n",
            "    location listed above.\n",
            "\n",
            "DESCRIPTION\n",
            "    This module provides access to some objects used or maintained by the\n",
            "    interpreter and to functions that interact strongly with the interpreter.\n",
            "    \n",
            "    Dynamic objects:\n",
            "    \n",
            "    argv -- command line arguments; argv[0] is the script pathname if known\n",
            "    path -- module search path; path[0] is the script directory, else ''\n",
            "    modules -- dictionary of loaded modules\n",
            "    \n",
            "    displayhook -- called to show results in an interactive session\n",
            "    excepthook -- called to handle any uncaught exception other than SystemExit\n",
            "      To customize printing in an interactive session or to install a custom\n",
            "      top-level exception handler, assign other functions to replace these.\n",
            "    \n",
            "    stdin -- standard input file object; used by input()\n",
            "    stdout -- standard output file object; used by print()\n",
            "    stderr -- standard error object; used for error messages\n",
            "      By assigning other file objects (or objects that behave like files)\n",
            "      to these, it is possible to redirect all of the interpreter's I/O.\n",
            "    \n",
            "    last_type -- type of last uncaught exception\n",
            "    last_value -- value of last uncaught exception\n",
            "    last_traceback -- traceback of last uncaught exception\n",
            "      These three are only available in an interactive session after a\n",
            "      traceback has been printed.\n",
            "    \n",
            "    Static objects:\n",
            "    \n",
            "    builtin_module_names -- tuple of module names built into this interpreter\n",
            "    copyright -- copyright notice pertaining to this interpreter\n",
            "    exec_prefix -- prefix used to find the machine-specific Python library\n",
            "    executable -- absolute path of the executable binary of the Python interpreter\n",
            "    float_info -- a named tuple with information about the float implementation.\n",
            "    float_repr_style -- string indicating the style of repr() output for floats\n",
            "    hash_info -- a named tuple with information about the hash algorithm.\n",
            "    hexversion -- version information encoded as a single integer\n",
            "    implementation -- Python implementation information.\n",
            "    int_info -- a named tuple with information about the int implementation.\n",
            "    maxsize -- the largest supported length of containers.\n",
            "    maxunicode -- the value of the largest Unicode code point\n",
            "    platform -- platform identifier\n",
            "    prefix -- prefix used to find the Python library\n",
            "    thread_info -- a named tuple with information about the thread implementation.\n",
            "    version -- the version of this interpreter as a string\n",
            "    version_info -- version information as a named tuple\n",
            "    __stdin__ -- the original stdin; don't touch!\n",
            "    __stdout__ -- the original stdout; don't touch!\n",
            "    __stderr__ -- the original stderr; don't touch!\n",
            "    __displayhook__ -- the original displayhook; don't touch!\n",
            "    __excepthook__ -- the original excepthook; don't touch!\n",
            "    \n",
            "    Functions:\n",
            "    \n",
            "    displayhook() -- print an object to the screen, and save it in builtins._\n",
            "    excepthook() -- print an exception and its traceback to sys.stderr\n",
            "    exc_info() -- return thread-safe information about the current exception\n",
            "    exit() -- exit the interpreter by raising SystemExit\n",
            "    getdlopenflags() -- returns flags to be used for dlopen() calls\n",
            "    getprofile() -- get the global profiling function\n",
            "    getrefcount() -- return the reference count for an object (plus one :-)\n",
            "    getrecursionlimit() -- return the max recursion depth for the interpreter\n",
            "    getsizeof() -- return the size of an object in bytes\n",
            "    gettrace() -- get the global debug tracing function\n",
            "    setdlopenflags() -- set the flags to be used for dlopen() calls\n",
            "    setprofile() -- set the global profiling function\n",
            "    setrecursionlimit() -- set the max recursion depth for the interpreter\n",
            "    settrace() -- set the global debug tracing function\n",
            "\n",
            "FUNCTIONS\n",
            "    __breakpointhook__ = breakpointhook(...)\n",
            "        breakpointhook(*args, **kws)\n",
            "        \n",
            "        This hook function is called by built-in breakpoint().\n",
            "    \n",
            "    __displayhook__ = displayhook(object, /)\n",
            "        Print an object to sys.stdout and also save it in builtins._\n",
            "    \n",
            "    __excepthook__ = excepthook(exctype, value, traceback, /)\n",
            "        Handle an exception by displaying it with a traceback on sys.stderr.\n",
            "    \n",
            "    __unraisablehook__ = unraisablehook(unraisable, /)\n",
            "        Handle an unraisable exception.\n",
            "        \n",
            "        The unraisable argument has the following attributes:\n",
            "        \n",
            "        * exc_type: Exception type.\n",
            "        * exc_value: Exception value, can be None.\n",
            "        * exc_traceback: Exception traceback, can be None.\n",
            "        * err_msg: Error message, can be None.\n",
            "        * object: Object causing the exception, can be None.\n",
            "    \n",
            "    addaudithook(hook)\n",
            "        Adds a new audit hook callback.\n",
            "    \n",
            "    audit(...)\n",
            "        audit(event, *args)\n",
            "        \n",
            "        Passes the event to any audit hooks that are attached.\n",
            "    \n",
            "    breakpointhook(...)\n",
            "        breakpointhook(*args, **kws)\n",
            "        \n",
            "        This hook function is called by built-in breakpoint().\n",
            "    \n",
            "    call_tracing(func, args, /)\n",
            "        Call func(*args), while tracing is enabled.\n",
            "        \n",
            "        The tracing state is saved, and restored afterwards.  This is intended\n",
            "        to be called from a debugger from a checkpoint, to recursively debug\n",
            "        some other code.\n",
            "    \n",
            "    exc_info()\n",
            "        Return current exception information: (type, value, traceback).\n",
            "        \n",
            "        Return information about the most recent exception caught by an except\n",
            "        clause in the current stack frame or in an older stack frame.\n",
            "    \n",
            "    exit(status=None, /)\n",
            "        Exit the interpreter by raising SystemExit(status).\n",
            "        \n",
            "        If the status is omitted or None, it defaults to zero (i.e., success).\n",
            "        If the status is an integer, it will be used as the system exit status.\n",
            "        If it is another kind of object, it will be printed and the system\n",
            "        exit status will be one (i.e., failure).\n",
            "    \n",
            "    get_asyncgen_hooks()\n",
            "        Return the installed asynchronous generators hooks.\n",
            "        \n",
            "        This returns a namedtuple of the form (firstiter, finalizer).\n",
            "    \n",
            "    get_coroutine_origin_tracking_depth()\n",
            "        Check status of origin tracking for coroutine objects in this thread.\n",
            "    \n",
            "    get_int_max_str_digits()\n",
            "        Return the maximum string digits limit for non-binary int<->str conversions.\n",
            "    \n",
            "    getallocatedblocks()\n",
            "        Return the number of memory blocks currently allocated.\n",
            "    \n",
            "    getdefaultencoding()\n",
            "        Return the current default encoding used by the Unicode implementation.\n",
            "    \n",
            "    getdlopenflags()\n",
            "        Return the current value of the flags that are used for dlopen calls.\n",
            "        \n",
            "        The flag constants are defined in the os module.\n",
            "    \n",
            "    getfilesystemencodeerrors()\n",
            "        Return the error mode used Unicode to OS filename conversion.\n",
            "    \n",
            "    getfilesystemencoding()\n",
            "        Return the encoding used to convert Unicode filenames to OS filenames.\n",
            "    \n",
            "    getprofile()\n",
            "        Return the profiling function set with sys.setprofile.\n",
            "        \n",
            "        See the profiler chapter in the library manual.\n",
            "    \n",
            "    getrecursionlimit()\n",
            "        Return the current value of the recursion limit.\n",
            "        \n",
            "        The recursion limit is the maximum depth of the Python interpreter\n",
            "        stack.  This limit prevents infinite recursion from causing an overflow\n",
            "        of the C stack and crashing Python.\n",
            "    \n",
            "    getrefcount(object, /)\n",
            "        Return the reference count of object.\n",
            "        \n",
            "        The count returned is generally one higher than you might expect,\n",
            "        because it includes the (temporary) reference as an argument to\n",
            "        getrefcount().\n",
            "    \n",
            "    getsizeof(...)\n",
            "        getsizeof(object [, default]) -> int\n",
            "        \n",
            "        Return the size of object in bytes.\n",
            "    \n",
            "    getswitchinterval()\n",
            "        Return the current thread switch interval; see sys.setswitchinterval().\n",
            "    \n",
            "    gettrace()\n",
            "        Return the global debug tracing function set with sys.settrace.\n",
            "        \n",
            "        See the debugger chapter in the library manual.\n",
            "    \n",
            "    intern(string, /)\n",
            "        ``Intern'' the given string.\n",
            "        \n",
            "        This enters the string in the (global) table of interned strings whose\n",
            "        purpose is to speed up dictionary lookups. Return the string itself or\n",
            "        the previously interned string object with the same value.\n",
            "    \n",
            "    is_finalizing()\n",
            "        Return True if Python is exiting.\n",
            "    \n",
            "    set_asyncgen_hooks(...)\n",
            "        set_asyncgen_hooks(* [, firstiter] [, finalizer])\n",
            "        \n",
            "        Set a finalizer for async generators objects.\n",
            "    \n",
            "    set_coroutine_origin_tracking_depth(depth)\n",
            "        Enable or disable origin tracking for coroutine objects in this thread.\n",
            "        \n",
            "        Coroutine objects will track 'depth' frames of traceback information\n",
            "        about where they came from, available in their cr_origin attribute.\n",
            "        \n",
            "        Set a depth of 0 to disable.\n",
            "    \n",
            "    set_int_max_str_digits(maxdigits)\n",
            "        Set the maximum string digits limit for non-binary int<->str conversions.\n",
            "    \n",
            "    setdlopenflags(flags, /)\n",
            "        Set the flags used by the interpreter for dlopen calls.\n",
            "        \n",
            "        This is used, for example, when the interpreter loads extension\n",
            "        modules. Among other things, this will enable a lazy resolving of\n",
            "        symbols when importing a module, if called as sys.setdlopenflags(0).\n",
            "        To share symbols across extension modules, call as\n",
            "        sys.setdlopenflags(os.RTLD_GLOBAL).  Symbolic names for the flag\n",
            "        modules can be found in the os module (RTLD_xxx constants, e.g.\n",
            "        os.RTLD_LAZY).\n",
            "    \n",
            "    setprofile(...)\n",
            "        setprofile(function)\n",
            "        \n",
            "        Set the profiling function.  It will be called on each function call\n",
            "        and return.  See the profiler chapter in the library manual.\n",
            "    \n",
            "    setrecursionlimit(limit, /)\n",
            "        Set the maximum depth of the Python interpreter stack to n.\n",
            "        \n",
            "        This limit prevents infinite recursion from causing an overflow of the C\n",
            "        stack and crashing Python.  The highest possible limit is platform-\n",
            "        dependent.\n",
            "    \n",
            "    setswitchinterval(interval, /)\n",
            "        Set the ideal thread switching delay inside the Python interpreter.\n",
            "        \n",
            "        The actual frequency of switching threads can be lower if the\n",
            "        interpreter executes long sequences of uninterruptible code\n",
            "        (this is implementation-specific and workload-dependent).\n",
            "        \n",
            "        The parameter must represent the desired switching delay in seconds\n",
            "        A typical value is 0.005 (5 milliseconds).\n",
            "    \n",
            "    unraisablehook(unraisable, /)\n",
            "        Handle an unraisable exception.\n",
            "        \n",
            "        The unraisable argument has the following attributes:\n",
            "        \n",
            "        * exc_type: Exception type.\n",
            "        * exc_value: Exception value, can be None.\n",
            "        * exc_traceback: Exception traceback, can be None.\n",
            "        * err_msg: Error message, can be None.\n",
            "        * object: Object causing the exception, can be None.\n",
            "\n",
            "DATA\n",
            "    __stderr__ = <_io.TextIOWrapper name='<stderr>' mode='w' encoding='utf...\n",
            "    __stdin__ = <_io.TextIOWrapper name='<stdin>' mode='r' encoding='utf-8...\n",
            "    __stdout__ = <_io.TextIOWrapper name='<stdout>' mode='w' encoding='utf...\n",
            "    abiflags = ''\n",
            "    api_version = 1013\n",
            "    argv = ['/usr/local/lib/python3.10/dist-packages/colab_kernel_launcher...\n",
            "    base_exec_prefix = '/usr'\n",
            "    base_prefix = '/usr'\n",
            "    builtin_module_names = ('_abc', '_ast', '_bisect', '_blake2', '_codecs...\n",
            "    byteorder = 'little'\n",
            "    copyright = 'Copyright (c) 2001-2023 Python Software Foundati...ematis...\n",
            "    displayhook = <ipykernel.displayhook.ZMQShellDisplayHook object>\n",
            "    dont_write_bytecode = False\n",
            "    exec_prefix = '/usr'\n",
            "    executable = '/usr/bin/python3'\n",
            "    flags = sys.flags(debug=0, inspect=0, interactive=0, opt..., warn_defa...\n",
            "    float_info = sys.float_info(max=1.7976931348623157e+308, max_...epsilo...\n",
            "    float_repr_style = 'short'\n",
            "    hash_info = sys.hash_info(width=64, modulus=2305843009213693...iphash2...\n",
            "    hexversion = 50990320\n",
            "    implementation = namespace(name='cpython', cache_tag='cpython-310...xv...\n",
            "    int_info = sys.int_info(bits_per_digit=30, sizeof_digit=4, ..._str_dig...\n",
            "    last_value = NameError(\"name 'python' is not defined\")\n",
            "    maxsize = 9223372036854775807\n",
            "    maxunicode = 1114111\n",
            "    meta_path = [<google.colab._import_hooks._client_info.APICoreClientInf...\n",
            "    modules = {'IPython': <module 'IPython' from '/usr/local/lib/python3.1...\n",
            "    orig_argv = ['/usr/bin/python3', '-m', 'colab_kernel_launcher', '-f', ...\n",
            "    path = ['/content', '/env/python', '/usr/lib/python310.zip', '/usr/lib...\n",
            "    path_hooks = [<class 'zipimport.zipimporter'>, <function FileFinder.pa...\n",
            "    path_importer_cache = {'': FileFinder('/content/.'), '/content': FileF...\n",
            "    platform = 'linux'\n",
            "    platlibdir = 'lib'\n",
            "    prefix = '/usr'\n",
            "    ps1 = 'In : '\n",
            "    ps2 = '...: '\n",
            "    ps3 = 'Out: '\n",
            "    pycache_prefix = None\n",
            "    stderr = <ipykernel.iostream.OutStream object>\n",
            "    stdin = <_io.TextIOWrapper name='<stdin>' mode='r' encoding='utf-8'>\n",
            "    stdlib_module_names = frozenset({'__future__', '_abc', '_aix_support',...\n",
            "    stdout = <ipykernel.iostream.OutStream object>\n",
            "    thread_info = sys.thread_info(name='pthread', lock='semaphore', versio...\n",
            "    version = '3.10.12 (main, Jun 11 2023, 05:26:28) [GCC 11.4.0]'\n",
            "    version_info = sys.version_info(major=3, minor=10, micro=12, releasele...\n",
            "    warnoptions = ['ignore:::pip._internal.cli.base_command']\n",
            "\n",
            "FILE\n",
            "    (built-in)\n",
            "\n",
            "\n"
          ]
        }
      ]
    },
    {
      "cell_type": "code",
      "source": [
        "# when we use python -m folder.subfolder.filename, it means I want to run the program as a module\n",
        "#(This can be done when we have written and saved a program in .py file\n",
        "# and then we want to run it)"
      ],
      "metadata": {
        "id": "gPFaFE-Jolij"
      },
      "execution_count": 7,
      "outputs": []
    },
    {
      "cell_type": "code",
      "source": [
        "2+4/2*2"
      ],
      "metadata": {
        "colab": {
          "base_uri": "https://localhost:8080/"
        },
        "id": "9dPYPscQqHkF",
        "outputId": "aedf53d3-3997-468f-9550-3fc590ea1af3"
      },
      "execution_count": 8,
      "outputs": [
        {
          "output_type": "execute_result",
          "data": {
            "text/plain": [
              "6.0"
            ]
          },
          "metadata": {},
          "execution_count": 8
        }
      ]
    },
    {
      "cell_type": "code",
      "source": [],
      "metadata": {
        "id": "jcncV0lOq2Kv"
      },
      "execution_count": null,
      "outputs": []
    }
  ]
}