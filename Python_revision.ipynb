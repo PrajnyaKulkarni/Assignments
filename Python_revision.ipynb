{
  "nbformat": 4,
  "nbformat_minor": 0,
  "metadata": {
    "colab": {
      "provenance": [],
      "authorship_tag": "ABX9TyM3/gFcUPxngz1m8t+/fOHZ",
      "include_colab_link": true
    },
    "kernelspec": {
      "name": "python3",
      "display_name": "Python 3"
    },
    "language_info": {
      "name": "python"
    }
  },
  "cells": [
    {
      "cell_type": "markdown",
      "metadata": {
        "id": "view-in-github",
        "colab_type": "text"
      },
      "source": [
        "<a href=\"https://colab.research.google.com/github/PrajnyaKulkarni/Assignments/blob/main/Python_revision.ipynb\" target=\"_parent\"><img src=\"https://colab.research.google.com/assets/colab-badge.svg\" alt=\"Open In Colab\"/></a>"
      ]
    },
    {
      "cell_type": "code",
      "source": [
        "#Print statement\n",
        "print(\"Hi!My name is Prajnya\")"
      ],
      "metadata": {
        "id": "Zb-7rCW1ieiP",
        "colab": {
          "base_uri": "https://localhost:8080/"
        },
        "outputId": "1ea429ea-c098-4c70-9f40-ac89c413f8b8"
      },
      "execution_count": null,
      "outputs": [
        {
          "output_type": "stream",
          "name": "stdout",
          "text": [
            "Hi!My name is Prajnya\n"
          ]
        }
      ]
    },
    {
      "cell_type": "markdown",
      "source": [
        "Keywords are predefined, reserved words used in Python programming\n",
        "that have special meanings to the compiler. For example : if, else, True, None etc.,\n",
        "\n",
        "Identifiers : Name given to the variable\n",
        "\n",
        "Variables : Containers to store the data\n",
        "Eg : number = 10 = Number is the variable holding the value 10\n",
        "\n",
        "\n"
      ],
      "metadata": {
        "id": "R1OWaLy73FED"
      }
    },
    {
      "cell_type": "code",
      "source": [
        "number = 10\n",
        "print(number)"
      ],
      "metadata": {
        "colab": {
          "base_uri": "https://localhost:8080/"
        },
        "id": "HA9SYj9w3fzB",
        "outputId": "1784b646-12fd-4245-98d4-87b987734179"
      },
      "execution_count": null,
      "outputs": [
        {
          "output_type": "stream",
          "name": "stdout",
          "text": [
            "10\n"
          ]
        }
      ]
    },
    {
      "cell_type": "code",
      "source": [
        "a, b, c = 5,3.2, \"Hello\"\n",
        "print(a,b,c)"
      ],
      "metadata": {
        "colab": {
          "base_uri": "https://localhost:8080/"
        },
        "id": "PNUbApht6bxX",
        "outputId": "bd421bc4-a3e1-4903-a6cd-802cf5672a89"
      },
      "execution_count": null,
      "outputs": [
        {
          "output_type": "stream",
          "name": "stdout",
          "text": [
            "5 3.2 Hello\n"
          ]
        }
      ]
    },
    {
      "cell_type": "markdown",
      "source": [
        "* Numeric:\tint, float, complex\t:holds numeric values\n",
        "* String:\tstr\t:holds sequence of characters\n",
        "* Sequence:\tlist, tuple, range\t:holds collection of items\n",
        "* Mapping:\tdict\t:holds data in key-value pair form\n",
        "* Boolean:\tbool\t:holds either True or False\n",
        "* Set:\tset, frozeenset\t:hold collection of unique items"
      ],
      "metadata": {
        "id": "wsvWE-qO_vl3"
      }
    },
    {
      "cell_type": "code",
      "source": [
        "num = 10\n",
        "type(num)"
      ],
      "metadata": {
        "colab": {
          "base_uri": "https://localhost:8080/"
        },
        "id": "y9FTAz6A63Q-",
        "outputId": "a9d7e893-88d9-4608-eab8-8b369e02369d"
      },
      "execution_count": null,
      "outputs": [
        {
          "output_type": "execute_result",
          "data": {
            "text/plain": [
              "int"
            ]
          },
          "metadata": {},
          "execution_count": 4
        }
      ]
    },
    {
      "cell_type": "code",
      "source": [
        "A = 1"
      ],
      "metadata": {
        "id": "K75kor6OAQ6x"
      },
      "execution_count": null,
      "outputs": []
    },
    {
      "cell_type": "code",
      "source": [
        "D = 1"
      ],
      "metadata": {
        "id": "q0088pm0CTgU"
      },
      "execution_count": null,
      "outputs": []
    },
    {
      "cell_type": "code",
      "source": [
        "A"
      ],
      "metadata": {
        "colab": {
          "base_uri": "https://localhost:8080/"
        },
        "id": "Vtj30e3xCUxW",
        "outputId": "06742cb5-531d-4d30-cac1-9fcf4aa0f7b0"
      },
      "execution_count": null,
      "outputs": [
        {
          "output_type": "execute_result",
          "data": {
            "text/plain": [
              "1"
            ]
          },
          "metadata": {},
          "execution_count": 7
        }
      ]
    },
    {
      "cell_type": "code",
      "source": [
        "D"
      ],
      "metadata": {
        "colab": {
          "base_uri": "https://localhost:8080/"
        },
        "id": "8HP7heBmSWQn",
        "outputId": "c60d828a-aacd-4553-a81c-b9947d5e8944"
      },
      "execution_count": null,
      "outputs": [
        {
          "output_type": "execute_result",
          "data": {
            "text/plain": [
              "1"
            ]
          },
          "metadata": {},
          "execution_count": 8
        }
      ]
    },
    {
      "cell_type": "code",
      "source": [
        "A = 1"
      ],
      "metadata": {
        "id": "mhQ_KyDgSZ26"
      },
      "execution_count": null,
      "outputs": []
    },
    {
      "cell_type": "code",
      "source": [
        "A = 2"
      ],
      "metadata": {
        "id": "YJU6Em5CSbs2"
      },
      "execution_count": null,
      "outputs": []
    },
    {
      "cell_type": "code",
      "source": [
        "A"
      ],
      "metadata": {
        "colab": {
          "base_uri": "https://localhost:8080/"
        },
        "id": "tXNrg0mIVnIW",
        "outputId": "9f2da316-64b2-46d6-c147-ed409e728d3a"
      },
      "execution_count": null,
      "outputs": [
        {
          "output_type": "execute_result",
          "data": {
            "text/plain": [
              "2"
            ]
          },
          "metadata": {},
          "execution_count": 11
        }
      ]
    },
    {
      "cell_type": "markdown",
      "source": [
        "Accessing the list"
      ],
      "metadata": {
        "id": "iquAjamiETca"
      }
    },
    {
      "cell_type": "code",
      "source": [
        "languages = [\"Swift\", \"Java\", \"Python\",\"Java\"]\n",
        "languages[-1]"
      ],
      "metadata": {
        "colab": {
          "base_uri": "https://localhost:8080/",
          "height": 36
        },
        "id": "2CFRrkc2Vo4V",
        "outputId": "dfa8fafc-7a94-442c-f6a5-c1d5509fc786"
      },
      "execution_count": null,
      "outputs": [
        {
          "output_type": "execute_result",
          "data": {
            "text/plain": [
              "'Java'"
            ],
            "application/vnd.google.colaboratory.intrinsic+json": {
              "type": "string"
            }
          },
          "metadata": {},
          "execution_count": 12
        }
      ]
    },
    {
      "cell_type": "markdown",
      "source": [
        "Removing duplicates using set"
      ],
      "metadata": {
        "id": "Lwby-arYEZJh"
      }
    },
    {
      "cell_type": "code",
      "source": [
        "languages = set(languages)"
      ],
      "metadata": {
        "id": "-nLDomtscKkk"
      },
      "execution_count": null,
      "outputs": []
    },
    {
      "cell_type": "code",
      "source": [
        "languages"
      ],
      "metadata": {
        "id": "J_2Iy9c-cmAg",
        "outputId": "315911b3-283b-4e39-be77-d799e91b3eb2",
        "colab": {
          "base_uri": "https://localhost:8080/"
        }
      },
      "execution_count": null,
      "outputs": [
        {
          "output_type": "execute_result",
          "data": {
            "text/plain": [
              "{'Java', 'Python', 'Swift'}"
            ]
          },
          "metadata": {},
          "execution_count": 14
        }
      ]
    },
    {
      "cell_type": "markdown",
      "source": [
        "Find the max value in the following list"
      ],
      "metadata": {
        "id": "H-cMwFlREgAS"
      }
    },
    {
      "cell_type": "code",
      "source": [
        "a = [8,0,3,-5]"
      ],
      "metadata": {
        "id": "8M6JRXtxY173"
      },
      "execution_count": null,
      "outputs": []
    },
    {
      "cell_type": "code",
      "source": [
        "max_val = a[0]\n",
        "for i in a:\n",
        "  if i>max_val:\n",
        "    max_val = i\n",
        "print(max_val)\n"
      ],
      "metadata": {
        "colab": {
          "base_uri": "https://localhost:8080/"
        },
        "id": "gH-cD_-bZiPR",
        "outputId": "280bb1e3-4ccd-4a49-b39b-fafb0edfaec1"
      },
      "execution_count": null,
      "outputs": [
        {
          "output_type": "stream",
          "name": "stdout",
          "text": [
            "8\n"
          ]
        }
      ]
    },
    {
      "cell_type": "code",
      "source": [
        "b = [0,1,2,3]"
      ],
      "metadata": {
        "id": "aidnoJvvZlaK"
      },
      "execution_count": null,
      "outputs": []
    },
    {
      "cell_type": "code",
      "source": [
        "max_val = b[0]\n",
        "for i in b:\n",
        "  if i>max_val:\n",
        "    max_val = i\n",
        "print(max_val)"
      ],
      "metadata": {
        "colab": {
          "base_uri": "https://localhost:8080/"
        },
        "id": "1Rhl2EWebAsV",
        "outputId": "85f19814-1320-4d29-a564-48b3cfe1caa2"
      },
      "execution_count": null,
      "outputs": [
        {
          "output_type": "stream",
          "name": "stdout",
          "text": [
            "3\n"
          ]
        }
      ]
    },
    {
      "cell_type": "code",
      "source": [
        "max_val = b[0]\n",
        "for i in b:\n",
        "  if i>max_val:\n",
        "    max_val = i\n",
        "print(max_val)"
      ],
      "metadata": {
        "colab": {
          "base_uri": "https://localhost:8080/"
        },
        "id": "gYUb6fGAbEVo",
        "outputId": "696fcc74-b507-4472-b523-982b35610904"
      },
      "execution_count": null,
      "outputs": [
        {
          "output_type": "stream",
          "name": "stdout",
          "text": [
            "3\n"
          ]
        }
      ]
    },
    {
      "cell_type": "markdown",
      "source": [
        "Implement rock paper scissor game using loops"
      ],
      "metadata": {
        "id": "0kVxXkWHEn38"
      }
    },
    {
      "cell_type": "code",
      "source": [
        "import random\n",
        "print(\"Welcome to the Rock, Paper, Scissor game!\")\n",
        "\n",
        "options = ['rock','paper','scissor']\n",
        "AI_choice = random.choice(options)\n",
        "Human_choice = input(\"Please choose between rock, paper and scissor:\")\n",
        "\n",
        "print(\"your choice:\",Human_choice)\n",
        "print(\"Computer's choice:\",AI_choice)\n",
        "\n",
        "Human_choice = Human_choice.lower()\n",
        "\n",
        "if Human_choice not in options:\n",
        "  print(\"Invalid input!Choose between rock, paper and scissor\")\n",
        "else:\n",
        "  if Human_choice == AI_choice:\n",
        "    print(\"It's a tie\")\n",
        "  else:\n",
        "    if Human_choice == 'scissor':\n",
        "      if AI_choice == 'paper':\n",
        "        print(\"You win!Scissor cuts paper!\")\n",
        "      else:\n",
        "          print(\"You lose!Rock crushes scissor\")\n",
        "    elif Human_choice == 'rock':\n",
        "      if AI_choice == 'paper':\n",
        "        print(\"You lose!Paper covers the rock\")\n",
        "      else:\n",
        "        print(\"You win!Rock crushes scissor\")\n",
        "    else:\n",
        "      if AI_choice == 'scissor':\n",
        "        print(\"You lose! Scissor cuts the paper\")\n",
        "      else:\n",
        "        print(\"You win!Rock covers the paper\")"
      ],
      "metadata": {
        "colab": {
          "base_uri": "https://localhost:8080/"
        },
        "id": "wJLrnKgdmnbQ",
        "outputId": "ade88eaa-2ec4-4221-8ff6-07caba0377cc"
      },
      "execution_count": null,
      "outputs": [
        {
          "output_type": "stream",
          "name": "stdout",
          "text": [
            "Welcome to the Rock, Paper, Scissor game!\n",
            "Please choose between rock, paper and scissor:scissor\n",
            "your choice: scissor\n",
            "Computer's choice: scissor\n",
            "It's a tie\n"
          ]
        }
      ]
    },
    {
      "cell_type": "markdown",
      "source": [
        "### Note: We can use dictionary to replace multiple if else conditions."
      ],
      "metadata": {
        "id": "sMLS3pZK1S1n"
      }
    },
    {
      "cell_type": "code",
      "source": [
        "import random\n",
        "\n",
        "print(\"Welcome to the Rock, Paper, Scissor game!\")\n",
        "\n",
        "options = ['rock', 'paper', 'scissor']\n",
        "rounds = int(input(\"Enter the number of rounds: \"))\n",
        "human_score = 0\n",
        "computer_score = 0\n",
        "\n",
        "while rounds > 0:\n",
        "    AI_choice = random.choice(options)\n",
        "    Human_choice = input(\"Please choose between rock, paper, and scissor:\").lower()\n",
        "\n",
        "    print(\"Your choice:\", Human_choice)\n",
        "    print(\"Computer's choice:\", AI_choice)\n",
        "\n",
        "    if Human_choice not in options:\n",
        "        print(\"Invalid input! Choose between rock, paper, and scissor\")\n",
        "    else:\n",
        "        outcomes = {\n",
        "            ('rock', 'scissor'): \"You win! Rock crushes scissor\",\n",
        "            ('scissor', 'paper'): \"You win! Scissor cuts paper\",\n",
        "            ('paper', 'rock'): \"You win! Paper covers the rock\",\n",
        "            ('scissor', 'rock'): \"You lose! Rock crushes scissor\",\n",
        "            ('paper', 'scissor'): \"You lose! Scissor cuts paper\",\n",
        "            ('rock', 'paper'): \"You lose! Paper covers the rock\",\n",
        "        }\n",
        "\n",
        "        if Human_choice == AI_choice:\n",
        "            print(\"It's a tie\")\n",
        "        else:\n",
        "            outcome = outcomes.get((Human_choice, AI_choice))\n",
        "            print(outcome)\n",
        "            if \"You win\" in outcome:\n",
        "                human_score += 1\n",
        "            else:\n",
        "                computer_score += 1\n",
        "\n",
        "        rounds -= 1\n",
        "\n",
        "print(\"Game over!\")\n",
        "print(f\"Human Score: {human_score}\")\n",
        "print(f\"Computer Score: {computer_score}\")"
      ],
      "metadata": {
        "colab": {
          "base_uri": "https://localhost:8080/"
        },
        "id": "V2CegWE-E6CL",
        "outputId": "565a113b-2fce-49fa-aa3b-6b3918581d23"
      },
      "execution_count": 2,
      "outputs": [
        {
          "output_type": "stream",
          "name": "stdout",
          "text": [
            "Welcome to the Rock, Paper, Scissor game!\n",
            "Enter the number of rounds: 2\n",
            "Please choose between rock, paper, and scissor:Rock\n",
            "Your choice: rock\n",
            "Computer's choice: scissor\n",
            "You win! Rock crushes scissor\n",
            "Please choose between rock, paper, and scissor:scissor\n",
            "Your choice: scissor\n",
            "Computer's choice: rock\n",
            "You lose! Rock crushes scissor\n",
            "Game over!\n",
            "Human Score: 1\n",
            "Computer Score: 1\n"
          ]
        }
      ]
    },
    {
      "cell_type": "markdown",
      "source": [
        "Using while loop to start and stop a game/ loop"
      ],
      "metadata": {
        "id": "ZIIxsM2zFBfx"
      }
    },
    {
      "cell_type": "code",
      "source": [
        "while input(\"Do you want to play the game? [yes/no]:\").lower() == \"yes\":\n",
        "  print(\"Let's start!\")"
      ],
      "metadata": {
        "id": "xitWnEFDrIlb",
        "colab": {
          "base_uri": "https://localhost:8080/"
        },
        "outputId": "b9a67832-ed58-456a-a5b9-c323613e1001"
      },
      "execution_count": null,
      "outputs": [
        {
          "name": "stdout",
          "output_type": "stream",
          "text": [
            "Do you want to play the game? [yes/no]:No\n"
          ]
        }
      ]
    },
    {
      "cell_type": "markdown",
      "source": [
        "## Intersection of Lists"
      ],
      "metadata": {
        "id": "eipCFen056oc"
      }
    },
    {
      "cell_type": "code",
      "source": [
        "# example list for common elements finding program\n",
        "a = [1, 1, 2, 3, 5, 8, 13, 21, 34, 55, 89]\n",
        "b = [1,1, 2, 3, 4, 5, 6, 7, 8, 9, 10, 11, 12, 13]"
      ],
      "metadata": {
        "id": "WbMRHUHNYjB-"
      },
      "execution_count": null,
      "outputs": []
    },
    {
      "cell_type": "code",
      "source": [
        "b in a"
      ],
      "metadata": {
        "colab": {
          "base_uri": "https://localhost:8080/"
        },
        "id": "YZRPCSKwY2OE",
        "outputId": "a1970217-bf36-42cc-8cf0-b71dba8aea4f"
      },
      "execution_count": null,
      "outputs": [
        {
          "output_type": "execute_result",
          "data": {
            "text/plain": [
              "False"
            ]
          },
          "metadata": {},
          "execution_count": 26
        }
      ]
    },
    {
      "cell_type": "code",
      "source": [
        "for x in b:\n",
        "  if x in a:\n",
        "    print(x)"
      ],
      "metadata": {
        "colab": {
          "base_uri": "https://localhost:8080/"
        },
        "id": "p23t8HlfZfdj",
        "outputId": "cff1dd4c-7f02-47f9-effc-fec96e9a2866"
      },
      "execution_count": null,
      "outputs": [
        {
          "output_type": "stream",
          "name": "stdout",
          "text": [
            "1\n",
            "1\n",
            "2\n",
            "3\n",
            "5\n",
            "8\n",
            "13\n"
          ]
        }
      ]
    },
    {
      "cell_type": "code",
      "source": [
        "list_intersection = [x for x in b if x in a]\n",
        "list_intersection"
      ],
      "metadata": {
        "colab": {
          "base_uri": "https://localhost:8080/"
        },
        "id": "l9iUMlV2aFkV",
        "outputId": "a47ee9e2-52aa-49b3-ae6a-f8935cf85516"
      },
      "execution_count": null,
      "outputs": [
        {
          "output_type": "execute_result",
          "data": {
            "text/plain": [
              "[1, 1, 2, 3, 5, 8, 13]"
            ]
          },
          "metadata": {},
          "execution_count": 28
        }
      ]
    },
    {
      "cell_type": "code",
      "source": [
        "# example list for common elements finding program\n",
        "c = [1, 1, 2,2, 3, 5, 8, 13, 21, 34, 55, 89]\n",
        "d = [1, 1, 2,2, 3, 4, 5, 6, 7, 8, 9, 10, 11, 12, 13]"
      ],
      "metadata": {
        "id": "KImzAw-tf3J0"
      },
      "execution_count": null,
      "outputs": []
    },
    {
      "cell_type": "code",
      "source": [
        "l3 = []\n",
        "[l3.append(x) for x in d if x in c if x not in l3]\n",
        "l3"
      ],
      "metadata": {
        "colab": {
          "base_uri": "https://localhost:8080/"
        },
        "id": "5-X4xg2iw8OQ",
        "outputId": "47d310e8-8676-4dc3-e442-5e1e22714083"
      },
      "execution_count": null,
      "outputs": [
        {
          "output_type": "execute_result",
          "data": {
            "text/plain": [
              "[1, 2, 3, 5, 8, 13]"
            ]
          },
          "metadata": {},
          "execution_count": 30
        }
      ]
    },
    {
      "cell_type": "code",
      "source": [
        "u = [1,2,3,4,5,5]\n",
        "v = [2,3,5,6,4,4]\n",
        "w=[]\n",
        "[w.append(x) for x in v if x in u if x not in w]\n",
        "w"
      ],
      "metadata": {
        "colab": {
          "base_uri": "https://localhost:8080/"
        },
        "id": "GWnzcH2FzTC2",
        "outputId": "3cf3af73-b780-4716-c230-f217a82ed8ef"
      },
      "execution_count": null,
      "outputs": [
        {
          "output_type": "execute_result",
          "data": {
            "text/plain": [
              "[2, 3, 5, 4]"
            ]
          },
          "metadata": {},
          "execution_count": 31
        }
      ]
    },
    {
      "cell_type": "code",
      "source": [
        "a = [1,2,3,4,5]\n",
        "for x in a:\n",
        "  if x==2:\n",
        "    continue\n",
        "  print(x)"
      ],
      "metadata": {
        "colab": {
          "base_uri": "https://localhost:8080/"
        },
        "id": "RmEMOAH12bk5",
        "outputId": "45277e95-11ae-4369-c8f1-671afc574a40"
      },
      "execution_count": null,
      "outputs": [
        {
          "output_type": "stream",
          "name": "stdout",
          "text": [
            "1\n",
            "3\n",
            "4\n",
            "5\n"
          ]
        }
      ]
    },
    {
      "cell_type": "markdown",
      "source": [
        "## Pattern printing"
      ],
      "metadata": {
        "id": "OwaG_W7zWKqV"
      }
    },
    {
      "cell_type": "code",
      "source": [
        "star_string = '****'\n",
        "x=0\n",
        "for i in star_string:\n",
        "  x=x+1\n",
        "  print(star_string[0:x])\n"
      ],
      "metadata": {
        "colab": {
          "base_uri": "https://localhost:8080/"
        },
        "id": "16i4aJh50AQa",
        "outputId": "a599bc61-6ddb-45d0-9ae9-869cbf714942"
      },
      "execution_count": null,
      "outputs": [
        {
          "output_type": "stream",
          "name": "stdout",
          "text": [
            "*\n",
            "**\n",
            "***\n",
            "****\n"
          ]
        }
      ]
    },
    {
      "cell_type": "markdown",
      "source": [
        "Here, we use the slicing method.At first, x = 0. Then it is increased by 1 and the print function prints the string in 0th index. as the x gets increased, number of stars printed will be increased by one."
      ],
      "metadata": {
        "id": "0W9C7ms5WWlm"
      }
    },
    {
      "cell_type": "code",
      "source": [
        "for i in range(1,5):\n",
        "  for j in range(i):\n",
        "    print('*',end='')\n",
        "  print(\"\")\n"
      ],
      "metadata": {
        "colab": {
          "base_uri": "https://localhost:8080/"
        },
        "id": "JdYfl3CJ53jz",
        "outputId": "2f7071e2-16a8-477a-8a2f-b56300bafe28"
      },
      "execution_count": null,
      "outputs": [
        {
          "output_type": "stream",
          "name": "stdout",
          "text": [
            "*\n",
            "**\n",
            "***\n",
            "****\n"
          ]
        }
      ]
    },
    {
      "cell_type": "markdown",
      "source": [
        "It is nested for statement where i takes care of verticle dimension and j takes care of horizontal dimension.\n",
        "\n",
        "Here if i = 1, for j = 1, it prints 1 and then go to the next line. When j =2, it prints 2 two times and so on"
      ],
      "metadata": {
        "id": "Z3xXMEKmXpIl"
      }
    },
    {
      "cell_type": "code",
      "source": [
        "for i in range(1,5):\n",
        "  for j in range(i):\n",
        "    print('*')\n",
        "  print(\"\")"
      ],
      "metadata": {
        "colab": {
          "base_uri": "https://localhost:8080/"
        },
        "id": "LrngdD_aaEN5",
        "outputId": "d44e4919-3182-4c14-cfb1-72ca75fa5043"
      },
      "execution_count": null,
      "outputs": [
        {
          "output_type": "stream",
          "name": "stdout",
          "text": [
            "*\n",
            "\n",
            "*\n",
            "*\n",
            "\n",
            "*\n",
            "*\n",
            "*\n",
            "\n",
            "*\n",
            "*\n",
            "*\n",
            "*\n",
            "\n"
          ]
        }
      ]
    },
    {
      "cell_type": "code",
      "source": [
        "for i in range(0,5):\n",
        "  for j in range(0,i+1):\n",
        "    print(\"* \",end=\"\")\n",
        "  print(\"\")"
      ],
      "metadata": {
        "id": "J2b1riq837nu",
        "colab": {
          "base_uri": "https://localhost:8080/"
        },
        "outputId": "734c5bce-84f0-4566-d714-fdfb963ca986"
      },
      "execution_count": null,
      "outputs": [
        {
          "output_type": "stream",
          "name": "stdout",
          "text": [
            "* \n",
            "* * \n",
            "* * * \n",
            "* * * * \n",
            "* * * * * \n"
          ]
        }
      ]
    },
    {
      "cell_type": "code",
      "source": [
        "for i in range(0,5,1):\n",
        "  for j in range(4,i-1,-1):\n",
        "    print(\"*\",end=\" \")\n",
        "  print(\"  \")"
      ],
      "metadata": {
        "colab": {
          "base_uri": "https://localhost:8080/"
        },
        "id": "Kq6f7roTeHBj",
        "outputId": "e8143826-0e75-49a5-da4c-988027d15327"
      },
      "execution_count": 3,
      "outputs": [
        {
          "output_type": "stream",
          "name": "stdout",
          "text": [
            "* * * * *   \n",
            "* * * *   \n",
            "* * *   \n",
            "* *   \n",
            "*   \n"
          ]
        }
      ]
    },
    {
      "cell_type": "code",
      "source": [
        "for i in range(5,0,-1):\n",
        "  for j in range(5,i-1,-1):\n",
        "    print(\"*\")\n",
        "  print(\"\")"
      ],
      "metadata": {
        "colab": {
          "base_uri": "https://localhost:8080/"
        },
        "id": "3d7OO9Iuuwws",
        "outputId": "24ce0978-ba0b-4964-c0a9-ef9a2f69e58d"
      },
      "execution_count": null,
      "outputs": [
        {
          "output_type": "stream",
          "name": "stdout",
          "text": [
            "*\n",
            "\n",
            "*\n",
            "*\n",
            "\n",
            "*\n",
            "*\n",
            "*\n",
            "\n",
            "*\n",
            "*\n",
            "*\n",
            "*\n",
            "\n",
            "*\n",
            "*\n",
            "*\n",
            "*\n",
            "*\n",
            "\n"
          ]
        }
      ]
    },
    {
      "cell_type": "code",
      "source": [
        "for i in range(1,5):\n",
        "  print('* '*i)"
      ],
      "metadata": {
        "colab": {
          "base_uri": "https://localhost:8080/"
        },
        "id": "Bn2HdEexn9mL",
        "outputId": "4b73b750-45d0-49a3-9cac-50c0b61ee746"
      },
      "execution_count": null,
      "outputs": [
        {
          "output_type": "stream",
          "name": "stdout",
          "text": [
            "* \n",
            "* * \n",
            "* * * \n",
            "* * * * \n"
          ]
        }
      ]
    },
    {
      "cell_type": "code",
      "source": [
        "for i in range(4,0,-1):\n",
        "  print(\"* \"*i)"
      ],
      "metadata": {
        "colab": {
          "base_uri": "https://localhost:8080/"
        },
        "id": "kE65zGEzoBz_",
        "outputId": "e532a767-230a-4fe1-912b-943f16096ba7"
      },
      "execution_count": null,
      "outputs": [
        {
          "output_type": "stream",
          "name": "stdout",
          "text": [
            "* * * * \n",
            "* * * \n",
            "* * \n",
            "* \n"
          ]
        }
      ]
    },
    {
      "cell_type": "code",
      "source": [
        "for i in range"
      ],
      "metadata": {
        "id": "OtD4pS71OEYv"
      },
      "execution_count": null,
      "outputs": []
    },
    {
      "cell_type": "code",
      "source": [
        "List1 = [1,1,2,3,3]\n",
        "List2 = [3,3,2,1,1,4]"
      ],
      "metadata": {
        "id": "jMNOIuAdh4od"
      },
      "execution_count": null,
      "outputs": []
    },
    {
      "cell_type": "markdown",
      "source": [
        "# String task"
      ],
      "metadata": {
        "id": "4yC-qAfSpTeU"
      }
    },
    {
      "cell_type": "code",
      "source": [
        "given_string = \"The quick brown fox jumps over the lazy dog.\""
      ],
      "metadata": {
        "id": "x0X7X0Xz5D32"
      },
      "execution_count": null,
      "outputs": []
    },
    {
      "cell_type": "markdown",
      "source": [
        "## 1. Break down the sentence into the words and save it in a list\n",
        "\n",
        "**The split() function works by scanning the given string or line based on the separator passed as the parameter to the split() function. In case the separator is not passed as a parameter to the split() function, the white spaces in the given string or line are considered as the separator by the split() function.**"
      ],
      "metadata": {
        "id": "gJhaHqzPj9h4"
      }
    },
    {
      "cell_type": "code",
      "source": [
        "string_list = given_string.split()\n",
        "string_list"
      ],
      "metadata": {
        "colab": {
          "base_uri": "https://localhost:8080/"
        },
        "id": "YaiXZG1-Un9r",
        "outputId": "25eed998-5bff-4a32-c037-5391492b79dd"
      },
      "execution_count": null,
      "outputs": [
        {
          "output_type": "execute_result",
          "data": {
            "text/plain": [
              "['The', 'quick', 'brown', 'fox', 'jumps', 'over', 'the', 'lazy', 'dog.']"
            ]
          },
          "metadata": {},
          "execution_count": 42
        }
      ]
    },
    {
      "cell_type": "code",
      "source": [
        "string_list[1]"
      ],
      "metadata": {
        "colab": {
          "base_uri": "https://localhost:8080/",
          "height": 36
        },
        "id": "Y5ZB_hhli5h8",
        "outputId": "004feaa7-d6c0-44f3-c5a1-564ed197e311"
      },
      "execution_count": null,
      "outputs": [
        {
          "output_type": "execute_result",
          "data": {
            "text/plain": [
              "'quick'"
            ],
            "application/vnd.google.colaboratory.intrinsic+json": {
              "type": "string"
            }
          },
          "metadata": {},
          "execution_count": 43
        }
      ]
    },
    {
      "cell_type": "markdown",
      "source": [
        "## 2.Count the words in the given string"
      ],
      "metadata": {
        "id": "OnzIYtbNkh_G"
      }
    },
    {
      "cell_type": "code",
      "source": [
        "len(string_list)"
      ],
      "metadata": {
        "colab": {
          "base_uri": "https://localhost:8080/"
        },
        "id": "YunMFMV7mkbo",
        "outputId": "fc04bbd0-d83a-4410-cd8f-e2e3239456f5"
      },
      "execution_count": null,
      "outputs": [
        {
          "output_type": "execute_result",
          "data": {
            "text/plain": [
              "9"
            ]
          },
          "metadata": {},
          "execution_count": 44
        }
      ]
    },
    {
      "cell_type": "markdown",
      "source": [
        "## 3. Count the number of characters in the string"
      ],
      "metadata": {
        "id": "LVYtK6iooazk"
      }
    },
    {
      "cell_type": "code",
      "source": [
        "len(given_string)"
      ],
      "metadata": {
        "colab": {
          "base_uri": "https://localhost:8080/"
        },
        "id": "kph3RxxQn6y8",
        "outputId": "b6281df5-9f78-4f46-b72c-0be11100c38f"
      },
      "execution_count": null,
      "outputs": [
        {
          "output_type": "execute_result",
          "data": {
            "text/plain": [
              "44"
            ]
          },
          "metadata": {},
          "execution_count": 45
        }
      ]
    },
    {
      "cell_type": "markdown",
      "source": [
        "## 4. Make first letter of each word capital"
      ],
      "metadata": {
        "id": "ca8QUB3nqk5s"
      }
    },
    {
      "cell_type": "code",
      "source": [
        "given_string.title()"
      ],
      "metadata": {
        "colab": {
          "base_uri": "https://localhost:8080/",
          "height": 36
        },
        "id": "mqz3paHjqiQb",
        "outputId": "f17a261f-1904-47d6-d4cb-331b56a2f341"
      },
      "execution_count": null,
      "outputs": [
        {
          "output_type": "execute_result",
          "data": {
            "text/plain": [
              "'The Quick Brown Fox Jumps Over The Lazy Dog.'"
            ],
            "application/vnd.google.colaboratory.intrinsic+json": {
              "type": "string"
            }
          },
          "metadata": {},
          "execution_count": 46
        }
      ]
    },
    {
      "cell_type": "code",
      "source": [
        "import string\n",
        "name = \"god's plan is good\"\n",
        "string.capwords(name)"
      ],
      "metadata": {
        "colab": {
          "base_uri": "https://localhost:8080/",
          "height": 36
        },
        "id": "XuJeeNbCmZXq",
        "outputId": "8e035fe0-6730-40f1-f573-6e15a8ba56c3"
      },
      "execution_count": null,
      "outputs": [
        {
          "output_type": "execute_result",
          "data": {
            "text/plain": [
              "\"God's Plan Is Good\""
            ],
            "application/vnd.google.colaboratory.intrinsic+json": {
              "type": "string"
            }
          },
          "metadata": {},
          "execution_count": 47
        }
      ]
    },
    {
      "cell_type": "code",
      "source": [
        "name2 = \"prajnya*infokalash here\"\n",
        "name2.title()"
      ],
      "metadata": {
        "colab": {
          "base_uri": "https://localhost:8080/",
          "height": 36
        },
        "id": "O2UV3aHHG5hC",
        "outputId": "ca6a1246-8464-4499-94ac-10fba121676d"
      },
      "execution_count": null,
      "outputs": [
        {
          "output_type": "execute_result",
          "data": {
            "text/plain": [
              "'Prajnya*Infokalash Here'"
            ],
            "application/vnd.google.colaboratory.intrinsic+json": {
              "type": "string"
            }
          },
          "metadata": {},
          "execution_count": 16
        }
      ]
    },
    {
      "cell_type": "markdown",
      "source": [
        "## 5. Print all the unique letters present in the given string"
      ],
      "metadata": {
        "id": "Cmr9mTHZqwfN"
      }
    },
    {
      "cell_type": "code",
      "source": [
        "new_string = []\n",
        "for i in given_string.casefold():\n",
        "  if i.isalpha() == True and i not in new_string:\n",
        "    new_string.append(i)\n",
        "print(new_string)\n",
        "print(len(new_string))\n",
        "print(sorted(new_string))"
      ],
      "metadata": {
        "colab": {
          "base_uri": "https://localhost:8080/"
        },
        "id": "0c8t9l6Bw3ck",
        "outputId": "74a54ca5-3678-49d1-fb0b-6774f7f6c768"
      },
      "execution_count": null,
      "outputs": [
        {
          "output_type": "stream",
          "name": "stdout",
          "text": [
            "['t', 'h', 'e', 'q', 'u', 'i', 'c', 'k', 'b', 'r', 'o', 'w', 'n', 'f', 'x', 'j', 'm', 'p', 's', 'v', 'l', 'a', 'z', 'y', 'd', 'g']\n",
            "26\n",
            "['a', 'b', 'c', 'd', 'e', 'f', 'g', 'h', 'i', 'j', 'k', 'l', 'm', 'n', 'o', 'p', 'q', 'r', 's', 't', 'u', 'v', 'w', 'x', 'y', 'z']\n"
          ]
        }
      ]
    },
    {
      "cell_type": "code",
      "source": [
        "var = sorted(new_string)\n",
        "print(var)"
      ],
      "metadata": {
        "colab": {
          "base_uri": "https://localhost:8080/"
        },
        "id": "2J1HBMtDz2Hr",
        "outputId": "6fcf6e80-b031-44ff-8fae-8a721dd6b3f7"
      },
      "execution_count": null,
      "outputs": [
        {
          "output_type": "stream",
          "name": "stdout",
          "text": [
            "['a', 'b', 'c', 'd', 'e', 'f', 'g', 'h', 'i', 'j', 'k', 'l', 'm', 'n', 'o', 'p', 'q', 'r', 's', 't', 'u', 'v', 'w', 'x', 'y', 'z']\n"
          ]
        }
      ]
    },
    {
      "cell_type": "code",
      "source": [
        "sorted(['the','hello'],reverse=True)"
      ],
      "metadata": {
        "colab": {
          "base_uri": "https://localhost:8080/"
        },
        "id": "R6j0Asi-0R5V",
        "outputId": "b0c6e08b-bc8f-4328-dad1-4d9292f9f91d"
      },
      "execution_count": null,
      "outputs": [
        {
          "output_type": "execute_result",
          "data": {
            "text/plain": [
              "['the', 'hello']"
            ]
          },
          "metadata": {},
          "execution_count": 50
        }
      ]
    },
    {
      "cell_type": "code",
      "source": [
        "Quote = \"Food is good here.\"\n",
        "unique_let = []\n",
        "for i in Quote.lower():\n",
        "  if i.isalpha() == True and i not in unique_let:\n",
        "    unique_let.append(i)\n",
        "\n",
        "print(unique_let)\n",
        "print(len(unique_let))\n",
        "print(sorted(unique_let))"
      ],
      "metadata": {
        "colab": {
          "base_uri": "https://localhost:8080/"
        },
        "id": "R1I0WDsf3Xtj",
        "outputId": "b42e55c5-44b8-41de-eabf-750d42b0ebe5"
      },
      "execution_count": null,
      "outputs": [
        {
          "output_type": "stream",
          "name": "stdout",
          "text": [
            "['f', 'o', 'd', 'i', 's', 'g', 'h', 'e', 'r']\n",
            "9\n",
            "['d', 'e', 'f', 'g', 'h', 'i', 'o', 'r', 's']\n"
          ]
        }
      ]
    },
    {
      "cell_type": "markdown",
      "source": [
        "## 6. Save a word in a variable, replace any one of the letter into another"
      ],
      "metadata": {
        "id": "Z_QigmX_w2sJ"
      }
    },
    {
      "cell_type": "code",
      "source": [
        "word_1 = string_list[1]\n",
        "word_1[3]"
      ],
      "metadata": {
        "colab": {
          "base_uri": "https://localhost:8080/",
          "height": 36
        },
        "id": "j4kpnkgOjFsI",
        "outputId": "6d1a1c6e-2803-467a-df9e-0f1fd8c8fb7e"
      },
      "execution_count": null,
      "outputs": [
        {
          "output_type": "execute_result",
          "data": {
            "text/plain": [
              "'c'"
            ],
            "application/vnd.google.colaboratory.intrinsic+json": {
              "type": "string"
            }
          },
          "metadata": {},
          "execution_count": 53
        }
      ]
    },
    {
      "cell_type": "code",
      "source": [
        "word_1[3] = 'd'"
      ],
      "metadata": {
        "colab": {
          "base_uri": "https://localhost:8080/",
          "height": 175
        },
        "id": "90gC0FlejW5w",
        "outputId": "94514a0b-33e8-4fe7-cebe-eb99a28467e3"
      },
      "execution_count": null,
      "outputs": [
        {
          "output_type": "error",
          "ename": "TypeError",
          "evalue": "ignored",
          "traceback": [
            "\u001b[0;31m---------------------------------------------------------------------------\u001b[0m",
            "\u001b[0;31mTypeError\u001b[0m                                 Traceback (most recent call last)",
            "\u001b[0;32m<ipython-input-54-89ebe9d23355>\u001b[0m in \u001b[0;36m<cell line: 1>\u001b[0;34m()\u001b[0m\n\u001b[0;32m----> 1\u001b[0;31m \u001b[0mword_1\u001b[0m\u001b[0;34m[\u001b[0m\u001b[0;36m3\u001b[0m\u001b[0;34m]\u001b[0m \u001b[0;34m=\u001b[0m \u001b[0;34m'd'\u001b[0m\u001b[0;34m\u001b[0m\u001b[0;34m\u001b[0m\u001b[0m\n\u001b[0m",
            "\u001b[0;31mTypeError\u001b[0m: 'str' object does not support item assignment"
          ]
        }
      ]
    },
    {
      "cell_type": "code",
      "source": [
        "word_1.replace('c','d')"
      ],
      "metadata": {
        "colab": {
          "base_uri": "https://localhost:8080/",
          "height": 36
        },
        "id": "qyqTVKiwjfDj",
        "outputId": "97e02e0b-cfcb-44d9-f395-049a93d8f16d"
      },
      "execution_count": null,
      "outputs": [
        {
          "output_type": "execute_result",
          "data": {
            "text/plain": [
              "'quidk'"
            ],
            "application/vnd.google.colaboratory.intrinsic+json": {
              "type": "string"
            }
          },
          "metadata": {},
          "execution_count": 55
        }
      ]
    },
    {
      "cell_type": "code",
      "source": [
        "given_string.replace('o','a')"
      ],
      "metadata": {
        "colab": {
          "base_uri": "https://localhost:8080/",
          "height": 36
        },
        "id": "v9PwgzLBj2kT",
        "outputId": "7349f63b-d4b1-4b96-da3b-40f18abb5ac2"
      },
      "execution_count": null,
      "outputs": [
        {
          "output_type": "execute_result",
          "data": {
            "text/plain": [
              "'The quick brawn fax jumps aver the lazy dag.'"
            ],
            "application/vnd.google.colaboratory.intrinsic+json": {
              "type": "string"
            }
          },
          "metadata": {},
          "execution_count": 56
        }
      ]
    },
    {
      "cell_type": "code",
      "source": [
        "given_string.replace('o','a',1)"
      ],
      "metadata": {
        "colab": {
          "base_uri": "https://localhost:8080/",
          "height": 36
        },
        "id": "pJSZ2XC46odT",
        "outputId": "ff698fab-ca01-4642-f684-f4c3f98c1e29"
      },
      "execution_count": null,
      "outputs": [
        {
          "output_type": "execute_result",
          "data": {
            "text/plain": [
              "'The quick brawn fox jumps over the lazy dog.'"
            ],
            "application/vnd.google.colaboratory.intrinsic+json": {
              "type": "string"
            }
          },
          "metadata": {},
          "execution_count": 57
        }
      ]
    },
    {
      "cell_type": "code",
      "source": [
        "given_string"
      ],
      "metadata": {
        "colab": {
          "base_uri": "https://localhost:8080/",
          "height": 36
        },
        "id": "4fGu4NeTlSlu",
        "outputId": "27933b07-a679-4cd6-820c-ead8f1807130"
      },
      "execution_count": null,
      "outputs": [
        {
          "output_type": "execute_result",
          "data": {
            "text/plain": [
              "'The quick brown fox jumps over the lazy dog.'"
            ],
            "application/vnd.google.colaboratory.intrinsic+json": {
              "type": "string"
            }
          },
          "metadata": {},
          "execution_count": 58
        }
      ]
    },
    {
      "cell_type": "code",
      "source": [
        "given_string.replace('lazy','weak')"
      ],
      "metadata": {
        "colab": {
          "base_uri": "https://localhost:8080/",
          "height": 36
        },
        "id": "iDE_-OmPk52E",
        "outputId": "5f6e5845-e0e7-4bde-8d3b-42e3f57660d6"
      },
      "execution_count": null,
      "outputs": [
        {
          "output_type": "execute_result",
          "data": {
            "text/plain": [
              "'The quick brown fox jumps over the weak dog.'"
            ],
            "application/vnd.google.colaboratory.intrinsic+json": {
              "type": "string"
            }
          },
          "metadata": {},
          "execution_count": 59
        }
      ]
    },
    {
      "cell_type": "markdown",
      "source": [
        "## 7. If a word contains odd no. of letters, then change the first letter into the capital. Else print the word"
      ],
      "metadata": {
        "id": "DhZ11MHmzVb3"
      }
    },
    {
      "cell_type": "code",
      "source": [
        "words_with_even_no_of_letters = []\n",
        "words_with_odd_no_of_letters=[]\n",
        "for x in string_list:\n",
        "  if len(x)%2 == 0:\n",
        "    words_with_even_no_of_letters.append(x)\n",
        "  else:\n",
        "    words_with_odd_no_of_letters.append(x.capitalize())\n",
        "print(words_with_even_no_of_letters)\n",
        "print(words_with_odd_no_of_letters)"
      ],
      "metadata": {
        "colab": {
          "base_uri": "https://localhost:8080/"
        },
        "id": "2Dc7l_YU0SX9",
        "outputId": "77267cd5-deca-4ff1-b59f-220d85abdda1"
      },
      "execution_count": null,
      "outputs": [
        {
          "output_type": "stream",
          "name": "stdout",
          "text": [
            "['over', 'lazy', 'dog.']\n",
            "['The', 'Quick', 'Brown', 'Fox', 'Jumps', 'The']\n"
          ]
        }
      ]
    },
    {
      "cell_type": "code",
      "source": [
        "#With user control\n",
        "print(\"Please enter a number between 0 to 9 to guess the number or press exit to leave the game\")\n",
        "\n",
        "import random\n",
        "secret_number = random.randint(0,9)  #randint is inclusive of maximum number\n",
        "\n",
        "count = 0\n",
        "while True:\n",
        "  user_input = input()\n",
        "\n",
        "  if user_input.lower() == 'exit':\n",
        "    print(\"Thanks for playing the game!The secret number was \",secret_number)\n",
        "    break\n",
        "  elif user_input.isalpha():\n",
        "    print(\"invalid input! please select the number in the range 0 to 9\")\n",
        "    #continue\n",
        "  else:\n",
        "    user_input = int(user_input)\n",
        "    count+=1\n",
        "    if user_input not in range(0,10): #range is exclusive of max number\n",
        "      print(\"Invalid input!Please choose the number in the range 0 to 9\")\n",
        "    else:\n",
        "      if user_input == secret_number:\n",
        "        print(\"Well done!It's a correct number, you took {} iterations to guess the correct number\".format(count))\n",
        "        break\n",
        "      elif secret_number > user_input:\n",
        "        print(\"My number is bigger than\", user_input)\n",
        "      else:\n",
        "        print(\"My number is lesser than\",user_input)"
      ],
      "metadata": {
        "id": "gN6KdEzR2gy6",
        "colab": {
          "base_uri": "https://localhost:8080/"
        },
        "outputId": "b7bddf65-51dd-4a7d-bc7a-d5d48edcc752"
      },
      "execution_count": null,
      "outputs": [
        {
          "output_type": "stream",
          "name": "stdout",
          "text": [
            "Please enter a number between 0 to 9 to guess the number or press exit to leave the game\n",
            "fvf\n",
            "invalid input! please select the number in the range 0 to 9\n",
            "exit\n",
            "Thanks for playing the game!The secret number was  9\n"
          ]
        }
      ]
    },
    {
      "cell_type": "code",
      "source": [
        "#Without user control\n",
        "print(\"Please enter a number between 0 to 9 to guess the number or press exit to leave the game\")\n",
        "\n",
        "import random\n",
        "secret_number = random.randint(0,9)  #randint is inclusive of maximum number\n",
        "\n",
        "count = 0\n",
        "while True:\n",
        "  user_input = input()\n",
        "\n",
        "  if user_input.isalpha():\n",
        "    print(\"invalid input! please select the number in the range 0 to 9\")\n",
        "    #continue\n",
        "  else:\n",
        "    user_input = int(user_input)\n",
        "    count+=1\n",
        "    if user_input not in range(0,10): #range is exclusive of max number\n",
        "      print(\"Invalid input!Please choose the number in the range 0 to 9\")\n",
        "    else:\n",
        "      if user_input == secret_number:\n",
        "        print(\"Well done!It's a correct number, you took {} iterations to guess the correct number\".format(count))\n",
        "        break\n",
        "      elif secret_number > user_input:\n",
        "        print(\"My number is bigger than\", user_input)\n",
        "      else:\n",
        "        print(\"My number is lesser than\",user_input)"
      ],
      "metadata": {
        "colab": {
          "base_uri": "https://localhost:8080/"
        },
        "id": "0VxDjPB220ue",
        "outputId": "1b8e5202-5824-4338-a931-f9b4432318e6"
      },
      "execution_count": null,
      "outputs": [
        {
          "output_type": "stream",
          "name": "stdout",
          "text": [
            "Please enter a number between 0 to 9 to guess the number or press exit to leave the game\n",
            "exit\n",
            "invalid input! please select the number in the range 0 to 9\n",
            "0\n",
            "My number is bigger than 0\n",
            "1\n",
            "My number is bigger than 1\n",
            "2\n",
            "My number is bigger than 2\n",
            "4\n",
            "My number is bigger than 4\n",
            "7\n",
            "My number is bigger than 7\n",
            "9\n",
            "My number is lesser than 9\n",
            "8\n",
            "Well done!It's a correct number, you took 7 iterations to guess the correct number\n"
          ]
        }
      ]
    },
    {
      "cell_type": "code",
      "source": [
        "import random"
      ],
      "metadata": {
        "id": "D5iRZWfm5JPL"
      },
      "execution_count": null,
      "outputs": []
    },
    {
      "cell_type": "code",
      "source": [
        "secret_num2 = random.randint(0,10)\n",
        "secret_num2"
      ],
      "metadata": {
        "colab": {
          "base_uri": "https://localhost:8080/"
        },
        "id": "qPVSWaou5MWY",
        "outputId": "e27060c8-6559-419a-8cf4-4bd95498bd44"
      },
      "execution_count": null,
      "outputs": [
        {
          "output_type": "execute_result",
          "data": {
            "text/plain": [
              "6"
            ]
          },
          "metadata": {},
          "execution_count": 3
        }
      ]
    },
    {
      "cell_type": "code",
      "source": [
        "count1 = 0\n",
        "count1+=1"
      ],
      "metadata": {
        "id": "qdpXVLnM6vRP"
      },
      "execution_count": null,
      "outputs": []
    },
    {
      "cell_type": "code",
      "source": [
        "count1"
      ],
      "metadata": {
        "colab": {
          "base_uri": "https://localhost:8080/"
        },
        "id": "vwgF8p7K-vjd",
        "outputId": "b3603773-3edb-4816-863a-b8269d83e85d"
      },
      "execution_count": null,
      "outputs": [
        {
          "output_type": "execute_result",
          "data": {
            "text/plain": [
              "1"
            ]
          },
          "metadata": {},
          "execution_count": 8
        }
      ]
    },
    {
      "cell_type": "code",
      "source": [
        "try:\n",
        "  x = int(input())\n",
        "except:\n",
        "  print(\"invalid input\")"
      ],
      "metadata": {
        "colab": {
          "base_uri": "https://localhost:8080/"
        },
        "id": "o2UHLuXS-wp3",
        "outputId": "3a4b9c76-1e5a-4ccc-8f47-50cd7c2eb544"
      },
      "execution_count": null,
      "outputs": [
        {
          "output_type": "stream",
          "name": "stdout",
          "text": [
            "kfhf\n",
            "invalid input\n"
          ]
        }
      ]
    },
    {
      "cell_type": "code",
      "source": [
        "name = \"A\"\n",
        "name.isalpha()"
      ],
      "metadata": {
        "colab": {
          "base_uri": "https://localhost:8080/"
        },
        "id": "UZdtmDjYyeu0",
        "outputId": "9747e25b-04f5-40ec-dc28-825e6c453919"
      },
      "execution_count": null,
      "outputs": [
        {
          "output_type": "execute_result",
          "data": {
            "text/plain": [
              "True"
            ]
          },
          "metadata": {},
          "execution_count": 8
        }
      ]
    },
    {
      "cell_type": "markdown",
      "source": [
        "# Unit testing in Python"
      ],
      "metadata": {
        "id": "eYskN2qgR5bY"
      }
    },
    {
      "cell_type": "markdown",
      "source": [],
      "metadata": {
        "id": "6L5ePPzfR9kx"
      }
    },
    {
      "cell_type": "code",
      "source": [
        "\"\"\"Example of writing a test subject\"\"\"\n",
        "def sum(xs: list[float]) -> float:\n",
        "  \"\"\"Compute the sum of a list.\"\"\"\n",
        "  return -1.0"
      ],
      "metadata": {
        "id": "r_lykA69Ql3N"
      },
      "execution_count": null,
      "outputs": []
    },
    {
      "cell_type": "code",
      "source": [
        "sum([1.0,2.0,3.0])"
      ],
      "metadata": {
        "colab": {
          "base_uri": "https://localhost:8080/"
        },
        "id": "C96so5-LTg3b",
        "outputId": "923f965d-1020-4001-fea7-a797a86ff833"
      },
      "execution_count": null,
      "outputs": [
        {
          "output_type": "execute_result",
          "data": {
            "text/plain": [
              "-1.0"
            ]
          },
          "metadata": {},
          "execution_count": 2
        }
      ]
    },
    {
      "cell_type": "code",
      "source": [
        "sum([])"
      ],
      "metadata": {
        "colab": {
          "base_uri": "https://localhost:8080/"
        },
        "id": "vx6bfFhUTkzl",
        "outputId": "a05d6fe8-5b2f-40be-d5d2-21a61e62a68d"
      },
      "execution_count": null,
      "outputs": [
        {
          "output_type": "execute_result",
          "data": {
            "text/plain": [
              "-1.0"
            ]
          },
          "metadata": {},
          "execution_count": 4
        }
      ]
    },
    {
      "cell_type": "code",
      "source": [
        "# Addition operator for string data type gives the concatenated string\n",
        "a : str = \"5\"\n",
        "b : str = \"3\"\n",
        "print(a + b)"
      ],
      "metadata": {
        "id": "oHZyW733Tlg8",
        "colab": {
          "base_uri": "https://localhost:8080/"
        },
        "outputId": "219f5d5f-a293-45d3-896d-713ba92500d0"
      },
      "execution_count": null,
      "outputs": [
        {
          "output_type": "stream",
          "name": "stdout",
          "text": [
            "53\n"
          ]
        }
      ]
    },
    {
      "cell_type": "code",
      "source": [
        "#Multiplication of integers gives the product of two numbers\n",
        "num1 : int = 100\n",
        "num2 : int = 2\n",
        "print(num1*num2)"
      ],
      "metadata": {
        "colab": {
          "base_uri": "https://localhost:8080/"
        },
        "id": "g34kwkeMaI39",
        "outputId": "d8691c87-6f96-4064-ab5e-bcfb37b50a60"
      },
      "execution_count": null,
      "outputs": [
        {
          "output_type": "stream",
          "name": "stdout",
          "text": [
            "200\n"
          ]
        }
      ]
    },
    {
      "cell_type": "code",
      "source": [
        "\"lo\" + (\"l\"*100)"
      ],
      "metadata": {
        "colab": {
          "base_uri": "https://localhost:8080/",
          "height": 53
        },
        "id": "ky5gD8mnm-cV",
        "outputId": "d2b17d10-10a8-4732-de4e-b8aad7b5fc37"
      },
      "execution_count": null,
      "outputs": [
        {
          "output_type": "execute_result",
          "data": {
            "text/plain": [
              "'lollllllllllllllllllllllllllllllllllllllllllllllllllllllllllllllllllllllllllllllllllllllllllllllllllll'"
            ],
            "application/vnd.google.colaboratory.intrinsic+json": {
              "type": "string"
            }
          },
          "metadata": {},
          "execution_count": 4
        }
      ]
    },
    {
      "cell_type": "code",
      "source": [
        "a = 100\n",
        "b = \"ab\"\n",
        "a+b"
      ],
      "metadata": {
        "colab": {
          "base_uri": "https://localhost:8080/",
          "height": 210
        },
        "id": "dDKw6kv0nzYX",
        "outputId": "8e6035a1-932e-4b37-f1e1-b452f9c76fff"
      },
      "execution_count": null,
      "outputs": [
        {
          "output_type": "error",
          "ename": "TypeError",
          "evalue": "ignored",
          "traceback": [
            "\u001b[0;31m---------------------------------------------------------------------------\u001b[0m",
            "\u001b[0;31mTypeError\u001b[0m                                 Traceback (most recent call last)",
            "\u001b[0;32m<ipython-input-6-82d27fe7a6b6>\u001b[0m in \u001b[0;36m<cell line: 3>\u001b[0;34m()\u001b[0m\n\u001b[1;32m      1\u001b[0m \u001b[0ma\u001b[0m \u001b[0;34m=\u001b[0m \u001b[0;36m100\u001b[0m\u001b[0;34m\u001b[0m\u001b[0;34m\u001b[0m\u001b[0m\n\u001b[1;32m      2\u001b[0m \u001b[0mb\u001b[0m \u001b[0;34m=\u001b[0m \u001b[0;34m\"ab\"\u001b[0m\u001b[0;34m\u001b[0m\u001b[0;34m\u001b[0m\u001b[0m\n\u001b[0;32m----> 3\u001b[0;31m \u001b[0ma\u001b[0m\u001b[0;34m+\u001b[0m\u001b[0mb\u001b[0m\u001b[0;34m\u001b[0m\u001b[0;34m\u001b[0m\u001b[0m\n\u001b[0m",
            "\u001b[0;31mTypeError\u001b[0m: unsupported operand type(s) for +: 'int' and 'str'"
          ]
        }
      ]
    },
    {
      "cell_type": "code",
      "source": [
        "a = \"100\"\n",
        "b = \"2\""
      ],
      "metadata": {
        "id": "aHF4mAqeovBL"
      },
      "execution_count": null,
      "outputs": []
    },
    {
      "cell_type": "code",
      "source": [
        "a/b"
      ],
      "metadata": {
        "colab": {
          "base_uri": "https://localhost:8080/",
          "height": 175
        },
        "id": "bCdYIOibpSoA",
        "outputId": "5bd96785-633b-44a7-cd92-b8c4d4ce06f9"
      },
      "execution_count": null,
      "outputs": [
        {
          "output_type": "error",
          "ename": "TypeError",
          "evalue": "ignored",
          "traceback": [
            "\u001b[0;31m---------------------------------------------------------------------------\u001b[0m",
            "\u001b[0;31mTypeError\u001b[0m                                 Traceback (most recent call last)",
            "\u001b[0;32m<ipython-input-8-aae42d317509>\u001b[0m in \u001b[0;36m<cell line: 1>\u001b[0;34m()\u001b[0m\n\u001b[0;32m----> 1\u001b[0;31m \u001b[0ma\u001b[0m\u001b[0;34m/\u001b[0m\u001b[0mb\u001b[0m\u001b[0;34m\u001b[0m\u001b[0;34m\u001b[0m\u001b[0m\n\u001b[0m",
            "\u001b[0;31mTypeError\u001b[0m: unsupported operand type(s) for /: 'str' and 'str'"
          ]
        }
      ]
    },
    {
      "cell_type": "code",
      "source": [
        "a = 100\n",
        "b = 3\n",
        "print(a/b)\n",
        "print(a//b)"
      ],
      "metadata": {
        "colab": {
          "base_uri": "https://localhost:8080/"
        },
        "id": "j4QQR13hpTlc",
        "outputId": "3418f435-ea15-4ed2-a835-d6a7a2d34383"
      },
      "execution_count": null,
      "outputs": [
        {
          "output_type": "stream",
          "name": "stdout",
          "text": [
            "33.333333333333336\n",
            "33\n"
          ]
        }
      ]
    },
    {
      "cell_type": "code",
      "source": [
        "c = 10.3\n",
        "\n",
        "print(c//b)"
      ],
      "metadata": {
        "colab": {
          "base_uri": "https://localhost:8080/"
        },
        "id": "o9xTbg3lqZbe",
        "outputId": "37889c11-09fc-42b9-e316-dd250e77b4ae"
      },
      "execution_count": null,
      "outputs": [
        {
          "output_type": "stream",
          "name": "stdout",
          "text": [
            "3.0\n"
          ]
        }
      ]
    },
    {
      "cell_type": "code",
      "source": [
        "print(c/b)"
      ],
      "metadata": {
        "colab": {
          "base_uri": "https://localhost:8080/"
        },
        "id": "xGhQzez3qgXm",
        "outputId": "41884dd5-0231-4a52-a7d4-d4d71ddb443d"
      },
      "execution_count": null,
      "outputs": [
        {
          "output_type": "stream",
          "name": "stdout",
          "text": [
            "3.4333333333333336\n"
          ]
        }
      ]
    },
    {
      "cell_type": "code",
      "source": [
        "x = 5\n",
        "y = 3\n",
        "x ==y"
      ],
      "metadata": {
        "colab": {
          "base_uri": "https://localhost:8080/"
        },
        "id": "W5D58g-XrmaO",
        "outputId": "f8f7cce3-6b4e-4123-8031-c497234ebb4c"
      },
      "execution_count": null,
      "outputs": [
        {
          "output_type": "execute_result",
          "data": {
            "text/plain": [
              "False"
            ]
          },
          "metadata": {},
          "execution_count": 14
        }
      ]
    },
    {
      "cell_type": "code",
      "source": [
        "x <=y"
      ],
      "metadata": {
        "colab": {
          "base_uri": "https://localhost:8080/"
        },
        "id": "F8Y7TosNxNpk",
        "outputId": "c8fff2b5-7553-4ccc-94c5-95457e02045e"
      },
      "execution_count": null,
      "outputs": [
        {
          "output_type": "execute_result",
          "data": {
            "text/plain": [
              "False"
            ]
          },
          "metadata": {},
          "execution_count": 15
        }
      ]
    },
    {
      "cell_type": "code",
      "source": [
        "x >=y"
      ],
      "metadata": {
        "colab": {
          "base_uri": "https://localhost:8080/"
        },
        "id": "bNbUaORmxPS2",
        "outputId": "122225df-56eb-43fa-95d1-1f91c477fb95"
      },
      "execution_count": null,
      "outputs": [
        {
          "output_type": "execute_result",
          "data": {
            "text/plain": [
              "True"
            ]
          },
          "metadata": {},
          "execution_count": 16
        }
      ]
    },
    {
      "cell_type": "code",
      "source": [
        "x!= y"
      ],
      "metadata": {
        "id": "VgprHAh3xRh1",
        "outputId": "3f4e5990-7c21-4fa8-e58e-04e5bb3c79fe",
        "colab": {
          "base_uri": "https://localhost:8080/"
        }
      },
      "execution_count": null,
      "outputs": [
        {
          "output_type": "execute_result",
          "data": {
            "text/plain": [
              "True"
            ]
          },
          "metadata": {},
          "execution_count": 18
        }
      ]
    },
    {
      "cell_type": "code",
      "source": [
        "sky = \"dark\"\n",
        "if sky != \"light\":\n",
        "\tprint(\"It's night already!\")"
      ],
      "metadata": {
        "id": "FD321yrbxUIG",
        "colab": {
          "base_uri": "https://localhost:8080/"
        },
        "outputId": "1aa936a2-f1d5-4b2b-a9d0-c9c5cab5815b"
      },
      "execution_count": null,
      "outputs": [
        {
          "output_type": "stream",
          "name": "stdout",
          "text": [
            "It's night already!\n"
          ]
        }
      ]
    },
    {
      "cell_type": "code",
      "source": [
        "is_rainy = input(\"Enter True if there is rain. Otherwise enter false:\\n\")\n",
        "if is_rainy != False:\n",
        "  print(\"Take the raincoat or umbrella\")"
      ],
      "metadata": {
        "colab": {
          "base_uri": "https://localhost:8080/"
        },
        "id": "PsTFNO1Anu9m",
        "outputId": "e7cd91df-f6fa-47b6-a8e5-b6c0ec4e2e61"
      },
      "execution_count": null,
      "outputs": [
        {
          "output_type": "stream",
          "name": "stdout",
          "text": [
            "Enter True if there is rain. Otherwise enter false:\n",
            "False\n",
            "Take the raincoat or umbrella\n"
          ]
        }
      ]
    },
    {
      "cell_type": "code",
      "source": [
        "shop_is_closed = False #if shop is closed, set it to true\n",
        "if not shop_is_closed:\n",
        "  print(\"The shop is open! Welcome any time!!\")"
      ],
      "metadata": {
        "id": "6LPwnjM7rb86"
      },
      "execution_count": null,
      "outputs": []
    },
    {
      "cell_type": "code",
      "source": [
        "age = int(input(\"Enter your age:\"))\n",
        "has_vip_pass = True  #change it to false if you don't have\n",
        "\n",
        "if age >= 18 and has_vip_pass:\n",
        "  print(\"Welcome to the party! Enjoy your time!!\")\n",
        "else:\n",
        "  print(\"Sorry, you can not enter the party!\")"
      ],
      "metadata": {
        "colab": {
          "base_uri": "https://localhost:8080/"
        },
        "id": "-1_oJ35dtHFK",
        "outputId": "c672ffda-013a-46a0-f0ab-c04d6de650a0"
      },
      "execution_count": null,
      "outputs": [
        {
          "output_type": "stream",
          "name": "stdout",
          "text": [
            "Enter your age:15\n",
            "Sorry, you can not enter the party!\n"
          ]
        }
      ]
    },
    {
      "cell_type": "code",
      "source": [
        "# Get user input for weather conditions\n",
        "#We will learn about .lower() in furthur chapters\n",
        "is_raining = input(\"Is it raining? (yes or no): \").lower()\n",
        "is_windy = input(\"Is it windy? (yes or no): \").lower()\n",
        "\n",
        "# Check if it's suitable to bring an umbrella using the OR operator\n",
        "if is_raining == \"yes\" or is_windy == \"yes\":\n",
        "    print(\"Bring an umbrella with you!\")\n",
        "else:\n",
        "    print(\"You don't need an umbrella today.\")"
      ],
      "metadata": {
        "colab": {
          "base_uri": "https://localhost:8080/"
        },
        "id": "5d0UJsBYuGHH",
        "outputId": "dddee5ce-e6a6-46f0-dff0-d17ae99efdb8"
      },
      "execution_count": null,
      "outputs": [
        {
          "output_type": "stream",
          "name": "stdout",
          "text": [
            "Is it raining? (yes or no): Yes\n",
            "Is it windy? (yes or no): No\n",
            "Bring an umbrella with you!\n"
          ]
        }
      ]
    },
    {
      "cell_type": "code",
      "source": [],
      "metadata": {
        "id": "uqAzneHsu50w"
      },
      "execution_count": null,
      "outputs": []
    }
  ]
}