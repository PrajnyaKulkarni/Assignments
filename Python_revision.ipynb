{
  "nbformat": 4,
  "nbformat_minor": 0,
  "metadata": {
    "colab": {
      "provenance": [],
      "authorship_tag": "ABX9TyNURxCiGj8ruIvF74XWNIqA",
      "include_colab_link": true
    },
    "kernelspec": {
      "name": "python3",
      "display_name": "Python 3"
    },
    "language_info": {
      "name": "python"
    }
  },
  "cells": [
    {
      "cell_type": "markdown",
      "metadata": {
        "id": "view-in-github",
        "colab_type": "text"
      },
      "source": [
        "<a href=\"https://colab.research.google.com/github/PrajnyaKulkarni/Assignments/blob/main/Python_revision.ipynb\" target=\"_parent\"><img src=\"https://colab.research.google.com/assets/colab-badge.svg\" alt=\"Open In Colab\"/></a>"
      ]
    },
    {
      "cell_type": "code",
      "source": [
        "#Print statement\n",
        "print(\"Hi!My name is Prajnya\")"
      ],
      "metadata": {
        "id": "Zb-7rCW1ieiP",
        "colab": {
          "base_uri": "https://localhost:8080/"
        },
        "outputId": "6c23cd16-5e1c-4fc2-8b7a-af4d1054c3a3"
      },
      "execution_count": null,
      "outputs": [
        {
          "output_type": "stream",
          "name": "stdout",
          "text": [
            "Hi!My name is Prajnya\n"
          ]
        }
      ]
    },
    {
      "cell_type": "markdown",
      "source": [
        "Keywords are predefined, reserved words used in Python programming\n",
        "that have special meanings to the compiler. For example : if, else, True, None etc.,\n",
        "\n",
        "Identifiers : Name given to the variable\n",
        "\n",
        "Variables : Containers to store the data\n",
        "Eg : number = 10 = Number is the variable holding the value 10\n",
        "\n",
        "\n"
      ],
      "metadata": {
        "id": "R1OWaLy73FED"
      }
    },
    {
      "cell_type": "code",
      "source": [
        "number = 10\n",
        "print(number)"
      ],
      "metadata": {
        "colab": {
          "base_uri": "https://localhost:8080/"
        },
        "id": "HA9SYj9w3fzB",
        "outputId": "e387b732-a855-4028-b8b4-f3ac6516a3d5"
      },
      "execution_count": null,
      "outputs": [
        {
          "output_type": "stream",
          "name": "stdout",
          "text": [
            "10\n"
          ]
        }
      ]
    },
    {
      "cell_type": "code",
      "source": [
        "a, b, c = 5,3.2, \"Hello\"\n",
        "print(a,b,c)"
      ],
      "metadata": {
        "colab": {
          "base_uri": "https://localhost:8080/"
        },
        "id": "PNUbApht6bxX",
        "outputId": "4fd03ee0-52eb-4f88-c85e-dd4b7335a836"
      },
      "execution_count": null,
      "outputs": [
        {
          "output_type": "stream",
          "name": "stdout",
          "text": [
            "5 3.2 Hello\n"
          ]
        }
      ]
    },
    {
      "cell_type": "markdown",
      "source": [
        "* Numeric:\tint, float, complex\t:holds numeric values\n",
        "* String:\tstr\t:holds sequence of characters\n",
        "* Sequence:\tlist, tuple, range\t:holds collection of items\n",
        "* Mapping:\tdict\t:holds data in key-value pair form\n",
        "* Boolean:\tbool\t:holds either True or False\n",
        "* Set:\tset, frozeenset\t:hold collection of unique items"
      ],
      "metadata": {
        "id": "wsvWE-qO_vl3"
      }
    },
    {
      "cell_type": "code",
      "source": [
        "num = 10\n",
        "type(num)"
      ],
      "metadata": {
        "colab": {
          "base_uri": "https://localhost:8080/"
        },
        "id": "y9FTAz6A63Q-",
        "outputId": "14e8e93c-1c67-4e9c-95d9-7fe91aeb4673"
      },
      "execution_count": null,
      "outputs": [
        {
          "output_type": "execute_result",
          "data": {
            "text/plain": [
              "int"
            ]
          },
          "metadata": {},
          "execution_count": 4
        }
      ]
    },
    {
      "cell_type": "code",
      "source": [
        "A = 1"
      ],
      "metadata": {
        "id": "K75kor6OAQ6x"
      },
      "execution_count": null,
      "outputs": []
    },
    {
      "cell_type": "code",
      "source": [
        "D = 1"
      ],
      "metadata": {
        "id": "q0088pm0CTgU"
      },
      "execution_count": null,
      "outputs": []
    },
    {
      "cell_type": "code",
      "source": [
        "A"
      ],
      "metadata": {
        "colab": {
          "base_uri": "https://localhost:8080/"
        },
        "id": "Vtj30e3xCUxW",
        "outputId": "b9a81247-4f03-47e9-9208-e4607cc4d7d9"
      },
      "execution_count": null,
      "outputs": [
        {
          "output_type": "execute_result",
          "data": {
            "text/plain": [
              "1"
            ]
          },
          "metadata": {},
          "execution_count": 7
        }
      ]
    },
    {
      "cell_type": "code",
      "source": [
        "D"
      ],
      "metadata": {
        "colab": {
          "base_uri": "https://localhost:8080/"
        },
        "id": "8HP7heBmSWQn",
        "outputId": "9dd9e904-2e12-452c-d896-6acefffa4815"
      },
      "execution_count": null,
      "outputs": [
        {
          "output_type": "execute_result",
          "data": {
            "text/plain": [
              "1"
            ]
          },
          "metadata": {},
          "execution_count": 8
        }
      ]
    },
    {
      "cell_type": "code",
      "source": [
        "A = 1"
      ],
      "metadata": {
        "id": "mhQ_KyDgSZ26"
      },
      "execution_count": null,
      "outputs": []
    },
    {
      "cell_type": "code",
      "source": [
        "A = 2"
      ],
      "metadata": {
        "id": "YJU6Em5CSbs2"
      },
      "execution_count": null,
      "outputs": []
    },
    {
      "cell_type": "code",
      "source": [
        "A"
      ],
      "metadata": {
        "colab": {
          "base_uri": "https://localhost:8080/"
        },
        "id": "tXNrg0mIVnIW",
        "outputId": "1bdd87e4-8674-4f8f-8e45-a81c6b559776"
      },
      "execution_count": null,
      "outputs": [
        {
          "output_type": "execute_result",
          "data": {
            "text/plain": [
              "2"
            ]
          },
          "metadata": {},
          "execution_count": 11
        }
      ]
    },
    {
      "cell_type": "markdown",
      "source": [
        "Accessing the list"
      ],
      "metadata": {
        "id": "iquAjamiETca"
      }
    },
    {
      "cell_type": "code",
      "source": [
        "languages = [\"Swift\", \"Java\", \"Python\",\"Java\"]\n",
        "languages[-1]"
      ],
      "metadata": {
        "colab": {
          "base_uri": "https://localhost:8080/",
          "height": 36
        },
        "id": "2CFRrkc2Vo4V",
        "outputId": "c6795dae-77dc-4d67-8dd9-5b97f90b2d85"
      },
      "execution_count": null,
      "outputs": [
        {
          "output_type": "execute_result",
          "data": {
            "text/plain": [
              "'Java'"
            ],
            "application/vnd.google.colaboratory.intrinsic+json": {
              "type": "string"
            }
          },
          "metadata": {},
          "execution_count": 12
        }
      ]
    },
    {
      "cell_type": "markdown",
      "source": [
        "Removing duplicates using set"
      ],
      "metadata": {
        "id": "Lwby-arYEZJh"
      }
    },
    {
      "cell_type": "code",
      "source": [
        "languages = set(languages)"
      ],
      "metadata": {
        "id": "-nLDomtscKkk"
      },
      "execution_count": null,
      "outputs": []
    },
    {
      "cell_type": "code",
      "source": [
        "languages"
      ],
      "metadata": {
        "id": "J_2Iy9c-cmAg",
        "outputId": "ffc3f810-0c93-4234-f876-5ae68c9cddee",
        "colab": {
          "base_uri": "https://localhost:8080/"
        }
      },
      "execution_count": null,
      "outputs": [
        {
          "output_type": "execute_result",
          "data": {
            "text/plain": [
              "{'Java', 'Python', 'Swift'}"
            ]
          },
          "metadata": {},
          "execution_count": 14
        }
      ]
    },
    {
      "cell_type": "markdown",
      "source": [
        "Find the max value in the following list"
      ],
      "metadata": {
        "id": "H-cMwFlREgAS"
      }
    },
    {
      "cell_type": "code",
      "source": [
        "a = [8,0,3,-5]"
      ],
      "metadata": {
        "id": "8M6JRXtxY173"
      },
      "execution_count": null,
      "outputs": []
    },
    {
      "cell_type": "code",
      "source": [
        "max_val = a[0]\n",
        "for i in a:\n",
        "  if i>max_val:\n",
        "    max_val = i\n",
        "print(max_val)\n"
      ],
      "metadata": {
        "colab": {
          "base_uri": "https://localhost:8080/"
        },
        "id": "gH-cD_-bZiPR",
        "outputId": "dabba9b2-6aac-457e-9d42-3b75f553b460"
      },
      "execution_count": null,
      "outputs": [
        {
          "output_type": "stream",
          "name": "stdout",
          "text": [
            "8\n"
          ]
        }
      ]
    },
    {
      "cell_type": "code",
      "source": [
        "b = [0,1,2,3]"
      ],
      "metadata": {
        "id": "aidnoJvvZlaK"
      },
      "execution_count": null,
      "outputs": []
    },
    {
      "cell_type": "code",
      "source": [
        "max_val = b[0]\n",
        "for i in b:\n",
        "  if i>max_val:\n",
        "    max_val = i\n",
        "print(max_val)"
      ],
      "metadata": {
        "colab": {
          "base_uri": "https://localhost:8080/"
        },
        "id": "1Rhl2EWebAsV",
        "outputId": "e3286ded-a982-4988-b074-65079d1b13b4"
      },
      "execution_count": null,
      "outputs": [
        {
          "output_type": "stream",
          "name": "stdout",
          "text": [
            "3\n"
          ]
        }
      ]
    },
    {
      "cell_type": "code",
      "source": [
        "max_val = b[0]\n",
        "for i in b:\n",
        "  if i>max_val:\n",
        "    max_val = i\n",
        "print(max_val)"
      ],
      "metadata": {
        "colab": {
          "base_uri": "https://localhost:8080/"
        },
        "id": "gYUb6fGAbEVo",
        "outputId": "b1c32c48-13fc-427c-a737-86495be03a97"
      },
      "execution_count": null,
      "outputs": [
        {
          "output_type": "stream",
          "name": "stdout",
          "text": [
            "3\n"
          ]
        }
      ]
    },
    {
      "cell_type": "markdown",
      "source": [
        "Implement rock paper scissor game using loops"
      ],
      "metadata": {
        "id": "0kVxXkWHEn38"
      }
    },
    {
      "cell_type": "code",
      "source": [
        "import random\n",
        "print(\"Welcome to the Rock, Paper, Scissor game!\")\n",
        "\n",
        "options = ['rock','paper','scissor']\n",
        "AI_choice = random.choice(options)\n",
        "Human_choice = input(\"Please choose between rock, paper and scissor:\")\n",
        "\n",
        "print(\"your choice:\",Human_choice)\n",
        "print(\"Computer's choice:\",AI_choice)\n",
        "\n",
        "Human_choice = Human_choice.lower()\n",
        "\n",
        "if Human_choice not in options:\n",
        "  print(\"Invalid input!Choose between rock, paper and scissor\")\n",
        "else:\n",
        "  if Human_choice == AI_choice:\n",
        "    print(\"It's a tie\")\n",
        "  else:\n",
        "    if Human_choice == 'scissor':\n",
        "      if AI_choice == 'paper':\n",
        "        print(\"You win!Scissor cuts paper!\")\n",
        "      else:\n",
        "          print(\"You lose!Rock crushes scissor\")\n",
        "    elif Human_choice == 'rock':\n",
        "      if AI_choice == 'paper':\n",
        "        print(\"You lose!Paper covers the rock\")\n",
        "      else:\n",
        "        print(\"You win!Rock crushes scissor\")\n",
        "    else:\n",
        "      if AI_choice == 'scissor':\n",
        "        print(\"You lose! Scissor cuts the paper\")\n",
        "      else:\n",
        "        print(\"You win!Rock covers the paper\")"
      ],
      "metadata": {
        "colab": {
          "base_uri": "https://localhost:8080/"
        },
        "id": "wJLrnKgdmnbQ",
        "outputId": "11d4b32a-eb4c-4f77-e2ca-263e7f4ca64e"
      },
      "execution_count": null,
      "outputs": [
        {
          "output_type": "stream",
          "name": "stdout",
          "text": [
            "Welcome to the Rock, Paper, Scissor game!\n",
            "Please choose between rock, paper and scissor:rock\n",
            "your choice: rock\n",
            "Computer's choice: scissor\n",
            "You win!Rock crushes scissor\n"
          ]
        }
      ]
    },
    {
      "cell_type": "markdown",
      "source": [
        "### Note: We can use dictionary to replace multiple if else conditions."
      ],
      "metadata": {
        "id": "sMLS3pZK1S1n"
      }
    },
    {
      "cell_type": "code",
      "source": [
        "import random\n",
        "\n",
        "print(\"Welcome to the Rock, Paper, Scissor game!\")\n",
        "\n",
        "options = ['rock', 'paper', 'scissor']\n",
        "rounds = int(input(\"Enter the number of rounds: \"))\n",
        "human_score = 0\n",
        "computer_score = 0\n",
        "\n",
        "while rounds > 0:\n",
        "    AI_choice = random.choice(options)\n",
        "    Human_choice = input(\"Please choose between rock, paper, and scissor:\").lower()\n",
        "\n",
        "    print(\"Your choice:\", Human_choice)\n",
        "    print(\"Computer's choice:\", AI_choice)\n",
        "\n",
        "    if Human_choice not in options:\n",
        "        print(\"Invalid input! Choose between rock, paper, and scissor\")\n",
        "    else:\n",
        "        outcomes = {\n",
        "            ('rock', 'scissor'): \"You win! Rock crushes scissor\",\n",
        "            ('scissor', 'paper'): \"You win! Scissor cuts paper\",\n",
        "            ('paper', 'rock'): \"You win! Paper covers the rock\",\n",
        "            ('scissor', 'rock'): \"You lose! Rock crushes scissor\",\n",
        "            ('paper', 'scissor'): \"You lose! Scissor cuts paper\",\n",
        "            ('rock', 'paper'): \"You lose! Paper covers the rock\",\n",
        "        }\n",
        "\n",
        "        if Human_choice == AI_choice:\n",
        "            print(\"It's a tie\")\n",
        "        else:\n",
        "            outcome = outcomes.get((Human_choice, AI_choice))\n",
        "            print(outcome)\n",
        "            if \"You win\" in outcome:\n",
        "                human_score += 1\n",
        "            else:\n",
        "                computer_score += 1\n",
        "\n",
        "        rounds -= 1\n",
        "\n",
        "print(\"Game over!\")\n",
        "print(f\"Human Score: {human_score}\")\n",
        "print(f\"Computer Score: {computer_score}\")"
      ],
      "metadata": {
        "colab": {
          "base_uri": "https://localhost:8080/"
        },
        "id": "V2CegWE-E6CL",
        "outputId": "af2e5cd3-2d45-4d02-a38a-be14045f6005"
      },
      "execution_count": null,
      "outputs": [
        {
          "output_type": "stream",
          "name": "stdout",
          "text": [
            "Welcome to the Rock, Paper, Scissor game!\n",
            "Enter the number of rounds: 2\n",
            "Please choose between rock, paper, and scissor:scissor\n",
            "Your choice: scissor\n",
            "Computer's choice: rock\n",
            "You lose! Rock crushes scissor\n",
            "Please choose between rock, paper, and scissor:rock\n",
            "Your choice: rock\n",
            "Computer's choice: rock\n",
            "It's a tie\n",
            "Game over!\n",
            "Human Score: 0\n",
            "Computer Score: 1\n"
          ]
        }
      ]
    },
    {
      "cell_type": "markdown",
      "source": [
        "Using while loop to start and stop a game/ loop"
      ],
      "metadata": {
        "id": "ZIIxsM2zFBfx"
      }
    },
    {
      "cell_type": "code",
      "source": [
        "while input(\"Do you want to play the game? [yes/no]:\").lower() == \"yes\":\n",
        "  print(\"Let's start!\")"
      ],
      "metadata": {
        "id": "xitWnEFDrIlb",
        "colab": {
          "base_uri": "https://localhost:8080/"
        },
        "outputId": "b11a8ddc-f2e9-42af-abe7-25add4047273"
      },
      "execution_count": null,
      "outputs": [
        {
          "name": "stdout",
          "output_type": "stream",
          "text": [
            "Do you want to play the game? [yes/no]:no\n"
          ]
        }
      ]
    },
    {
      "cell_type": "markdown",
      "source": [
        "## Intersection of Lists"
      ],
      "metadata": {
        "id": "eipCFen056oc"
      }
    },
    {
      "cell_type": "code",
      "source": [
        "# example list for common elements finding program\n",
        "a = [1, 1, 2, 3, 5, 8, 13, 21, 34, 55, 89]\n",
        "b = [1,1, 2, 3, 4, 5, 6, 7, 8, 9, 10, 11, 12, 13]"
      ],
      "metadata": {
        "id": "WbMRHUHNYjB-"
      },
      "execution_count": null,
      "outputs": []
    },
    {
      "cell_type": "code",
      "source": [
        "b in a"
      ],
      "metadata": {
        "colab": {
          "base_uri": "https://localhost:8080/"
        },
        "id": "YZRPCSKwY2OE",
        "outputId": "9ce48e91-ea67-4109-a382-915a8d57506b"
      },
      "execution_count": null,
      "outputs": [
        {
          "output_type": "execute_result",
          "data": {
            "text/plain": [
              "False"
            ]
          },
          "metadata": {},
          "execution_count": 24
        }
      ]
    },
    {
      "cell_type": "code",
      "source": [
        "for x in b:\n",
        "  if x in a:\n",
        "    print(x)"
      ],
      "metadata": {
        "colab": {
          "base_uri": "https://localhost:8080/"
        },
        "id": "p23t8HlfZfdj",
        "outputId": "88e1c593-3f8d-449c-d99f-7008a0f9d621"
      },
      "execution_count": null,
      "outputs": [
        {
          "output_type": "stream",
          "name": "stdout",
          "text": [
            "1\n",
            "1\n",
            "2\n",
            "3\n",
            "5\n",
            "8\n",
            "13\n"
          ]
        }
      ]
    },
    {
      "cell_type": "code",
      "source": [
        "list_intersection = [x for x in b if x in a]\n",
        "list_intersection"
      ],
      "metadata": {
        "colab": {
          "base_uri": "https://localhost:8080/"
        },
        "id": "l9iUMlV2aFkV",
        "outputId": "58261721-5579-48a4-d97b-30545a3b2cf5"
      },
      "execution_count": null,
      "outputs": [
        {
          "output_type": "execute_result",
          "data": {
            "text/plain": [
              "[1, 1, 2, 3, 5, 8, 13]"
            ]
          },
          "metadata": {},
          "execution_count": 26
        }
      ]
    },
    {
      "cell_type": "code",
      "source": [
        "# example list for common elements finding program\n",
        "c = [1, 1, 2,2, 3, 5, 8, 13, 21, 34, 55, 89]\n",
        "d = [1, 1, 2,2, 3, 4, 5, 6, 7, 8, 9, 10, 11, 12, 13]"
      ],
      "metadata": {
        "id": "KImzAw-tf3J0"
      },
      "execution_count": null,
      "outputs": []
    },
    {
      "cell_type": "code",
      "source": [
        "l3 = []\n",
        "[l3.append(x) for x in d if x in c if x not in l3]\n",
        "l3"
      ],
      "metadata": {
        "colab": {
          "base_uri": "https://localhost:8080/"
        },
        "id": "5-X4xg2iw8OQ",
        "outputId": "9a357d92-b93d-4cc9-dbf6-833df9995af3"
      },
      "execution_count": null,
      "outputs": [
        {
          "output_type": "execute_result",
          "data": {
            "text/plain": [
              "[1, 2, 3, 5, 8, 13]"
            ]
          },
          "metadata": {},
          "execution_count": 28
        }
      ]
    },
    {
      "cell_type": "code",
      "source": [
        "u = [1,2,3,4,5,5]\n",
        "v = [2,3,5,6,4,4]\n",
        "w=[]\n",
        "[w.append(x) for x in v if x in u if x not in w]\n",
        "w"
      ],
      "metadata": {
        "colab": {
          "base_uri": "https://localhost:8080/"
        },
        "id": "GWnzcH2FzTC2",
        "outputId": "b75c2bbf-34d8-4b0e-d2ca-198f36f602f7"
      },
      "execution_count": null,
      "outputs": [
        {
          "output_type": "execute_result",
          "data": {
            "text/plain": [
              "[2, 3, 5, 4]"
            ]
          },
          "metadata": {},
          "execution_count": 29
        }
      ]
    },
    {
      "cell_type": "code",
      "source": [
        "a = [1,2,3,4,5]\n",
        "for x in a:\n",
        "  if x==2:\n",
        "    continue\n",
        "  print(x)"
      ],
      "metadata": {
        "colab": {
          "base_uri": "https://localhost:8080/"
        },
        "id": "RmEMOAH12bk5",
        "outputId": "3e48bdd4-ae62-4fb2-87ab-6cd21747d9fc"
      },
      "execution_count": null,
      "outputs": [
        {
          "output_type": "stream",
          "name": "stdout",
          "text": [
            "1\n",
            "3\n",
            "4\n",
            "5\n"
          ]
        }
      ]
    },
    {
      "cell_type": "markdown",
      "source": [
        "## Pattern printing"
      ],
      "metadata": {
        "id": "OwaG_W7zWKqV"
      }
    },
    {
      "cell_type": "code",
      "source": [
        "star_string = '****'\n",
        "x=0\n",
        "for i in star_string:\n",
        "  x=x+1\n",
        "  print(star_string[0:x])\n"
      ],
      "metadata": {
        "colab": {
          "base_uri": "https://localhost:8080/"
        },
        "id": "16i4aJh50AQa",
        "outputId": "ce0d2fa7-394e-4586-9ff5-beb3bd9e8d46"
      },
      "execution_count": null,
      "outputs": [
        {
          "output_type": "stream",
          "name": "stdout",
          "text": [
            "*\n",
            "**\n",
            "***\n",
            "****\n"
          ]
        }
      ]
    },
    {
      "cell_type": "markdown",
      "source": [
        "Here, we use the slicing method.At first, x = 0. Then it is increased by 1 and the print function prints the string in 0th index. as the x gets increased, number of stars printed will be increased by one."
      ],
      "metadata": {
        "id": "0W9C7ms5WWlm"
      }
    },
    {
      "cell_type": "code",
      "source": [
        "for i in range(1,5):\n",
        "  for j in range(i):\n",
        "    print('*',end='')\n",
        "  print(\"\")\n"
      ],
      "metadata": {
        "colab": {
          "base_uri": "https://localhost:8080/"
        },
        "id": "JdYfl3CJ53jz",
        "outputId": "f823c9da-1b5a-4a82-9ce9-113714e8ba02"
      },
      "execution_count": null,
      "outputs": [
        {
          "output_type": "stream",
          "name": "stdout",
          "text": [
            "*\n",
            "**\n",
            "***\n",
            "****\n"
          ]
        }
      ]
    },
    {
      "cell_type": "markdown",
      "source": [
        "It is nested for statement where i takes care of verticle dimension and j takes care of horizontal dimension.\n",
        "\n",
        "Here if i = 1, for j = 1, it prints 1 and then go to the next line. When j =2, it prints 2 two times and so on"
      ],
      "metadata": {
        "id": "Z3xXMEKmXpIl"
      }
    },
    {
      "cell_type": "code",
      "source": [
        "for i in range(1,5):\n",
        "  for j in range(i):\n",
        "    print('*')\n",
        "  print(\"\")"
      ],
      "metadata": {
        "colab": {
          "base_uri": "https://localhost:8080/"
        },
        "id": "LrngdD_aaEN5",
        "outputId": "edc2bd33-ce47-41fb-ec23-d06bf71eba2a"
      },
      "execution_count": null,
      "outputs": [
        {
          "output_type": "stream",
          "name": "stdout",
          "text": [
            "*\n",
            "\n",
            "*\n",
            "*\n",
            "\n",
            "*\n",
            "*\n",
            "*\n",
            "\n",
            "*\n",
            "*\n",
            "*\n",
            "*\n",
            "\n"
          ]
        }
      ]
    },
    {
      "cell_type": "code",
      "source": [
        "for i in range(0,5):\n",
        "  for j in range(0,i+1):\n",
        "    print(\"* \",end=\"\")\n",
        "  print(\"\")"
      ],
      "metadata": {
        "id": "J2b1riq837nu",
        "colab": {
          "base_uri": "https://localhost:8080/"
        },
        "outputId": "fce7daaf-0cb3-4579-8bce-1b03bff40d25"
      },
      "execution_count": null,
      "outputs": [
        {
          "output_type": "stream",
          "name": "stdout",
          "text": [
            "* \n",
            "* * \n",
            "* * * \n",
            "* * * * \n",
            "* * * * * \n"
          ]
        }
      ]
    },
    {
      "cell_type": "code",
      "source": [
        "for i in range(0,5,1):\n",
        "  for j in range(4,i-1,-1):\n",
        "    print(\"*\",end=\" \")\n",
        "  print(\"  \")"
      ],
      "metadata": {
        "colab": {
          "base_uri": "https://localhost:8080/"
        },
        "id": "Kq6f7roTeHBj",
        "outputId": "9285900d-6477-434d-d304-feeaf659a009"
      },
      "execution_count": null,
      "outputs": [
        {
          "output_type": "stream",
          "name": "stdout",
          "text": [
            "* * * * *   \n",
            "* * * *   \n",
            "* * *   \n",
            "* *   \n",
            "*   \n"
          ]
        }
      ]
    },
    {
      "cell_type": "code",
      "source": [
        "for i in range(5,0,-1):\n",
        "  for j in range(5,i-1,-1):\n",
        "    print(\"*\")\n",
        "  print(\"\")"
      ],
      "metadata": {
        "colab": {
          "base_uri": "https://localhost:8080/"
        },
        "id": "3d7OO9Iuuwws",
        "outputId": "35650c3f-02ab-4c18-d41c-dccb37061174"
      },
      "execution_count": null,
      "outputs": [
        {
          "output_type": "stream",
          "name": "stdout",
          "text": [
            "*\n",
            "\n",
            "*\n",
            "*\n",
            "\n",
            "*\n",
            "*\n",
            "*\n",
            "\n",
            "*\n",
            "*\n",
            "*\n",
            "*\n",
            "\n",
            "*\n",
            "*\n",
            "*\n",
            "*\n",
            "*\n",
            "\n"
          ]
        }
      ]
    },
    {
      "cell_type": "code",
      "source": [
        "for i in range(1,5):\n",
        "  print('* '*i)"
      ],
      "metadata": {
        "colab": {
          "base_uri": "https://localhost:8080/"
        },
        "id": "Bn2HdEexn9mL",
        "outputId": "a37bcf6a-249c-43a9-afe7-ae5b502d5ae7"
      },
      "execution_count": null,
      "outputs": [
        {
          "output_type": "stream",
          "name": "stdout",
          "text": [
            "* \n",
            "* * \n",
            "* * * \n",
            "* * * * \n"
          ]
        }
      ]
    },
    {
      "cell_type": "code",
      "source": [
        "for i in range(4,0,-1):\n",
        "  print(\"* \"*i)"
      ],
      "metadata": {
        "colab": {
          "base_uri": "https://localhost:8080/"
        },
        "id": "kE65zGEzoBz_",
        "outputId": "134d1f4c-ea8f-45cd-fbb8-8374d19d2427"
      },
      "execution_count": null,
      "outputs": [
        {
          "output_type": "stream",
          "name": "stdout",
          "text": [
            "* * * * \n",
            "* * * \n",
            "* * \n",
            "* \n"
          ]
        }
      ]
    },
    {
      "cell_type": "code",
      "source": [
        "for i in range"
      ],
      "metadata": {
        "id": "OtD4pS71OEYv",
        "colab": {
          "base_uri": "https://localhost:8080/",
          "height": 140
        },
        "outputId": "0ab6853d-ad86-4c08-a4c8-5ee5a1e76558"
      },
      "execution_count": null,
      "outputs": [
        {
          "output_type": "error",
          "ename": "SyntaxError",
          "evalue": "ignored",
          "traceback": [
            "\u001b[0;36m  File \u001b[0;32m\"<ipython-input-39-acc22d963e15>\"\u001b[0;36m, line \u001b[0;32m1\u001b[0m\n\u001b[0;31m    for i in range\u001b[0m\n\u001b[0m                  ^\u001b[0m\n\u001b[0;31mSyntaxError\u001b[0m\u001b[0;31m:\u001b[0m expected ':'\n"
          ]
        }
      ]
    },
    {
      "cell_type": "code",
      "source": [
        "List1 = [1,1,2,3,3]\n",
        "List2 = [3,3,2,1,1,4]"
      ],
      "metadata": {
        "id": "jMNOIuAdh4od"
      },
      "execution_count": null,
      "outputs": []
    },
    {
      "cell_type": "markdown",
      "source": [
        "# String task"
      ],
      "metadata": {
        "id": "4yC-qAfSpTeU"
      }
    },
    {
      "cell_type": "code",
      "source": [
        "given_string = \"The quick brown fox jumps over the lazy dog.\""
      ],
      "metadata": {
        "id": "x0X7X0Xz5D32"
      },
      "execution_count": null,
      "outputs": []
    },
    {
      "cell_type": "markdown",
      "source": [
        "## 1. Break down the sentence into the words and save it in a list\n",
        "\n",
        "**The split() function works by scanning the given string or line based on the separator passed as the parameter to the split() function. In case the separator is not passed as a parameter to the split() function, the white spaces in the given string or line are considered as the separator by the split() function.**"
      ],
      "metadata": {
        "id": "gJhaHqzPj9h4"
      }
    },
    {
      "cell_type": "code",
      "source": [
        "string_list = given_string.split()\n",
        "string_list"
      ],
      "metadata": {
        "colab": {
          "base_uri": "https://localhost:8080/"
        },
        "id": "YaiXZG1-Un9r",
        "outputId": "135a1f4d-7d5a-493c-d9f9-29eaacb957d6"
      },
      "execution_count": null,
      "outputs": [
        {
          "output_type": "execute_result",
          "data": {
            "text/plain": [
              "['The', 'quick', 'brown', 'fox', 'jumps', 'over', 'the', 'lazy', 'dog.']"
            ]
          },
          "metadata": {},
          "execution_count": 42
        }
      ]
    },
    {
      "cell_type": "code",
      "source": [
        "string_list[1]"
      ],
      "metadata": {
        "colab": {
          "base_uri": "https://localhost:8080/",
          "height": 36
        },
        "id": "Y5ZB_hhli5h8",
        "outputId": "4286054a-3d2d-4533-8e47-23a8bf86284a"
      },
      "execution_count": null,
      "outputs": [
        {
          "output_type": "execute_result",
          "data": {
            "text/plain": [
              "'quick'"
            ],
            "application/vnd.google.colaboratory.intrinsic+json": {
              "type": "string"
            }
          },
          "metadata": {},
          "execution_count": 43
        }
      ]
    },
    {
      "cell_type": "markdown",
      "source": [
        "## 2.Count the words in the given string"
      ],
      "metadata": {
        "id": "OnzIYtbNkh_G"
      }
    },
    {
      "cell_type": "code",
      "source": [
        "len(string_list)"
      ],
      "metadata": {
        "colab": {
          "base_uri": "https://localhost:8080/"
        },
        "id": "YunMFMV7mkbo",
        "outputId": "7a690679-5eb3-4909-d445-0fe8083fdfdf"
      },
      "execution_count": null,
      "outputs": [
        {
          "output_type": "execute_result",
          "data": {
            "text/plain": [
              "9"
            ]
          },
          "metadata": {},
          "execution_count": 44
        }
      ]
    },
    {
      "cell_type": "markdown",
      "source": [
        "## 3. Count the number of characters in the string"
      ],
      "metadata": {
        "id": "LVYtK6iooazk"
      }
    },
    {
      "cell_type": "code",
      "source": [
        "len(given_string)"
      ],
      "metadata": {
        "colab": {
          "base_uri": "https://localhost:8080/"
        },
        "id": "kph3RxxQn6y8",
        "outputId": "1b80fe4f-4571-433c-823a-65351263b18d"
      },
      "execution_count": null,
      "outputs": [
        {
          "output_type": "execute_result",
          "data": {
            "text/plain": [
              "44"
            ]
          },
          "metadata": {},
          "execution_count": 46
        }
      ]
    },
    {
      "cell_type": "markdown",
      "source": [
        "## 4. Make first letter of each word capital"
      ],
      "metadata": {
        "id": "ca8QUB3nqk5s"
      }
    },
    {
      "cell_type": "code",
      "source": [
        "given_string.title()"
      ],
      "metadata": {
        "colab": {
          "base_uri": "https://localhost:8080/",
          "height": 36
        },
        "id": "mqz3paHjqiQb",
        "outputId": "90d3df00-3c20-4509-82c5-10d77edfe88d"
      },
      "execution_count": null,
      "outputs": [
        {
          "output_type": "execute_result",
          "data": {
            "text/plain": [
              "'The Quick Brown Fox Jumps Over The Lazy Dog.'"
            ],
            "application/vnd.google.colaboratory.intrinsic+json": {
              "type": "string"
            }
          },
          "metadata": {},
          "execution_count": 45
        }
      ]
    },
    {
      "cell_type": "code",
      "source": [
        "import string\n",
        "name = \"god's plan is good\"\n",
        "string.capwords(name)"
      ],
      "metadata": {
        "colab": {
          "base_uri": "https://localhost:8080/",
          "height": 36
        },
        "id": "XuJeeNbCmZXq",
        "outputId": "2c4fb922-745c-421e-b722-d9a430ead8c5"
      },
      "execution_count": null,
      "outputs": [
        {
          "output_type": "execute_result",
          "data": {
            "text/plain": [
              "\"God's Plan Is Good\""
            ],
            "application/vnd.google.colaboratory.intrinsic+json": {
              "type": "string"
            }
          },
          "metadata": {},
          "execution_count": 47
        }
      ]
    },
    {
      "cell_type": "code",
      "source": [
        "name2 = \"prajnya*infokalash here\"\n",
        "name2.title()"
      ],
      "metadata": {
        "colab": {
          "base_uri": "https://localhost:8080/",
          "height": 36
        },
        "id": "O2UV3aHHG5hC",
        "outputId": "5277a2a8-602e-449d-c2d5-aa528fd96358"
      },
      "execution_count": null,
      "outputs": [
        {
          "output_type": "execute_result",
          "data": {
            "text/plain": [
              "'Prajnya*Infokalash Here'"
            ],
            "application/vnd.google.colaboratory.intrinsic+json": {
              "type": "string"
            }
          },
          "metadata": {},
          "execution_count": 48
        }
      ]
    },
    {
      "cell_type": "markdown",
      "source": [
        "## 5. Print all the unique letters present in the given string"
      ],
      "metadata": {
        "id": "Cmr9mTHZqwfN"
      }
    },
    {
      "cell_type": "code",
      "source": [
        "new_string = []\n",
        "for i in given_string.casefold():\n",
        "  if i.isalpha() == True and i not in new_string:\n",
        "    new_string.append(i)\n",
        "print(new_string)\n",
        "print(len(new_string))\n",
        "print(sorted(new_string))"
      ],
      "metadata": {
        "colab": {
          "base_uri": "https://localhost:8080/"
        },
        "id": "0c8t9l6Bw3ck",
        "outputId": "2f7b8e25-949c-4ce9-a731-1a8f10b82dee"
      },
      "execution_count": null,
      "outputs": [
        {
          "output_type": "stream",
          "name": "stdout",
          "text": [
            "['t', 'h', 'e', 'q', 'u', 'i', 'c', 'k', 'b', 'r', 'o', 'w', 'n', 'f', 'x', 'j', 'm', 'p', 's', 'v', 'l', 'a', 'z', 'y', 'd', 'g']\n",
            "26\n",
            "['a', 'b', 'c', 'd', 'e', 'f', 'g', 'h', 'i', 'j', 'k', 'l', 'm', 'n', 'o', 'p', 'q', 'r', 's', 't', 'u', 'v', 'w', 'x', 'y', 'z']\n"
          ]
        }
      ]
    },
    {
      "cell_type": "code",
      "source": [
        "var = sorted(new_string)\n",
        "print(var)"
      ],
      "metadata": {
        "colab": {
          "base_uri": "https://localhost:8080/"
        },
        "id": "2J1HBMtDz2Hr",
        "outputId": "3eb6dfd4-b40e-4e22-e5b8-7f29887e3fc8"
      },
      "execution_count": null,
      "outputs": [
        {
          "output_type": "stream",
          "name": "stdout",
          "text": [
            "['a', 'b', 'c', 'd', 'e', 'f', 'g', 'h', 'i', 'j', 'k', 'l', 'm', 'n', 'o', 'p', 'q', 'r', 's', 't', 'u', 'v', 'w', 'x', 'y', 'z']\n"
          ]
        }
      ]
    },
    {
      "cell_type": "code",
      "source": [
        "sorted(['the','hello'],reverse=True)"
      ],
      "metadata": {
        "colab": {
          "base_uri": "https://localhost:8080/"
        },
        "id": "R6j0Asi-0R5V",
        "outputId": "a3ed6c16-90ef-4dc0-c335-129d7f200d4b"
      },
      "execution_count": null,
      "outputs": [
        {
          "output_type": "execute_result",
          "data": {
            "text/plain": [
              "['the', 'hello']"
            ]
          },
          "metadata": {},
          "execution_count": 51
        }
      ]
    },
    {
      "cell_type": "code",
      "source": [
        "Quote = \"Food is good here.\"\n",
        "unique_let = []\n",
        "for i in Quote.lower():\n",
        "  if i.isalpha() == True and i not in unique_let:\n",
        "    unique_let.append(i)\n",
        "\n",
        "print(unique_let)\n",
        "print(len(unique_let))\n",
        "print(sorted(unique_let))"
      ],
      "metadata": {
        "colab": {
          "base_uri": "https://localhost:8080/"
        },
        "id": "R1I0WDsf3Xtj",
        "outputId": "19d725de-9935-46c4-9dd4-5418d56a01d5"
      },
      "execution_count": null,
      "outputs": [
        {
          "output_type": "stream",
          "name": "stdout",
          "text": [
            "['f', 'o', 'd', 'i', 's', 'g', 'h', 'e', 'r']\n",
            "9\n",
            "['d', 'e', 'f', 'g', 'h', 'i', 'o', 'r', 's']\n"
          ]
        }
      ]
    },
    {
      "cell_type": "markdown",
      "source": [
        "## 6. Save a word in a variable, replace any one of the letter into another"
      ],
      "metadata": {
        "id": "Z_QigmX_w2sJ"
      }
    },
    {
      "cell_type": "code",
      "source": [
        "word_1 = string_list[1]\n",
        "word_1[3]"
      ],
      "metadata": {
        "colab": {
          "base_uri": "https://localhost:8080/",
          "height": 36
        },
        "id": "j4kpnkgOjFsI",
        "outputId": "048f06a1-a4b5-41c0-bf52-1398b48e1a83"
      },
      "execution_count": null,
      "outputs": [
        {
          "output_type": "execute_result",
          "data": {
            "text/plain": [
              "'c'"
            ],
            "application/vnd.google.colaboratory.intrinsic+json": {
              "type": "string"
            }
          },
          "metadata": {},
          "execution_count": 53
        }
      ]
    },
    {
      "cell_type": "code",
      "source": [
        "word_1[3] = 'd'"
      ],
      "metadata": {
        "colab": {
          "base_uri": "https://localhost:8080/",
          "height": 175
        },
        "id": "90gC0FlejW5w",
        "outputId": "01cb82ee-442a-4d81-cafd-d6f277e2b448"
      },
      "execution_count": null,
      "outputs": [
        {
          "output_type": "error",
          "ename": "TypeError",
          "evalue": "ignored",
          "traceback": [
            "\u001b[0;31m---------------------------------------------------------------------------\u001b[0m",
            "\u001b[0;31mTypeError\u001b[0m                                 Traceback (most recent call last)",
            "\u001b[0;32m<ipython-input-54-89ebe9d23355>\u001b[0m in \u001b[0;36m<cell line: 1>\u001b[0;34m()\u001b[0m\n\u001b[0;32m----> 1\u001b[0;31m \u001b[0mword_1\u001b[0m\u001b[0;34m[\u001b[0m\u001b[0;36m3\u001b[0m\u001b[0;34m]\u001b[0m \u001b[0;34m=\u001b[0m \u001b[0;34m'd'\u001b[0m\u001b[0;34m\u001b[0m\u001b[0;34m\u001b[0m\u001b[0m\n\u001b[0m",
            "\u001b[0;31mTypeError\u001b[0m: 'str' object does not support item assignment"
          ]
        }
      ]
    },
    {
      "cell_type": "code",
      "source": [
        "word_1.replace('c','d')"
      ],
      "metadata": {
        "colab": {
          "base_uri": "https://localhost:8080/",
          "height": 36
        },
        "id": "qyqTVKiwjfDj",
        "outputId": "9c22dfe4-9ab1-4f6e-e520-6ec54815a028"
      },
      "execution_count": null,
      "outputs": [
        {
          "output_type": "execute_result",
          "data": {
            "text/plain": [
              "'quidk'"
            ],
            "application/vnd.google.colaboratory.intrinsic+json": {
              "type": "string"
            }
          },
          "metadata": {},
          "execution_count": 55
        }
      ]
    },
    {
      "cell_type": "code",
      "source": [
        "given_string.replace('o','a')"
      ],
      "metadata": {
        "colab": {
          "base_uri": "https://localhost:8080/",
          "height": 36
        },
        "id": "v9PwgzLBj2kT",
        "outputId": "f08f36cd-9836-4e53-a3af-870569c05cb2"
      },
      "execution_count": null,
      "outputs": [
        {
          "output_type": "execute_result",
          "data": {
            "text/plain": [
              "'The quick brawn fax jumps aver the lazy dag.'"
            ],
            "application/vnd.google.colaboratory.intrinsic+json": {
              "type": "string"
            }
          },
          "metadata": {},
          "execution_count": 56
        }
      ]
    },
    {
      "cell_type": "code",
      "source": [
        "given_string.replace('o','a',1)"
      ],
      "metadata": {
        "colab": {
          "base_uri": "https://localhost:8080/",
          "height": 36
        },
        "id": "pJSZ2XC46odT",
        "outputId": "2dd8b3fd-6052-4e27-d639-08ed2a8b696a"
      },
      "execution_count": null,
      "outputs": [
        {
          "output_type": "execute_result",
          "data": {
            "text/plain": [
              "'The quick brawn fox jumps over the lazy dog.'"
            ],
            "application/vnd.google.colaboratory.intrinsic+json": {
              "type": "string"
            }
          },
          "metadata": {},
          "execution_count": 57
        }
      ]
    },
    {
      "cell_type": "code",
      "source": [
        "given_string"
      ],
      "metadata": {
        "colab": {
          "base_uri": "https://localhost:8080/",
          "height": 36
        },
        "id": "4fGu4NeTlSlu",
        "outputId": "6f530952-8d68-446b-95a8-2cdd70479394"
      },
      "execution_count": null,
      "outputs": [
        {
          "output_type": "execute_result",
          "data": {
            "text/plain": [
              "'The quick brown fox jumps over the lazy dog.'"
            ],
            "application/vnd.google.colaboratory.intrinsic+json": {
              "type": "string"
            }
          },
          "metadata": {},
          "execution_count": 58
        }
      ]
    },
    {
      "cell_type": "code",
      "source": [
        "given_string.replace('lazy','weak')"
      ],
      "metadata": {
        "colab": {
          "base_uri": "https://localhost:8080/",
          "height": 36
        },
        "id": "iDE_-OmPk52E",
        "outputId": "5331c43c-a8b2-409c-9839-ab671bcde213"
      },
      "execution_count": null,
      "outputs": [
        {
          "output_type": "execute_result",
          "data": {
            "text/plain": [
              "'The quick brown fox jumps over the weak dog.'"
            ],
            "application/vnd.google.colaboratory.intrinsic+json": {
              "type": "string"
            }
          },
          "metadata": {},
          "execution_count": 59
        }
      ]
    },
    {
      "cell_type": "markdown",
      "source": [
        "## 7. If a word contains odd no. of letters, then change the first letter into the capital. Else print the word"
      ],
      "metadata": {
        "id": "DhZ11MHmzVb3"
      }
    },
    {
      "cell_type": "code",
      "source": [
        "words_with_even_no_of_letters = []\n",
        "words_with_odd_no_of_letters=[]\n",
        "for x in string_list:\n",
        "  if len(x)%2 == 0:\n",
        "    words_with_even_no_of_letters.append(x)\n",
        "  else:\n",
        "    words_with_odd_no_of_letters.append(x.capitalize())\n",
        "print(words_with_even_no_of_letters)\n",
        "print(words_with_odd_no_of_letters)"
      ],
      "metadata": {
        "colab": {
          "base_uri": "https://localhost:8080/"
        },
        "id": "2Dc7l_YU0SX9",
        "outputId": "b1ff6383-54d8-457f-ff64-6ff70a9a72f4"
      },
      "execution_count": null,
      "outputs": [
        {
          "output_type": "stream",
          "name": "stdout",
          "text": [
            "['over', 'lazy', 'dog.']\n",
            "['The', 'Quick', 'Brown', 'Fox', 'Jumps', 'The']\n"
          ]
        }
      ]
    },
    {
      "cell_type": "code",
      "source": [
        "#With user control\n",
        "print(\"Please enter a number between 0 to 9 to guess the number or press exit to leave the game\")\n",
        "\n",
        "import random\n",
        "secret_number = random.randint(0,9)  #randint is inclusive of maximum number\n",
        "\n",
        "count = 0\n",
        "while True:\n",
        "  user_input = input()\n",
        "\n",
        "  if user_input.lower() == 'exit':\n",
        "    print(\"Thanks for playing the game!The secret number was \",secret_number)\n",
        "    break\n",
        "  elif user_input.isalpha():\n",
        "    print(\"invalid input! please select the number in the range 0 to 9\")\n",
        "    #continue\n",
        "  else:\n",
        "    user_input = int(user_input)\n",
        "    count+=1\n",
        "    if user_input not in range(0,10): #range is exclusive of max number\n",
        "      print(\"Invalid input!Please choose the number in the range 0 to 9\")\n",
        "    else:\n",
        "      if user_input == secret_number:\n",
        "        print(\"Well done!It's a correct number, you took {} iterations to guess the correct number\".format(count))\n",
        "        break\n",
        "      elif secret_number > user_input:\n",
        "        print(\"My number is bigger than\", user_input)\n",
        "      else:\n",
        "        print(\"My number is lesser than\",user_input)"
      ],
      "metadata": {
        "id": "gN6KdEzR2gy6",
        "colab": {
          "base_uri": "https://localhost:8080/"
        },
        "outputId": "163a9aef-4bac-4a5f-97c7-02d7ad075b43"
      },
      "execution_count": null,
      "outputs": [
        {
          "output_type": "stream",
          "name": "stdout",
          "text": [
            "Please enter a number between 0 to 9 to guess the number or press exit to leave the game\n",
            "exit\n",
            "Thanks for playing the game!The secret number was  8\n"
          ]
        }
      ]
    },
    {
      "cell_type": "code",
      "source": [
        "#Without user control\n",
        "print(\"Please enter a number between 0 to 9 to guess the number\")\n",
        "\n",
        "import random\n",
        "secret_number = random.randint(0,9)  #randint is inclusive of maximum number\n",
        "\n",
        "count = 0\n",
        "while True:\n",
        "  user_input = input()\n",
        "\n",
        "  if user_input.isalpha():\n",
        "    print(\"invalid input! please select the number in the range 0 to 9\")\n",
        "    #continue\n",
        "  else:\n",
        "    user_input = int(user_input)\n",
        "    count+=1\n",
        "    if user_input not in range(0,10): #range is exclusive of max number\n",
        "      print(\"Invalid input!Please choose the number in the range 0 to 9\")\n",
        "    else:\n",
        "      if user_input == secret_number:\n",
        "        print(\"Well done!It's a correct number, you took {} iterations to guess the correct number\".format(count))\n",
        "        break\n",
        "      elif secret_number > user_input:\n",
        "        print(\"My number is bigger than\", user_input)\n",
        "      else:\n",
        "        print(\"My number is lesser than\",user_input)"
      ],
      "metadata": {
        "colab": {
          "base_uri": "https://localhost:8080/"
        },
        "id": "0VxDjPB220ue",
        "outputId": "c5a16898-e6ed-4211-e761-13a260f5c864"
      },
      "execution_count": null,
      "outputs": [
        {
          "output_type": "stream",
          "name": "stdout",
          "text": [
            "Please enter a number between 0 to 9 to guess the number or press exit to leave the game\n",
            "2\n",
            "My number is bigger than 2\n",
            "4\n",
            "My number is bigger than 4\n",
            "6\n",
            "Well done!It's a correct number, you took 3 iterations to guess the correct number\n"
          ]
        }
      ]
    },
    {
      "cell_type": "code",
      "source": [
        "import random"
      ],
      "metadata": {
        "id": "D5iRZWfm5JPL"
      },
      "execution_count": null,
      "outputs": []
    },
    {
      "cell_type": "code",
      "source": [
        "secret_num2 = random.randint(0,10)\n",
        "secret_num2"
      ],
      "metadata": {
        "colab": {
          "base_uri": "https://localhost:8080/"
        },
        "id": "qPVSWaou5MWY",
        "outputId": "34bd4bfb-64b7-4997-fbd0-45282b89d5fb"
      },
      "execution_count": null,
      "outputs": [
        {
          "output_type": "execute_result",
          "data": {
            "text/plain": [
              "3"
            ]
          },
          "metadata": {},
          "execution_count": 64
        }
      ]
    },
    {
      "cell_type": "code",
      "source": [
        "count1 = 0\n",
        "count1+=1"
      ],
      "metadata": {
        "id": "qdpXVLnM6vRP"
      },
      "execution_count": null,
      "outputs": []
    },
    {
      "cell_type": "code",
      "source": [
        "count1"
      ],
      "metadata": {
        "colab": {
          "base_uri": "https://localhost:8080/"
        },
        "id": "vwgF8p7K-vjd",
        "outputId": "cb3c4777-caa9-4fe3-99c1-958e4d76b6cd"
      },
      "execution_count": null,
      "outputs": [
        {
          "output_type": "execute_result",
          "data": {
            "text/plain": [
              "1"
            ]
          },
          "metadata": {},
          "execution_count": 66
        }
      ]
    },
    {
      "cell_type": "code",
      "source": [
        "try:\n",
        "  x = int(input())\n",
        "except:\n",
        "  print(\"invalid input\")"
      ],
      "metadata": {
        "colab": {
          "base_uri": "https://localhost:8080/"
        },
        "id": "o2UHLuXS-wp3",
        "outputId": "c1b3dad0-1a58-490c-9b73-5ac84994da2e"
      },
      "execution_count": null,
      "outputs": [
        {
          "name": "stdout",
          "output_type": "stream",
          "text": [
            "4\n"
          ]
        }
      ]
    },
    {
      "cell_type": "code",
      "source": [
        "name = \"A\"\n",
        "name.isalpha()"
      ],
      "metadata": {
        "colab": {
          "base_uri": "https://localhost:8080/"
        },
        "id": "UZdtmDjYyeu0",
        "outputId": "ebe1c494-8136-4e63-da37-03aba7b439d3"
      },
      "execution_count": null,
      "outputs": [
        {
          "output_type": "execute_result",
          "data": {
            "text/plain": [
              "True"
            ]
          },
          "metadata": {},
          "execution_count": 68
        }
      ]
    },
    {
      "cell_type": "markdown",
      "source": [
        "# Unit testing in Python"
      ],
      "metadata": {
        "id": "eYskN2qgR5bY"
      }
    },
    {
      "cell_type": "markdown",
      "source": [],
      "metadata": {
        "id": "6L5ePPzfR9kx"
      }
    },
    {
      "cell_type": "code",
      "source": [
        "\"\"\"Example of writing a test subject\"\"\"\n",
        "def sum(xs: list[float]) -> float:\n",
        "  \"\"\"Compute the sum of a list.\"\"\"\n",
        "  return -1.0"
      ],
      "metadata": {
        "id": "r_lykA69Ql3N"
      },
      "execution_count": null,
      "outputs": []
    },
    {
      "cell_type": "code",
      "source": [
        "sum([1.0,2.0,3.0])"
      ],
      "metadata": {
        "colab": {
          "base_uri": "https://localhost:8080/"
        },
        "id": "C96so5-LTg3b",
        "outputId": "71d367fb-daf8-47fb-f914-baecabb521aa"
      },
      "execution_count": null,
      "outputs": [
        {
          "output_type": "execute_result",
          "data": {
            "text/plain": [
              "-1.0"
            ]
          },
          "metadata": {},
          "execution_count": 70
        }
      ]
    },
    {
      "cell_type": "code",
      "source": [
        "sum([])"
      ],
      "metadata": {
        "colab": {
          "base_uri": "https://localhost:8080/"
        },
        "id": "vx6bfFhUTkzl",
        "outputId": "8d8e86e2-10a9-411a-cf4a-00a805a9ab4a"
      },
      "execution_count": null,
      "outputs": [
        {
          "output_type": "execute_result",
          "data": {
            "text/plain": [
              "-1.0"
            ]
          },
          "metadata": {},
          "execution_count": 71
        }
      ]
    },
    {
      "cell_type": "code",
      "source": [
        "# Addition operator for string data type gives the concatenated string\n",
        "a : str = \"5\"\n",
        "b : str = \"3\"\n",
        "print(a + b)"
      ],
      "metadata": {
        "id": "oHZyW733Tlg8",
        "colab": {
          "base_uri": "https://localhost:8080/"
        },
        "outputId": "5ab2e4f0-ab94-423a-e12a-07860f3ecf95"
      },
      "execution_count": null,
      "outputs": [
        {
          "output_type": "stream",
          "name": "stdout",
          "text": [
            "53\n"
          ]
        }
      ]
    },
    {
      "cell_type": "code",
      "source": [
        "#Multiplication of integers gives the product of two numbers\n",
        "num1 : int = 100\n",
        "num2 : int = 2\n",
        "print(num1*num2)"
      ],
      "metadata": {
        "colab": {
          "base_uri": "https://localhost:8080/"
        },
        "id": "g34kwkeMaI39",
        "outputId": "8b36d83d-866e-4279-a90a-f4721bc59796"
      },
      "execution_count": null,
      "outputs": [
        {
          "output_type": "stream",
          "name": "stdout",
          "text": [
            "200\n"
          ]
        }
      ]
    },
    {
      "cell_type": "code",
      "source": [
        "\"lo\" + (\"l\"*100)"
      ],
      "metadata": {
        "colab": {
          "base_uri": "https://localhost:8080/",
          "height": 36
        },
        "id": "ky5gD8mnm-cV",
        "outputId": "f4b33db5-9d83-4c2b-b3da-08638b130a12"
      },
      "execution_count": null,
      "outputs": [
        {
          "output_type": "execute_result",
          "data": {
            "text/plain": [
              "'lollllllllllllllllllllllllllllllllllllllllllllllllllllllllllllllllllllllllllllllllllllllllllllllllllll'"
            ],
            "application/vnd.google.colaboratory.intrinsic+json": {
              "type": "string"
            }
          },
          "metadata": {},
          "execution_count": 74
        }
      ]
    },
    {
      "cell_type": "code",
      "source": [
        "a = 100\n",
        "b = \"ab\"\n",
        "a+b"
      ],
      "metadata": {
        "colab": {
          "base_uri": "https://localhost:8080/",
          "height": 210
        },
        "id": "dDKw6kv0nzYX",
        "outputId": "ff0234dd-1248-44fe-b042-def142f372f4"
      },
      "execution_count": null,
      "outputs": [
        {
          "output_type": "error",
          "ename": "TypeError",
          "evalue": "ignored",
          "traceback": [
            "\u001b[0;31m---------------------------------------------------------------------------\u001b[0m",
            "\u001b[0;31mTypeError\u001b[0m                                 Traceback (most recent call last)",
            "\u001b[0;32m<ipython-input-75-82d27fe7a6b6>\u001b[0m in \u001b[0;36m<cell line: 3>\u001b[0;34m()\u001b[0m\n\u001b[1;32m      1\u001b[0m \u001b[0ma\u001b[0m \u001b[0;34m=\u001b[0m \u001b[0;36m100\u001b[0m\u001b[0;34m\u001b[0m\u001b[0;34m\u001b[0m\u001b[0m\n\u001b[1;32m      2\u001b[0m \u001b[0mb\u001b[0m \u001b[0;34m=\u001b[0m \u001b[0;34m\"ab\"\u001b[0m\u001b[0;34m\u001b[0m\u001b[0;34m\u001b[0m\u001b[0m\n\u001b[0;32m----> 3\u001b[0;31m \u001b[0ma\u001b[0m\u001b[0;34m+\u001b[0m\u001b[0mb\u001b[0m\u001b[0;34m\u001b[0m\u001b[0;34m\u001b[0m\u001b[0m\n\u001b[0m",
            "\u001b[0;31mTypeError\u001b[0m: unsupported operand type(s) for +: 'int' and 'str'"
          ]
        }
      ]
    },
    {
      "cell_type": "code",
      "source": [
        "a = \"100\"\n",
        "b = \"2\""
      ],
      "metadata": {
        "id": "aHF4mAqeovBL"
      },
      "execution_count": null,
      "outputs": []
    },
    {
      "cell_type": "code",
      "source": [
        "a/b"
      ],
      "metadata": {
        "colab": {
          "base_uri": "https://localhost:8080/",
          "height": 175
        },
        "id": "bCdYIOibpSoA",
        "outputId": "40839a20-fdfa-4235-a3e3-f27b14a59e29"
      },
      "execution_count": null,
      "outputs": [
        {
          "output_type": "error",
          "ename": "TypeError",
          "evalue": "ignored",
          "traceback": [
            "\u001b[0;31m---------------------------------------------------------------------------\u001b[0m",
            "\u001b[0;31mTypeError\u001b[0m                                 Traceback (most recent call last)",
            "\u001b[0;32m<ipython-input-77-aae42d317509>\u001b[0m in \u001b[0;36m<cell line: 1>\u001b[0;34m()\u001b[0m\n\u001b[0;32m----> 1\u001b[0;31m \u001b[0ma\u001b[0m\u001b[0;34m/\u001b[0m\u001b[0mb\u001b[0m\u001b[0;34m\u001b[0m\u001b[0;34m\u001b[0m\u001b[0m\n\u001b[0m",
            "\u001b[0;31mTypeError\u001b[0m: unsupported operand type(s) for /: 'str' and 'str'"
          ]
        }
      ]
    },
    {
      "cell_type": "code",
      "source": [
        "a = 100\n",
        "b = 3\n",
        "print(a/b)\n",
        "print(a//b)"
      ],
      "metadata": {
        "colab": {
          "base_uri": "https://localhost:8080/"
        },
        "id": "j4QQR13hpTlc",
        "outputId": "c3bd03e3-fb5c-4716-e9d5-aa53d2dfb4b0"
      },
      "execution_count": null,
      "outputs": [
        {
          "output_type": "stream",
          "name": "stdout",
          "text": [
            "33.333333333333336\n",
            "33\n"
          ]
        }
      ]
    },
    {
      "cell_type": "code",
      "source": [
        "c = 10.3\n",
        "\n",
        "print(c//b)"
      ],
      "metadata": {
        "colab": {
          "base_uri": "https://localhost:8080/"
        },
        "id": "o9xTbg3lqZbe",
        "outputId": "6ec1630d-46e9-4a90-df3d-8b81e819ac95"
      },
      "execution_count": null,
      "outputs": [
        {
          "output_type": "stream",
          "name": "stdout",
          "text": [
            "3.0\n"
          ]
        }
      ]
    },
    {
      "cell_type": "code",
      "source": [
        "print(c/b)"
      ],
      "metadata": {
        "colab": {
          "base_uri": "https://localhost:8080/"
        },
        "id": "xGhQzez3qgXm",
        "outputId": "847ada2c-ccd1-4f2e-baa2-c56f82f95c11"
      },
      "execution_count": null,
      "outputs": [
        {
          "output_type": "stream",
          "name": "stdout",
          "text": [
            "3.4333333333333336\n"
          ]
        }
      ]
    },
    {
      "cell_type": "code",
      "source": [
        "x = 5\n",
        "y = 3\n",
        "x ==y"
      ],
      "metadata": {
        "colab": {
          "base_uri": "https://localhost:8080/"
        },
        "id": "W5D58g-XrmaO",
        "outputId": "0c48f879-d065-49a9-d6f6-648b01dfc40e"
      },
      "execution_count": null,
      "outputs": [
        {
          "output_type": "execute_result",
          "data": {
            "text/plain": [
              "False"
            ]
          },
          "metadata": {},
          "execution_count": 81
        }
      ]
    },
    {
      "cell_type": "code",
      "source": [
        "x <=y"
      ],
      "metadata": {
        "colab": {
          "base_uri": "https://localhost:8080/"
        },
        "id": "F8Y7TosNxNpk",
        "outputId": "90e9146b-a9e4-4cf2-d52a-fc10d5dfab23"
      },
      "execution_count": null,
      "outputs": [
        {
          "output_type": "execute_result",
          "data": {
            "text/plain": [
              "False"
            ]
          },
          "metadata": {},
          "execution_count": 82
        }
      ]
    },
    {
      "cell_type": "code",
      "source": [
        "x >=y"
      ],
      "metadata": {
        "colab": {
          "base_uri": "https://localhost:8080/"
        },
        "id": "bNbUaORmxPS2",
        "outputId": "8c8e901e-6e29-46e8-f222-75f894619ee7"
      },
      "execution_count": null,
      "outputs": [
        {
          "output_type": "execute_result",
          "data": {
            "text/plain": [
              "True"
            ]
          },
          "metadata": {},
          "execution_count": 83
        }
      ]
    },
    {
      "cell_type": "code",
      "source": [
        "x!= y"
      ],
      "metadata": {
        "id": "VgprHAh3xRh1",
        "outputId": "3a6c3e1d-189d-46c3-bde3-d43b4365b8d8",
        "colab": {
          "base_uri": "https://localhost:8080/"
        }
      },
      "execution_count": null,
      "outputs": [
        {
          "output_type": "execute_result",
          "data": {
            "text/plain": [
              "True"
            ]
          },
          "metadata": {},
          "execution_count": 84
        }
      ]
    },
    {
      "cell_type": "code",
      "source": [
        "sky = \"dark\"\n",
        "if sky != \"light\":\n",
        "\tprint(\"It's night already!\")"
      ],
      "metadata": {
        "id": "FD321yrbxUIG",
        "colab": {
          "base_uri": "https://localhost:8080/"
        },
        "outputId": "f3062800-a74c-4ff8-b6f6-4270f082470b"
      },
      "execution_count": null,
      "outputs": [
        {
          "output_type": "stream",
          "name": "stdout",
          "text": [
            "It's night already!\n"
          ]
        }
      ]
    },
    {
      "cell_type": "code",
      "source": [
        "is_rainy = input(\"Enter True if there is rain. Otherwise enter false:\\n\")\n",
        "if is_rainy != False:\n",
        "  print(\"Take the raincoat or umbrella\")"
      ],
      "metadata": {
        "colab": {
          "base_uri": "https://localhost:8080/"
        },
        "id": "PsTFNO1Anu9m",
        "outputId": "edc63fe1-fb77-4864-bb54-a14740dbf0f4"
      },
      "execution_count": null,
      "outputs": [
        {
          "output_type": "stream",
          "name": "stdout",
          "text": [
            "Enter True if there is rain. Otherwise enter false:\n",
            "\n",
            "Take the raincoat or umbrella\n"
          ]
        }
      ]
    },
    {
      "cell_type": "code",
      "source": [
        "shop_is_closed = False #if shop is closed, set it to true\n",
        "if not shop_is_closed:\n",
        "  print(\"The shop is open! Welcome any time!!\")"
      ],
      "metadata": {
        "id": "6LPwnjM7rb86",
        "colab": {
          "base_uri": "https://localhost:8080/"
        },
        "outputId": "5d465143-9a54-4c1f-85df-96db3a95c760"
      },
      "execution_count": null,
      "outputs": [
        {
          "output_type": "stream",
          "name": "stdout",
          "text": [
            "The shop is open! Welcome any time!!\n"
          ]
        }
      ]
    },
    {
      "cell_type": "code",
      "source": [
        "age = int(input(\"Enter your age:\"))\n",
        "has_vip_pass = True  #change it to false if you don't have\n",
        "\n",
        "if age >= 18 and has_vip_pass:\n",
        "  print(\"Welcome to the party! Enjoy your time!!\")\n",
        "else:\n",
        "  print(\"Sorry, you can not enter the party!\")"
      ],
      "metadata": {
        "colab": {
          "base_uri": "https://localhost:8080/"
        },
        "id": "-1_oJ35dtHFK",
        "outputId": "46a484ce-4f6e-4c87-e773-36f328bbe774"
      },
      "execution_count": null,
      "outputs": [
        {
          "output_type": "stream",
          "name": "stdout",
          "text": [
            "Enter your age:25\n",
            "Welcome to the party! Enjoy your time!!\n"
          ]
        }
      ]
    },
    {
      "cell_type": "code",
      "source": [
        "# Get user input for weather conditions\n",
        "#We will learn about .lower() in furthur chapters\n",
        "is_raining = input(\"Is it raining? (yes or no): \").lower()\n",
        "is_windy = input(\"Is it windy? (yes or no): \").lower()\n",
        "\n",
        "# Check if it's suitable to bring an umbrella using the OR operator\n",
        "if is_raining == \"yes\" or is_windy == \"yes\":\n",
        "    print(\"Bring an umbrella with you!\")\n",
        "else:\n",
        "    print(\"You don't need an umbrella today.\")"
      ],
      "metadata": {
        "colab": {
          "base_uri": "https://localhost:8080/"
        },
        "id": "5d0UJsBYuGHH",
        "outputId": "2c6fa9e6-a97f-4524-cf66-ca4de67b9e3c"
      },
      "execution_count": null,
      "outputs": [
        {
          "output_type": "stream",
          "name": "stdout",
          "text": [
            "Is it raining? (yes or no): yes\n",
            "Is it windy? (yes or no): No\n",
            "Bring an umbrella with you!\n"
          ]
        }
      ]
    },
    {
      "cell_type": "code",
      "source": [
        "story : str = \"\"\" In a quaint town nestled between rolling hills,there lived a young girl named Lily,\n",
        "who possessed a unique ability to communicate with animals. One day, as she wandered into the\n",
        "forest, she discovered a wounded fox. With gentle hands and kind words, she nursed the creature back to health.\n",
        "In gratitude, the fox led Lily to a hidden grove where a magical tree stood, its leaves shimmering with an ethereal light.\n",
        "The tree, ancient and wise, granted Lily a single wish. She wished for the well-being of all creatures, and in an instant,\n",
        "the entire town flourished with harmony. Lily's kindness had not only healed the wounded fox but had also brought peace to\n",
        "the hearts of all living beings in her magical town.\"\"\""
      ],
      "metadata": {
        "id": "uqAzneHsu50w"
      },
      "execution_count": 5,
      "outputs": []
    },
    {
      "cell_type": "code",
      "source": [
        "print(story)"
      ],
      "metadata": {
        "colab": {
          "base_uri": "https://localhost:8080/"
        },
        "id": "3eQsSIKDOQeb",
        "outputId": "abb34ccb-d408-481c-e12e-3e52223c8b74"
      },
      "execution_count": 6,
      "outputs": [
        {
          "output_type": "stream",
          "name": "stdout",
          "text": [
            " In a quaint town nestled between rolling hills,there lived a young girl named Lily,\n",
            "who possessed a unique ability to communicate with animals. One day, as she wandered into the\n",
            "forest, she discovered a wounded fox. With gentle hands and kind words, she nursed the creature back to health.\n",
            "In gratitude, the fox led Lily to a hidden grove where a magical tree stood, its leaves shimmering with an ethereal light.\n",
            "The tree, ancient and wise, granted Lily a single wish. She wished for the well-being of all creatures, and in an instant,\n",
            "the entire town flourished with harmony. Lily's kindness had not only healed the wounded fox but had also brought peace to\n",
            "the hearts of all living beings in her magical town.\n"
          ]
        }
      ]
    },
    {
      "cell_type": "code",
      "source": [
        "story_vocab : list[str] = story.lower().split()"
      ],
      "metadata": {
        "id": "O2Ymr-beORXU"
      },
      "execution_count": 7,
      "outputs": []
    },
    {
      "cell_type": "code",
      "source": [
        "print(story_vocab)"
      ],
      "metadata": {
        "colab": {
          "base_uri": "https://localhost:8080/"
        },
        "id": "vJpw0Rd2PB8-",
        "outputId": "7b2b2f0f-b597-487c-98b3-7e02c466dfa8"
      },
      "execution_count": 8,
      "outputs": [
        {
          "output_type": "stream",
          "name": "stdout",
          "text": [
            "['in', 'a', 'quaint', 'town', 'nestled', 'between', 'rolling', 'hills,there', 'lived', 'a', 'young', 'girl', 'named', 'lily,', 'who', 'possessed', 'a', 'unique', 'ability', 'to', 'communicate', 'with', 'animals.', 'one', 'day,', 'as', 'she', 'wandered', 'into', 'the', 'forest,', 'she', 'discovered', 'a', 'wounded', 'fox.', 'with', 'gentle', 'hands', 'and', 'kind', 'words,', 'she', 'nursed', 'the', 'creature', 'back', 'to', 'health.', 'in', 'gratitude,', 'the', 'fox', 'led', 'lily', 'to', 'a', 'hidden', 'grove', 'where', 'a', 'magical', 'tree', 'stood,', 'its', 'leaves', 'shimmering', 'with', 'an', 'ethereal', 'light.', 'the', 'tree,', 'ancient', 'and', 'wise,', 'granted', 'lily', 'a', 'single', 'wish.', 'she', 'wished', 'for', 'the', 'well-being', 'of', 'all', 'creatures,', 'and', 'in', 'an', 'instant,', 'the', 'entire', 'town', 'flourished', 'with', 'harmony.', \"lily's\", 'kindness', 'had', 'not', 'only', 'healed', 'the', 'wounded', 'fox', 'but', 'had', 'also', 'brought', 'peace', 'to', 'the', 'hearts', 'of', 'all', 'living', 'beings', 'in', 'her', 'magical', 'town.']\n"
          ]
        }
      ]
    },
    {
      "cell_type": "code",
      "source": [
        "len(story_vocab)"
      ],
      "metadata": {
        "colab": {
          "base_uri": "https://localhost:8080/"
        },
        "id": "9PGT_Ez3Pf1o",
        "outputId": "d6208ffb-88b7-4727-d61a-b0888ca9a15b"
      },
      "execution_count": 9,
      "outputs": [
        {
          "output_type": "execute_result",
          "data": {
            "text/plain": [
              "124"
            ]
          },
          "metadata": {},
          "execution_count": 9
        }
      ]
    },
    {
      "cell_type": "code",
      "source": [
        "story_dict : dict = {}\n",
        "for word in story_vocab:\n",
        "  if word in story_dict:\n",
        "    story_dict[word] +=1\n",
        "  else:\n",
        "    story_dict[word] = 1\n",
        "\n",
        "print(story_dict)"
      ],
      "metadata": {
        "colab": {
          "base_uri": "https://localhost:8080/"
        },
        "id": "omPn26XVPKwz",
        "outputId": "314afd6f-1238-4886-e900-f3a9f56a24d7"
      },
      "execution_count": 10,
      "outputs": [
        {
          "output_type": "stream",
          "name": "stdout",
          "text": [
            "{'in': 4, 'a': 7, 'quaint': 1, 'town': 2, 'nestled': 1, 'between': 1, 'rolling': 1, 'hills,there': 1, 'lived': 1, 'young': 1, 'girl': 1, 'named': 1, 'lily,': 1, 'who': 1, 'possessed': 1, 'unique': 1, 'ability': 1, 'to': 4, 'communicate': 1, 'with': 4, 'animals.': 1, 'one': 1, 'day,': 1, 'as': 1, 'she': 4, 'wandered': 1, 'into': 1, 'the': 8, 'forest,': 1, 'discovered': 1, 'wounded': 2, 'fox.': 1, 'gentle': 1, 'hands': 1, 'and': 3, 'kind': 1, 'words,': 1, 'nursed': 1, 'creature': 1, 'back': 1, 'health.': 1, 'gratitude,': 1, 'fox': 2, 'led': 1, 'lily': 2, 'hidden': 1, 'grove': 1, 'where': 1, 'magical': 2, 'tree': 1, 'stood,': 1, 'its': 1, 'leaves': 1, 'shimmering': 1, 'an': 2, 'ethereal': 1, 'light.': 1, 'tree,': 1, 'ancient': 1, 'wise,': 1, 'granted': 1, 'single': 1, 'wish.': 1, 'wished': 1, 'for': 1, 'well-being': 1, 'of': 2, 'all': 2, 'creatures,': 1, 'instant,': 1, 'entire': 1, 'flourished': 1, 'harmony.': 1, \"lily's\": 1, 'kindness': 1, 'had': 2, 'not': 1, 'only': 1, 'healed': 1, 'but': 1, 'also': 1, 'brought': 1, 'peace': 1, 'hearts': 1, 'living': 1, 'beings': 1, 'her': 1, 'town.': 1}\n"
          ]
        }
      ]
    },
    {
      "cell_type": "code",
      "source": [
        "story_dict.items()"
      ],
      "metadata": {
        "colab": {
          "base_uri": "https://localhost:8080/"
        },
        "id": "tCTILgVOR2Lg",
        "outputId": "ba0e49b8-b21e-48c3-e819-8ee1c6f4c8b8"
      },
      "execution_count": 11,
      "outputs": [
        {
          "output_type": "execute_result",
          "data": {
            "text/plain": [
              "dict_items([('in', 4), ('a', 7), ('quaint', 1), ('town', 2), ('nestled', 1), ('between', 1), ('rolling', 1), ('hills,there', 1), ('lived', 1), ('young', 1), ('girl', 1), ('named', 1), ('lily,', 1), ('who', 1), ('possessed', 1), ('unique', 1), ('ability', 1), ('to', 4), ('communicate', 1), ('with', 4), ('animals.', 1), ('one', 1), ('day,', 1), ('as', 1), ('she', 4), ('wandered', 1), ('into', 1), ('the', 8), ('forest,', 1), ('discovered', 1), ('wounded', 2), ('fox.', 1), ('gentle', 1), ('hands', 1), ('and', 3), ('kind', 1), ('words,', 1), ('nursed', 1), ('creature', 1), ('back', 1), ('health.', 1), ('gratitude,', 1), ('fox', 2), ('led', 1), ('lily', 2), ('hidden', 1), ('grove', 1), ('where', 1), ('magical', 2), ('tree', 1), ('stood,', 1), ('its', 1), ('leaves', 1), ('shimmering', 1), ('an', 2), ('ethereal', 1), ('light.', 1), ('tree,', 1), ('ancient', 1), ('wise,', 1), ('granted', 1), ('single', 1), ('wish.', 1), ('wished', 1), ('for', 1), ('well-being', 1), ('of', 2), ('all', 2), ('creatures,', 1), ('instant,', 1), ('entire', 1), ('flourished', 1), ('harmony.', 1), (\"lily's\", 1), ('kindness', 1), ('had', 2), ('not', 1), ('only', 1), ('healed', 1), ('but', 1), ('also', 1), ('brought', 1), ('peace', 1), ('hearts', 1), ('living', 1), ('beings', 1), ('her', 1), ('town.', 1)])"
            ]
          },
          "metadata": {},
          "execution_count": 11
        }
      ]
    },
    {
      "cell_type": "code",
      "source": [
        "type(story_dict.items())"
      ],
      "metadata": {
        "colab": {
          "base_uri": "https://localhost:8080/"
        },
        "id": "Ugmrs0zvmmoQ",
        "outputId": "abd83959-667d-4750-dd6c-68c8eca6919b"
      },
      "execution_count": 12,
      "outputs": [
        {
          "output_type": "execute_result",
          "data": {
            "text/plain": [
              "dict_items"
            ]
          },
          "metadata": {},
          "execution_count": 12
        }
      ]
    },
    {
      "cell_type": "code",
      "source": [
        "story_dict.items()[0]"
      ],
      "metadata": {
        "colab": {
          "base_uri": "https://localhost:8080/",
          "height": 175
        },
        "id": "FRrFnwNepqLt",
        "outputId": "1d050722-e172-42fb-8731-c87631a62d47"
      },
      "execution_count": null,
      "outputs": [
        {
          "output_type": "error",
          "ename": "TypeError",
          "evalue": "ignored",
          "traceback": [
            "\u001b[0;31m---------------------------------------------------------------------------\u001b[0m",
            "\u001b[0;31mTypeError\u001b[0m                                 Traceback (most recent call last)",
            "\u001b[0;32m<ipython-input-42-9e0aefbb87af>\u001b[0m in \u001b[0;36m<cell line: 1>\u001b[0;34m()\u001b[0m\n\u001b[0;32m----> 1\u001b[0;31m \u001b[0mstory_dict\u001b[0m\u001b[0;34m.\u001b[0m\u001b[0mitems\u001b[0m\u001b[0;34m(\u001b[0m\u001b[0;34m)\u001b[0m\u001b[0;34m[\u001b[0m\u001b[0;36m0\u001b[0m\u001b[0;34m]\u001b[0m\u001b[0;34m\u001b[0m\u001b[0;34m\u001b[0m\u001b[0m\n\u001b[0m",
            "\u001b[0;31mTypeError\u001b[0m: 'dict_items' object is not subscriptable"
          ]
        }
      ]
    },
    {
      "cell_type": "code",
      "source": [
        "list(story_dict.items())[0]"
      ],
      "metadata": {
        "colab": {
          "base_uri": "https://localhost:8080/"
        },
        "id": "AfjW_xvzpu9b",
        "outputId": "95a46818-7534-4540-c899-dd8f887e1386"
      },
      "execution_count": null,
      "outputs": [
        {
          "output_type": "execute_result",
          "data": {
            "text/plain": [
              "('in', 4)"
            ]
          },
          "metadata": {},
          "execution_count": 43
        }
      ]
    },
    {
      "cell_type": "code",
      "source": [
        "list(story_dict.items())[0][0]"
      ],
      "metadata": {
        "colab": {
          "base_uri": "https://localhost:8080/",
          "height": 36
        },
        "id": "J0UQ303tm46Y",
        "outputId": "75cd91f3-2f1c-448a-8832-6fa70d33b8bd"
      },
      "execution_count": null,
      "outputs": [
        {
          "output_type": "execute_result",
          "data": {
            "text/plain": [
              "'in'"
            ],
            "application/vnd.google.colaboratory.intrinsic+json": {
              "type": "string"
            }
          },
          "metadata": {},
          "execution_count": 41
        }
      ]
    },
    {
      "cell_type": "code",
      "source": [
        "for i in story_dict.items():\n",
        "  print(i)\n",
        "  print(i[1])"
      ],
      "metadata": {
        "colab": {
          "base_uri": "https://localhost:8080/"
        },
        "id": "oxjvLykNwxbJ",
        "outputId": "aff8ccd6-31cd-4044-b0bb-3664a4075719"
      },
      "execution_count": 15,
      "outputs": [
        {
          "output_type": "stream",
          "name": "stdout",
          "text": [
            "('in', 4)\n",
            "4\n",
            "('a', 7)\n",
            "7\n",
            "('quaint', 1)\n",
            "1\n",
            "('town', 2)\n",
            "2\n",
            "('nestled', 1)\n",
            "1\n",
            "('between', 1)\n",
            "1\n",
            "('rolling', 1)\n",
            "1\n",
            "('hills,there', 1)\n",
            "1\n",
            "('lived', 1)\n",
            "1\n",
            "('young', 1)\n",
            "1\n",
            "('girl', 1)\n",
            "1\n",
            "('named', 1)\n",
            "1\n",
            "('lily,', 1)\n",
            "1\n",
            "('who', 1)\n",
            "1\n",
            "('possessed', 1)\n",
            "1\n",
            "('unique', 1)\n",
            "1\n",
            "('ability', 1)\n",
            "1\n",
            "('to', 4)\n",
            "4\n",
            "('communicate', 1)\n",
            "1\n",
            "('with', 4)\n",
            "4\n",
            "('animals.', 1)\n",
            "1\n",
            "('one', 1)\n",
            "1\n",
            "('day,', 1)\n",
            "1\n",
            "('as', 1)\n",
            "1\n",
            "('she', 4)\n",
            "4\n",
            "('wandered', 1)\n",
            "1\n",
            "('into', 1)\n",
            "1\n",
            "('the', 8)\n",
            "8\n",
            "('forest,', 1)\n",
            "1\n",
            "('discovered', 1)\n",
            "1\n",
            "('wounded', 2)\n",
            "2\n",
            "('fox.', 1)\n",
            "1\n",
            "('gentle', 1)\n",
            "1\n",
            "('hands', 1)\n",
            "1\n",
            "('and', 3)\n",
            "3\n",
            "('kind', 1)\n",
            "1\n",
            "('words,', 1)\n",
            "1\n",
            "('nursed', 1)\n",
            "1\n",
            "('creature', 1)\n",
            "1\n",
            "('back', 1)\n",
            "1\n",
            "('health.', 1)\n",
            "1\n",
            "('gratitude,', 1)\n",
            "1\n",
            "('fox', 2)\n",
            "2\n",
            "('led', 1)\n",
            "1\n",
            "('lily', 2)\n",
            "2\n",
            "('hidden', 1)\n",
            "1\n",
            "('grove', 1)\n",
            "1\n",
            "('where', 1)\n",
            "1\n",
            "('magical', 2)\n",
            "2\n",
            "('tree', 1)\n",
            "1\n",
            "('stood,', 1)\n",
            "1\n",
            "('its', 1)\n",
            "1\n",
            "('leaves', 1)\n",
            "1\n",
            "('shimmering', 1)\n",
            "1\n",
            "('an', 2)\n",
            "2\n",
            "('ethereal', 1)\n",
            "1\n",
            "('light.', 1)\n",
            "1\n",
            "('tree,', 1)\n",
            "1\n",
            "('ancient', 1)\n",
            "1\n",
            "('wise,', 1)\n",
            "1\n",
            "('granted', 1)\n",
            "1\n",
            "('single', 1)\n",
            "1\n",
            "('wish.', 1)\n",
            "1\n",
            "('wished', 1)\n",
            "1\n",
            "('for', 1)\n",
            "1\n",
            "('well-being', 1)\n",
            "1\n",
            "('of', 2)\n",
            "2\n",
            "('all', 2)\n",
            "2\n",
            "('creatures,', 1)\n",
            "1\n",
            "('instant,', 1)\n",
            "1\n",
            "('entire', 1)\n",
            "1\n",
            "('flourished', 1)\n",
            "1\n",
            "('harmony.', 1)\n",
            "1\n",
            "(\"lily's\", 1)\n",
            "1\n",
            "('kindness', 1)\n",
            "1\n",
            "('had', 2)\n",
            "2\n",
            "('not', 1)\n",
            "1\n",
            "('only', 1)\n",
            "1\n",
            "('healed', 1)\n",
            "1\n",
            "('but', 1)\n",
            "1\n",
            "('also', 1)\n",
            "1\n",
            "('brought', 1)\n",
            "1\n",
            "('peace', 1)\n",
            "1\n",
            "('hearts', 1)\n",
            "1\n",
            "('living', 1)\n",
            "1\n",
            "('beings', 1)\n",
            "1\n",
            "('her', 1)\n",
            "1\n",
            "('town.', 1)\n",
            "1\n"
          ]
        }
      ]
    },
    {
      "cell_type": "code",
      "source": [
        "Top_5 : dict = dict(sorted(story_dict.items(),key= lambda x: x[1], reverse = True)[:5])\n",
        "Top_5"
      ],
      "metadata": {
        "colab": {
          "base_uri": "https://localhost:8080/"
        },
        "id": "mbwxuMxDRG9r",
        "outputId": "e733f071-ad83-412e-91fe-291fcadea908"
      },
      "execution_count": 16,
      "outputs": [
        {
          "output_type": "execute_result",
          "data": {
            "text/plain": [
              "{'the': 8, 'a': 7, 'in': 4, 'to': 4, 'with': 4}"
            ]
          },
          "metadata": {},
          "execution_count": 16
        }
      ]
    },
    {
      "cell_type": "markdown",
      "source": [
        "### Grade calculator"
      ],
      "metadata": {
        "id": "Z0Oj_9ewS4P1"
      }
    },
    {
      "cell_type": "code",
      "source": [
        "print(\"Enter your name:\")\n",
        "name : str = input()\n",
        "print(\"Enter your sub1 score:\")\n",
        "score1 : int = int(input())\n",
        "print(\"Enter your sub2 score:\")\n",
        "score2 : int = int(input())\n",
        "print(\"Enter your sub3 score:\")\n",
        "score3 : int = int(input())\n",
        "\n",
        "average_score : float = (score1+score2+score3)/3\n",
        "\n",
        "grade_outcome : dict = {\n",
        "    (90<=average_score<100) : \"Grade A\", (75<=average_score<90) : \"Grade B\",\n",
        "    (55<=average_score<75) : \"Grade C\" , (35<=average_score<55) : \"Grade D\" ,\n",
        "    (0<=average_score<35) : \"Grade F\"\n",
        "    }\n",
        "\n",
        "grade_outcome"
      ],
      "metadata": {
        "colab": {
          "base_uri": "https://localhost:8080/"
        },
        "id": "DJ_zIKZ5azmG",
        "outputId": "e741586c-c7a4-4cc3-97a7-f30f010e4c0e"
      },
      "execution_count": null,
      "outputs": [
        {
          "name": "stdout",
          "output_type": "stream",
          "text": [
            "Enter your name:\n",
            "stud1\n",
            "Enter your sub1 score:\n",
            "98\n",
            "Enter your sub2 score:\n",
            "83\n",
            "Enter your sub3 score:\n",
            "76\n"
          ]
        },
        {
          "output_type": "execute_result",
          "data": {
            "text/plain": [
              "{False: 'Grade F', True: 'Grade B'}"
            ]
          },
          "metadata": {},
          "execution_count": 20
        }
      ]
    },
    {
      "cell_type": "code",
      "source": [
        "students_grade_card : dict = {}\n",
        "for i in range(5):\n",
        "  print(\"Enter your name:\")\n",
        "  name : str = input()\n",
        "  print(\"Enter your sub1 score:\")\n",
        "  score1 : int = int(input())\n",
        "  print(\"Enter your sub2 score:\")\n",
        "  score2 : int = int(input())\n",
        "  print(\"Enter your sub3 score:\")\n",
        "  score3 : int = int(input())\n",
        "\n",
        "  #if score1 or score2 or score3 >100:\n",
        "    #print(\"invalid input\")\n",
        "    #return\n",
        "\n",
        "  average_score : float = (score1+score2+score3)/3\n",
        "\n",
        "  grade_outcome : dict = {\n",
        "      (90<=average_score<100) : \"Grade A\", (75<=average_score<90) : \"Grade B\",\n",
        "      (55<=average_score<75) : \"Grade C\" , (35<=average_score<55) : \"Grade D\" ,\n",
        "      (0<=average_score<35) : \"Grade F\"\n",
        "      }\n",
        "\n",
        "  grade : str = grade_outcome[True]\n",
        "\n",
        "  students_grade_card[name] = {\n",
        "      \"score1\": score1, \"score2\":score2 , \"score3\":score3,\n",
        "      \"average score\" : average_score, \"grade\" : grade\n",
        "      }\n",
        "\n",
        "students_grade_card"
      ],
      "metadata": {
        "colab": {
          "base_uri": "https://localhost:8080/"
        },
        "id": "X01jvSZVO5qR",
        "outputId": "2af43794-18cb-4218-84ee-5ed44177cc52"
      },
      "execution_count": null,
      "outputs": [
        {
          "name": "stdout",
          "output_type": "stream",
          "text": [
            "Enter your name:\n",
            "st1\n",
            "Enter your sub1 score:\n",
            "89\n",
            "Enter your sub2 score:\n",
            "7\n",
            "Enter your sub3 score:\n",
            "76\n",
            "Enter your name:\n",
            "st2\n",
            "Enter your sub1 score:\n",
            "67\n",
            "Enter your sub2 score:\n",
            "90\n",
            "Enter your sub3 score:\n",
            "94\n",
            "Enter your name:\n",
            "st3\n",
            "Enter your sub1 score:\n",
            "76\n",
            "Enter your sub2 score:\n",
            "56\n",
            "Enter your sub3 score:\n",
            "86\n",
            "Enter your name:\n",
            "st4\n",
            "Enter your sub1 score:\n",
            "96\n",
            "Enter your sub2 score:\n",
            "73\n",
            "Enter your sub3 score:\n",
            "1\n",
            "Enter your name:\n",
            "st5\n",
            "Enter your sub1 score:\n",
            "78\n",
            "Enter your sub2 score:\n",
            "98\n",
            "Enter your sub3 score:\n",
            "90\n"
          ]
        },
        {
          "output_type": "execute_result",
          "data": {
            "text/plain": [
              "{'st1': {'score1': 89,\n",
              "  'score2': 7,\n",
              "  'score3': 76,\n",
              "  'average score': 57.333333333333336,\n",
              "  'grade': 'Grade C'},\n",
              " 'st2': {'score1': 67,\n",
              "  'score2': 90,\n",
              "  'score3': 94,\n",
              "  'average score': 83.66666666666667,\n",
              "  'grade': 'Grade B'},\n",
              " 'st3': {'score1': 76,\n",
              "  'score2': 56,\n",
              "  'score3': 86,\n",
              "  'average score': 72.66666666666667,\n",
              "  'grade': 'Grade C'},\n",
              " 'st4': {'score1': 96,\n",
              "  'score2': 73,\n",
              "  'score3': 1,\n",
              "  'average score': 56.666666666666664,\n",
              "  'grade': 'Grade C'},\n",
              " 'st5': {'score1': 78,\n",
              "  'score2': 98,\n",
              "  'score3': 90,\n",
              "  'average score': 88.66666666666667,\n",
              "  'grade': 'Grade B'}}"
            ]
          },
          "metadata": {},
          "execution_count": 15
        }
      ]
    },
    {
      "cell_type": "code",
      "source": [
        "import pandas as pd\n",
        "pd.DataFrame(students_grade_card)"
      ],
      "metadata": {
        "colab": {
          "base_uri": "https://localhost:8080/",
          "height": 206
        },
        "id": "wyeKjbLJWCAR",
        "outputId": "524b1c65-c5d5-4407-c4df-af9f61d70b4b"
      },
      "execution_count": null,
      "outputs": [
        {
          "output_type": "execute_result",
          "data": {
            "text/plain": [
              "                     st1        st2        st3        st4        st5\n",
              "score1                89         67         76         96         78\n",
              "score2                 7         90         56         73         98\n",
              "score3                76         94         86          1         90\n",
              "average score  57.333333  83.666667  72.666667  56.666667  88.666667\n",
              "grade            Grade C    Grade B    Grade C    Grade C    Grade B"
            ],
            "text/html": [
              "\n",
              "  <div id=\"df-13a97cc2-e435-405a-bd8e-b9c20ab4b262\" class=\"colab-df-container\">\n",
              "    <div>\n",
              "<style scoped>\n",
              "    .dataframe tbody tr th:only-of-type {\n",
              "        vertical-align: middle;\n",
              "    }\n",
              "\n",
              "    .dataframe tbody tr th {\n",
              "        vertical-align: top;\n",
              "    }\n",
              "\n",
              "    .dataframe thead th {\n",
              "        text-align: right;\n",
              "    }\n",
              "</style>\n",
              "<table border=\"1\" class=\"dataframe\">\n",
              "  <thead>\n",
              "    <tr style=\"text-align: right;\">\n",
              "      <th></th>\n",
              "      <th>st1</th>\n",
              "      <th>st2</th>\n",
              "      <th>st3</th>\n",
              "      <th>st4</th>\n",
              "      <th>st5</th>\n",
              "    </tr>\n",
              "  </thead>\n",
              "  <tbody>\n",
              "    <tr>\n",
              "      <th>score1</th>\n",
              "      <td>89</td>\n",
              "      <td>67</td>\n",
              "      <td>76</td>\n",
              "      <td>96</td>\n",
              "      <td>78</td>\n",
              "    </tr>\n",
              "    <tr>\n",
              "      <th>score2</th>\n",
              "      <td>7</td>\n",
              "      <td>90</td>\n",
              "      <td>56</td>\n",
              "      <td>73</td>\n",
              "      <td>98</td>\n",
              "    </tr>\n",
              "    <tr>\n",
              "      <th>score3</th>\n",
              "      <td>76</td>\n",
              "      <td>94</td>\n",
              "      <td>86</td>\n",
              "      <td>1</td>\n",
              "      <td>90</td>\n",
              "    </tr>\n",
              "    <tr>\n",
              "      <th>average score</th>\n",
              "      <td>57.333333</td>\n",
              "      <td>83.666667</td>\n",
              "      <td>72.666667</td>\n",
              "      <td>56.666667</td>\n",
              "      <td>88.666667</td>\n",
              "    </tr>\n",
              "    <tr>\n",
              "      <th>grade</th>\n",
              "      <td>Grade C</td>\n",
              "      <td>Grade B</td>\n",
              "      <td>Grade C</td>\n",
              "      <td>Grade C</td>\n",
              "      <td>Grade B</td>\n",
              "    </tr>\n",
              "  </tbody>\n",
              "</table>\n",
              "</div>\n",
              "    <div class=\"colab-df-buttons\">\n",
              "\n",
              "  <div class=\"colab-df-container\">\n",
              "    <button class=\"colab-df-convert\" onclick=\"convertToInteractive('df-13a97cc2-e435-405a-bd8e-b9c20ab4b262')\"\n",
              "            title=\"Convert this dataframe to an interactive table.\"\n",
              "            style=\"display:none;\">\n",
              "\n",
              "  <svg xmlns=\"http://www.w3.org/2000/svg\" height=\"24px\" viewBox=\"0 -960 960 960\">\n",
              "    <path d=\"M120-120v-720h720v720H120Zm60-500h600v-160H180v160Zm220 220h160v-160H400v160Zm0 220h160v-160H400v160ZM180-400h160v-160H180v160Zm440 0h160v-160H620v160ZM180-180h160v-160H180v160Zm440 0h160v-160H620v160Z\"/>\n",
              "  </svg>\n",
              "    </button>\n",
              "\n",
              "  <style>\n",
              "    .colab-df-container {\n",
              "      display:flex;\n",
              "      gap: 12px;\n",
              "    }\n",
              "\n",
              "    .colab-df-convert {\n",
              "      background-color: #E8F0FE;\n",
              "      border: none;\n",
              "      border-radius: 50%;\n",
              "      cursor: pointer;\n",
              "      display: none;\n",
              "      fill: #1967D2;\n",
              "      height: 32px;\n",
              "      padding: 0 0 0 0;\n",
              "      width: 32px;\n",
              "    }\n",
              "\n",
              "    .colab-df-convert:hover {\n",
              "      background-color: #E2EBFA;\n",
              "      box-shadow: 0px 1px 2px rgba(60, 64, 67, 0.3), 0px 1px 3px 1px rgba(60, 64, 67, 0.15);\n",
              "      fill: #174EA6;\n",
              "    }\n",
              "\n",
              "    .colab-df-buttons div {\n",
              "      margin-bottom: 4px;\n",
              "    }\n",
              "\n",
              "    [theme=dark] .colab-df-convert {\n",
              "      background-color: #3B4455;\n",
              "      fill: #D2E3FC;\n",
              "    }\n",
              "\n",
              "    [theme=dark] .colab-df-convert:hover {\n",
              "      background-color: #434B5C;\n",
              "      box-shadow: 0px 1px 3px 1px rgba(0, 0, 0, 0.15);\n",
              "      filter: drop-shadow(0px 1px 2px rgba(0, 0, 0, 0.3));\n",
              "      fill: #FFFFFF;\n",
              "    }\n",
              "  </style>\n",
              "\n",
              "    <script>\n",
              "      const buttonEl =\n",
              "        document.querySelector('#df-13a97cc2-e435-405a-bd8e-b9c20ab4b262 button.colab-df-convert');\n",
              "      buttonEl.style.display =\n",
              "        google.colab.kernel.accessAllowed ? 'block' : 'none';\n",
              "\n",
              "      async function convertToInteractive(key) {\n",
              "        const element = document.querySelector('#df-13a97cc2-e435-405a-bd8e-b9c20ab4b262');\n",
              "        const dataTable =\n",
              "          await google.colab.kernel.invokeFunction('convertToInteractive',\n",
              "                                                    [key], {});\n",
              "        if (!dataTable) return;\n",
              "\n",
              "        const docLinkHtml = 'Like what you see? Visit the ' +\n",
              "          '<a target=\"_blank\" href=https://colab.research.google.com/notebooks/data_table.ipynb>data table notebook</a>'\n",
              "          + ' to learn more about interactive tables.';\n",
              "        element.innerHTML = '';\n",
              "        dataTable['output_type'] = 'display_data';\n",
              "        await google.colab.output.renderOutput(dataTable, element);\n",
              "        const docLink = document.createElement('div');\n",
              "        docLink.innerHTML = docLinkHtml;\n",
              "        element.appendChild(docLink);\n",
              "      }\n",
              "    </script>\n",
              "  </div>\n",
              "\n",
              "\n",
              "<div id=\"df-fb28fbd3-c55e-4ed5-8b7c-672761bd4b88\">\n",
              "  <button class=\"colab-df-quickchart\" onclick=\"quickchart('df-fb28fbd3-c55e-4ed5-8b7c-672761bd4b88')\"\n",
              "            title=\"Suggest charts.\"\n",
              "            style=\"display:none;\">\n",
              "\n",
              "<svg xmlns=\"http://www.w3.org/2000/svg\" height=\"24px\"viewBox=\"0 0 24 24\"\n",
              "     width=\"24px\">\n",
              "    <g>\n",
              "        <path d=\"M19 3H5c-1.1 0-2 .9-2 2v14c0 1.1.9 2 2 2h14c1.1 0 2-.9 2-2V5c0-1.1-.9-2-2-2zM9 17H7v-7h2v7zm4 0h-2V7h2v10zm4 0h-2v-4h2v4z\"/>\n",
              "    </g>\n",
              "</svg>\n",
              "  </button>\n",
              "\n",
              "<style>\n",
              "  .colab-df-quickchart {\n",
              "      --bg-color: #E8F0FE;\n",
              "      --fill-color: #1967D2;\n",
              "      --hover-bg-color: #E2EBFA;\n",
              "      --hover-fill-color: #174EA6;\n",
              "      --disabled-fill-color: #AAA;\n",
              "      --disabled-bg-color: #DDD;\n",
              "  }\n",
              "\n",
              "  [theme=dark] .colab-df-quickchart {\n",
              "      --bg-color: #3B4455;\n",
              "      --fill-color: #D2E3FC;\n",
              "      --hover-bg-color: #434B5C;\n",
              "      --hover-fill-color: #FFFFFF;\n",
              "      --disabled-bg-color: #3B4455;\n",
              "      --disabled-fill-color: #666;\n",
              "  }\n",
              "\n",
              "  .colab-df-quickchart {\n",
              "    background-color: var(--bg-color);\n",
              "    border: none;\n",
              "    border-radius: 50%;\n",
              "    cursor: pointer;\n",
              "    display: none;\n",
              "    fill: var(--fill-color);\n",
              "    height: 32px;\n",
              "    padding: 0;\n",
              "    width: 32px;\n",
              "  }\n",
              "\n",
              "  .colab-df-quickchart:hover {\n",
              "    background-color: var(--hover-bg-color);\n",
              "    box-shadow: 0 1px 2px rgba(60, 64, 67, 0.3), 0 1px 3px 1px rgba(60, 64, 67, 0.15);\n",
              "    fill: var(--button-hover-fill-color);\n",
              "  }\n",
              "\n",
              "  .colab-df-quickchart-complete:disabled,\n",
              "  .colab-df-quickchart-complete:disabled:hover {\n",
              "    background-color: var(--disabled-bg-color);\n",
              "    fill: var(--disabled-fill-color);\n",
              "    box-shadow: none;\n",
              "  }\n",
              "\n",
              "  .colab-df-spinner {\n",
              "    border: 2px solid var(--fill-color);\n",
              "    border-color: transparent;\n",
              "    border-bottom-color: var(--fill-color);\n",
              "    animation:\n",
              "      spin 1s steps(1) infinite;\n",
              "  }\n",
              "\n",
              "  @keyframes spin {\n",
              "    0% {\n",
              "      border-color: transparent;\n",
              "      border-bottom-color: var(--fill-color);\n",
              "      border-left-color: var(--fill-color);\n",
              "    }\n",
              "    20% {\n",
              "      border-color: transparent;\n",
              "      border-left-color: var(--fill-color);\n",
              "      border-top-color: var(--fill-color);\n",
              "    }\n",
              "    30% {\n",
              "      border-color: transparent;\n",
              "      border-left-color: var(--fill-color);\n",
              "      border-top-color: var(--fill-color);\n",
              "      border-right-color: var(--fill-color);\n",
              "    }\n",
              "    40% {\n",
              "      border-color: transparent;\n",
              "      border-right-color: var(--fill-color);\n",
              "      border-top-color: var(--fill-color);\n",
              "    }\n",
              "    60% {\n",
              "      border-color: transparent;\n",
              "      border-right-color: var(--fill-color);\n",
              "    }\n",
              "    80% {\n",
              "      border-color: transparent;\n",
              "      border-right-color: var(--fill-color);\n",
              "      border-bottom-color: var(--fill-color);\n",
              "    }\n",
              "    90% {\n",
              "      border-color: transparent;\n",
              "      border-bottom-color: var(--fill-color);\n",
              "    }\n",
              "  }\n",
              "</style>\n",
              "\n",
              "  <script>\n",
              "    async function quickchart(key) {\n",
              "      const quickchartButtonEl =\n",
              "        document.querySelector('#' + key + ' button');\n",
              "      quickchartButtonEl.disabled = true;  // To prevent multiple clicks.\n",
              "      quickchartButtonEl.classList.add('colab-df-spinner');\n",
              "      try {\n",
              "        const charts = await google.colab.kernel.invokeFunction(\n",
              "            'suggestCharts', [key], {});\n",
              "      } catch (error) {\n",
              "        console.error('Error during call to suggestCharts:', error);\n",
              "      }\n",
              "      quickchartButtonEl.classList.remove('colab-df-spinner');\n",
              "      quickchartButtonEl.classList.add('colab-df-quickchart-complete');\n",
              "    }\n",
              "    (() => {\n",
              "      let quickchartButtonEl =\n",
              "        document.querySelector('#df-fb28fbd3-c55e-4ed5-8b7c-672761bd4b88 button');\n",
              "      quickchartButtonEl.style.display =\n",
              "        google.colab.kernel.accessAllowed ? 'block' : 'none';\n",
              "    })();\n",
              "  </script>\n",
              "</div>\n",
              "    </div>\n",
              "  </div>\n"
            ]
          },
          "metadata": {},
          "execution_count": 16
        }
      ]
    },
    {
      "cell_type": "code",
      "source": [
        "students_grade_card : list = []\n",
        "for i in range(5):\n",
        "  print(\"Enter your name:\")\n",
        "  name : str = input()\n",
        "  print(\"Enter your sub1 score:\")\n",
        "  score1 : int = int(input())\n",
        "  print(\"Enter your sub2 score:\")\n",
        "  score2 : int = int(input())\n",
        "  print(\"Enter your sub3 score:\")\n",
        "  score3 : int = int(input())\n",
        "\n",
        "  average_score : float = (score1+score2+score3)/3\n",
        "\n",
        "  grade_outcome : dict = {\n",
        "      (90<=average_score<100) : \"Grade A\", (75<=average_score<90) : \"Grade B\",\n",
        "      (55<=average_score<75) : \"Grade C\" , (35<=average_score<55) : \"Grade D\" ,\n",
        "      (0<=average_score<35) : \"Grade F\"\n",
        "      }\n",
        "\n",
        "  grade : str = grade_outcome[True]\n",
        "\n",
        "  students_grade_card.append({\"Name\" : name,\n",
        "      \"score1\": score1, \"score2\":score2 , \"score3\":score3,\n",
        "      \"average score\" : average_score, \"grade\" : grade\n",
        "      })\n",
        "\n",
        "students_grade_card"
      ],
      "metadata": {
        "colab": {
          "base_uri": "https://localhost:8080/"
        },
        "id": "GDgh9RCEX2Rt",
        "outputId": "b4a68b40-f6d1-4a93-bdf0-d48e4bd34319"
      },
      "execution_count": null,
      "outputs": [
        {
          "name": "stdout",
          "output_type": "stream",
          "text": [
            "Enter your name:\n",
            "stud1\n",
            "Enter your sub1 score:\n",
            "97\n",
            "Enter your sub2 score:\n",
            "87\n",
            "Enter your sub3 score:\n",
            "79\n",
            "Enter your name:\n",
            "stud2\n",
            "Enter your sub1 score:\n",
            "96\n",
            "Enter your sub2 score:\n",
            "94\n",
            "Enter your sub3 score:\n",
            "82\n",
            "Enter your name:\n",
            "st3\n",
            "Enter your sub1 score:\n",
            "93\n",
            "Enter your sub2 score:\n",
            "89\n",
            "Enter your sub3 score:\n",
            "76\n",
            "Enter your name:\n",
            "st4\n",
            "Enter your sub1 score:\n",
            "91\n",
            "Enter your sub2 score:\n",
            "86\n",
            "Enter your sub3 score:\n",
            "79\n",
            "Enter your name:\n",
            "st5\n",
            "Enter your sub1 score:\n",
            "93\n",
            "Enter your sub2 score:\n",
            "78\n",
            "Enter your sub3 score:\n",
            "88\n"
          ]
        },
        {
          "output_type": "execute_result",
          "data": {
            "text/plain": [
              "[{'Name': 'stud1',\n",
              "  'score1': 97,\n",
              "  'score2': 87,\n",
              "  'score3': 79,\n",
              "  'average score': 87.66666666666667,\n",
              "  'grade': 'Grade B'},\n",
              " {'Name': 'stud2',\n",
              "  'score1': 96,\n",
              "  'score2': 94,\n",
              "  'score3': 82,\n",
              "  'average score': 90.66666666666667,\n",
              "  'grade': 'Grade A'},\n",
              " {'Name': 'st3',\n",
              "  'score1': 93,\n",
              "  'score2': 89,\n",
              "  'score3': 76,\n",
              "  'average score': 86.0,\n",
              "  'grade': 'Grade B'},\n",
              " {'Name': 'st4',\n",
              "  'score1': 91,\n",
              "  'score2': 86,\n",
              "  'score3': 79,\n",
              "  'average score': 85.33333333333333,\n",
              "  'grade': 'Grade B'},\n",
              " {'Name': 'st5',\n",
              "  'score1': 93,\n",
              "  'score2': 78,\n",
              "  'score3': 88,\n",
              "  'average score': 86.33333333333333,\n",
              "  'grade': 'Grade B'}]"
            ]
          },
          "metadata": {},
          "execution_count": 17
        }
      ]
    },
    {
      "cell_type": "code",
      "source": [
        "pd.DataFrame(students_grade_card)"
      ],
      "metadata": {
        "colab": {
          "base_uri": "https://localhost:8080/",
          "height": 206
        },
        "id": "m5-bKTRmZcRk",
        "outputId": "9e78cc5c-8efa-4ec7-9648-41044c335cd6"
      },
      "execution_count": null,
      "outputs": [
        {
          "output_type": "execute_result",
          "data": {
            "text/plain": [
              "    Name  score1  score2  score3  average score    grade\n",
              "0  stud1      97      87      79      87.666667  Grade B\n",
              "1  stud2      96      94      82      90.666667  Grade A\n",
              "2    st3      93      89      76      86.000000  Grade B\n",
              "3    st4      91      86      79      85.333333  Grade B\n",
              "4    st5      93      78      88      86.333333  Grade B"
            ],
            "text/html": [
              "\n",
              "  <div id=\"df-913000b4-d137-479b-84c7-1751ad827545\" class=\"colab-df-container\">\n",
              "    <div>\n",
              "<style scoped>\n",
              "    .dataframe tbody tr th:only-of-type {\n",
              "        vertical-align: middle;\n",
              "    }\n",
              "\n",
              "    .dataframe tbody tr th {\n",
              "        vertical-align: top;\n",
              "    }\n",
              "\n",
              "    .dataframe thead th {\n",
              "        text-align: right;\n",
              "    }\n",
              "</style>\n",
              "<table border=\"1\" class=\"dataframe\">\n",
              "  <thead>\n",
              "    <tr style=\"text-align: right;\">\n",
              "      <th></th>\n",
              "      <th>Name</th>\n",
              "      <th>score1</th>\n",
              "      <th>score2</th>\n",
              "      <th>score3</th>\n",
              "      <th>average score</th>\n",
              "      <th>grade</th>\n",
              "    </tr>\n",
              "  </thead>\n",
              "  <tbody>\n",
              "    <tr>\n",
              "      <th>0</th>\n",
              "      <td>stud1</td>\n",
              "      <td>97</td>\n",
              "      <td>87</td>\n",
              "      <td>79</td>\n",
              "      <td>87.666667</td>\n",
              "      <td>Grade B</td>\n",
              "    </tr>\n",
              "    <tr>\n",
              "      <th>1</th>\n",
              "      <td>stud2</td>\n",
              "      <td>96</td>\n",
              "      <td>94</td>\n",
              "      <td>82</td>\n",
              "      <td>90.666667</td>\n",
              "      <td>Grade A</td>\n",
              "    </tr>\n",
              "    <tr>\n",
              "      <th>2</th>\n",
              "      <td>st3</td>\n",
              "      <td>93</td>\n",
              "      <td>89</td>\n",
              "      <td>76</td>\n",
              "      <td>86.000000</td>\n",
              "      <td>Grade B</td>\n",
              "    </tr>\n",
              "    <tr>\n",
              "      <th>3</th>\n",
              "      <td>st4</td>\n",
              "      <td>91</td>\n",
              "      <td>86</td>\n",
              "      <td>79</td>\n",
              "      <td>85.333333</td>\n",
              "      <td>Grade B</td>\n",
              "    </tr>\n",
              "    <tr>\n",
              "      <th>4</th>\n",
              "      <td>st5</td>\n",
              "      <td>93</td>\n",
              "      <td>78</td>\n",
              "      <td>88</td>\n",
              "      <td>86.333333</td>\n",
              "      <td>Grade B</td>\n",
              "    </tr>\n",
              "  </tbody>\n",
              "</table>\n",
              "</div>\n",
              "    <div class=\"colab-df-buttons\">\n",
              "\n",
              "  <div class=\"colab-df-container\">\n",
              "    <button class=\"colab-df-convert\" onclick=\"convertToInteractive('df-913000b4-d137-479b-84c7-1751ad827545')\"\n",
              "            title=\"Convert this dataframe to an interactive table.\"\n",
              "            style=\"display:none;\">\n",
              "\n",
              "  <svg xmlns=\"http://www.w3.org/2000/svg\" height=\"24px\" viewBox=\"0 -960 960 960\">\n",
              "    <path d=\"M120-120v-720h720v720H120Zm60-500h600v-160H180v160Zm220 220h160v-160H400v160Zm0 220h160v-160H400v160ZM180-400h160v-160H180v160Zm440 0h160v-160H620v160ZM180-180h160v-160H180v160Zm440 0h160v-160H620v160Z\"/>\n",
              "  </svg>\n",
              "    </button>\n",
              "\n",
              "  <style>\n",
              "    .colab-df-container {\n",
              "      display:flex;\n",
              "      gap: 12px;\n",
              "    }\n",
              "\n",
              "    .colab-df-convert {\n",
              "      background-color: #E8F0FE;\n",
              "      border: none;\n",
              "      border-radius: 50%;\n",
              "      cursor: pointer;\n",
              "      display: none;\n",
              "      fill: #1967D2;\n",
              "      height: 32px;\n",
              "      padding: 0 0 0 0;\n",
              "      width: 32px;\n",
              "    }\n",
              "\n",
              "    .colab-df-convert:hover {\n",
              "      background-color: #E2EBFA;\n",
              "      box-shadow: 0px 1px 2px rgba(60, 64, 67, 0.3), 0px 1px 3px 1px rgba(60, 64, 67, 0.15);\n",
              "      fill: #174EA6;\n",
              "    }\n",
              "\n",
              "    .colab-df-buttons div {\n",
              "      margin-bottom: 4px;\n",
              "    }\n",
              "\n",
              "    [theme=dark] .colab-df-convert {\n",
              "      background-color: #3B4455;\n",
              "      fill: #D2E3FC;\n",
              "    }\n",
              "\n",
              "    [theme=dark] .colab-df-convert:hover {\n",
              "      background-color: #434B5C;\n",
              "      box-shadow: 0px 1px 3px 1px rgba(0, 0, 0, 0.15);\n",
              "      filter: drop-shadow(0px 1px 2px rgba(0, 0, 0, 0.3));\n",
              "      fill: #FFFFFF;\n",
              "    }\n",
              "  </style>\n",
              "\n",
              "    <script>\n",
              "      const buttonEl =\n",
              "        document.querySelector('#df-913000b4-d137-479b-84c7-1751ad827545 button.colab-df-convert');\n",
              "      buttonEl.style.display =\n",
              "        google.colab.kernel.accessAllowed ? 'block' : 'none';\n",
              "\n",
              "      async function convertToInteractive(key) {\n",
              "        const element = document.querySelector('#df-913000b4-d137-479b-84c7-1751ad827545');\n",
              "        const dataTable =\n",
              "          await google.colab.kernel.invokeFunction('convertToInteractive',\n",
              "                                                    [key], {});\n",
              "        if (!dataTable) return;\n",
              "\n",
              "        const docLinkHtml = 'Like what you see? Visit the ' +\n",
              "          '<a target=\"_blank\" href=https://colab.research.google.com/notebooks/data_table.ipynb>data table notebook</a>'\n",
              "          + ' to learn more about interactive tables.';\n",
              "        element.innerHTML = '';\n",
              "        dataTable['output_type'] = 'display_data';\n",
              "        await google.colab.output.renderOutput(dataTable, element);\n",
              "        const docLink = document.createElement('div');\n",
              "        docLink.innerHTML = docLinkHtml;\n",
              "        element.appendChild(docLink);\n",
              "      }\n",
              "    </script>\n",
              "  </div>\n",
              "\n",
              "\n",
              "<div id=\"df-3edda38b-151f-4c2c-ba4a-19086d16e326\">\n",
              "  <button class=\"colab-df-quickchart\" onclick=\"quickchart('df-3edda38b-151f-4c2c-ba4a-19086d16e326')\"\n",
              "            title=\"Suggest charts.\"\n",
              "            style=\"display:none;\">\n",
              "\n",
              "<svg xmlns=\"http://www.w3.org/2000/svg\" height=\"24px\"viewBox=\"0 0 24 24\"\n",
              "     width=\"24px\">\n",
              "    <g>\n",
              "        <path d=\"M19 3H5c-1.1 0-2 .9-2 2v14c0 1.1.9 2 2 2h14c1.1 0 2-.9 2-2V5c0-1.1-.9-2-2-2zM9 17H7v-7h2v7zm4 0h-2V7h2v10zm4 0h-2v-4h2v4z\"/>\n",
              "    </g>\n",
              "</svg>\n",
              "  </button>\n",
              "\n",
              "<style>\n",
              "  .colab-df-quickchart {\n",
              "      --bg-color: #E8F0FE;\n",
              "      --fill-color: #1967D2;\n",
              "      --hover-bg-color: #E2EBFA;\n",
              "      --hover-fill-color: #174EA6;\n",
              "      --disabled-fill-color: #AAA;\n",
              "      --disabled-bg-color: #DDD;\n",
              "  }\n",
              "\n",
              "  [theme=dark] .colab-df-quickchart {\n",
              "      --bg-color: #3B4455;\n",
              "      --fill-color: #D2E3FC;\n",
              "      --hover-bg-color: #434B5C;\n",
              "      --hover-fill-color: #FFFFFF;\n",
              "      --disabled-bg-color: #3B4455;\n",
              "      --disabled-fill-color: #666;\n",
              "  }\n",
              "\n",
              "  .colab-df-quickchart {\n",
              "    background-color: var(--bg-color);\n",
              "    border: none;\n",
              "    border-radius: 50%;\n",
              "    cursor: pointer;\n",
              "    display: none;\n",
              "    fill: var(--fill-color);\n",
              "    height: 32px;\n",
              "    padding: 0;\n",
              "    width: 32px;\n",
              "  }\n",
              "\n",
              "  .colab-df-quickchart:hover {\n",
              "    background-color: var(--hover-bg-color);\n",
              "    box-shadow: 0 1px 2px rgba(60, 64, 67, 0.3), 0 1px 3px 1px rgba(60, 64, 67, 0.15);\n",
              "    fill: var(--button-hover-fill-color);\n",
              "  }\n",
              "\n",
              "  .colab-df-quickchart-complete:disabled,\n",
              "  .colab-df-quickchart-complete:disabled:hover {\n",
              "    background-color: var(--disabled-bg-color);\n",
              "    fill: var(--disabled-fill-color);\n",
              "    box-shadow: none;\n",
              "  }\n",
              "\n",
              "  .colab-df-spinner {\n",
              "    border: 2px solid var(--fill-color);\n",
              "    border-color: transparent;\n",
              "    border-bottom-color: var(--fill-color);\n",
              "    animation:\n",
              "      spin 1s steps(1) infinite;\n",
              "  }\n",
              "\n",
              "  @keyframes spin {\n",
              "    0% {\n",
              "      border-color: transparent;\n",
              "      border-bottom-color: var(--fill-color);\n",
              "      border-left-color: var(--fill-color);\n",
              "    }\n",
              "    20% {\n",
              "      border-color: transparent;\n",
              "      border-left-color: var(--fill-color);\n",
              "      border-top-color: var(--fill-color);\n",
              "    }\n",
              "    30% {\n",
              "      border-color: transparent;\n",
              "      border-left-color: var(--fill-color);\n",
              "      border-top-color: var(--fill-color);\n",
              "      border-right-color: var(--fill-color);\n",
              "    }\n",
              "    40% {\n",
              "      border-color: transparent;\n",
              "      border-right-color: var(--fill-color);\n",
              "      border-top-color: var(--fill-color);\n",
              "    }\n",
              "    60% {\n",
              "      border-color: transparent;\n",
              "      border-right-color: var(--fill-color);\n",
              "    }\n",
              "    80% {\n",
              "      border-color: transparent;\n",
              "      border-right-color: var(--fill-color);\n",
              "      border-bottom-color: var(--fill-color);\n",
              "    }\n",
              "    90% {\n",
              "      border-color: transparent;\n",
              "      border-bottom-color: var(--fill-color);\n",
              "    }\n",
              "  }\n",
              "</style>\n",
              "\n",
              "  <script>\n",
              "    async function quickchart(key) {\n",
              "      const quickchartButtonEl =\n",
              "        document.querySelector('#' + key + ' button');\n",
              "      quickchartButtonEl.disabled = true;  // To prevent multiple clicks.\n",
              "      quickchartButtonEl.classList.add('colab-df-spinner');\n",
              "      try {\n",
              "        const charts = await google.colab.kernel.invokeFunction(\n",
              "            'suggestCharts', [key], {});\n",
              "      } catch (error) {\n",
              "        console.error('Error during call to suggestCharts:', error);\n",
              "      }\n",
              "      quickchartButtonEl.classList.remove('colab-df-spinner');\n",
              "      quickchartButtonEl.classList.add('colab-df-quickchart-complete');\n",
              "    }\n",
              "    (() => {\n",
              "      let quickchartButtonEl =\n",
              "        document.querySelector('#df-3edda38b-151f-4c2c-ba4a-19086d16e326 button');\n",
              "      quickchartButtonEl.style.display =\n",
              "        google.colab.kernel.accessAllowed ? 'block' : 'none';\n",
              "    })();\n",
              "  </script>\n",
              "</div>\n",
              "    </div>\n",
              "  </div>\n"
            ]
          },
          "metadata": {},
          "execution_count": 18
        }
      ]
    },
    {
      "cell_type": "code",
      "source": [
        "bool(0)"
      ],
      "metadata": {
        "colab": {
          "base_uri": "https://localhost:8080/"
        },
        "id": "pPAILUulZjtm",
        "outputId": "6f2ec7dd-0c10-46e3-af10-43d9755a1fe3"
      },
      "execution_count": null,
      "outputs": [
        {
          "output_type": "execute_result",
          "data": {
            "text/plain": [
              "False"
            ]
          },
          "metadata": {},
          "execution_count": 21
        }
      ]
    },
    {
      "cell_type": "code",
      "source": [
        "bool('a')"
      ],
      "metadata": {
        "colab": {
          "base_uri": "https://localhost:8080/"
        },
        "id": "zImwxogrjzHd",
        "outputId": "9bdda328-2963-469b-c1d8-4cc489fdc6ee"
      },
      "execution_count": null,
      "outputs": [
        {
          "output_type": "execute_result",
          "data": {
            "text/plain": [
              "True"
            ]
          },
          "metadata": {},
          "execution_count": 23
        }
      ]
    },
    {
      "cell_type": "code",
      "source": [
        "bool(None)"
      ],
      "metadata": {
        "colab": {
          "base_uri": "https://localhost:8080/"
        },
        "id": "L8j6AICwj0ss",
        "outputId": "0ca4776b-d7b9-40ac-ea37-b2ef22d23c35"
      },
      "execution_count": null,
      "outputs": [
        {
          "output_type": "execute_result",
          "data": {
            "text/plain": [
              "False"
            ]
          },
          "metadata": {},
          "execution_count": 24
        }
      ]
    },
    {
      "cell_type": "code",
      "source": [
        "bool(\" \") #string with length 1"
      ],
      "metadata": {
        "colab": {
          "base_uri": "https://localhost:8080/"
        },
        "id": "K2OTNnoMj6yz",
        "outputId": "b98a38be-80a1-43d3-a887-4ec5e1a2cf13"
      },
      "execution_count": null,
      "outputs": [
        {
          "output_type": "execute_result",
          "data": {
            "text/plain": [
              "True"
            ]
          },
          "metadata": {},
          "execution_count": 25
        }
      ]
    },
    {
      "cell_type": "code",
      "source": [
        "bool(\"\") #string of zero length"
      ],
      "metadata": {
        "colab": {
          "base_uri": "https://localhost:8080/"
        },
        "id": "iG6OKwcBkbA4",
        "outputId": "d85de3b3-6ea9-45fc-e2a0-b0a206fe21b2"
      },
      "execution_count": null,
      "outputs": [
        {
          "output_type": "execute_result",
          "data": {
            "text/plain": [
              "False"
            ]
          },
          "metadata": {},
          "execution_count": 26
        }
      ]
    },
    {
      "cell_type": "code",
      "source": [],
      "metadata": {
        "id": "neA2I7YckfGd"
      },
      "execution_count": null,
      "outputs": []
    }
  ]
}