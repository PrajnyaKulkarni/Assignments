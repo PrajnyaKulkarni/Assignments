{
 "cells": [
  {
   "cell_type": "markdown",
   "id": "98ae50d5",
   "metadata": {},
   "source": [
    "### Import necessary libraries"
   ]
  },
  {
   "cell_type": "code",
   "execution_count": 2,
   "id": "2b7ed009",
   "metadata": {},
   "outputs": [],
   "source": [
    "import pandas as pd\n",
    "import numpy as np\n",
    "\n",
    "from scipy.stats import kurtosis\n",
    "from scipy.stats import skew\n",
    "\n",
    "import seaborn as sns\n",
    "from matplotlib import pyplot as plt\n",
    "\n",
    "import statsmodels.api as sm\n",
    "import statsmodels.formula.api as smf\n",
    "from statsmodels.graphics.regressionplots import influence_plot\n",
    "\n",
    "import warnings\n",
    "warnings.filterwarnings('ignore')"
   ]
  },
  {
   "cell_type": "markdown",
   "id": "257362dc",
   "metadata": {},
   "source": [
    "### 1. Prepare a prediction model for profit of 50_startups data.Do transformations for getting better predictions of profit and make a table containing R^2 value for each prepared model.\n",
    "\n",
    "* R&D Spend -- Research and devolop spend in the past few years\n",
    "* Administration -- spend on administration in the past few years\n",
    "* Marketing Spend -- spend on Marketing in the past few years\n",
    "* State -- states from which data is collected\n",
    "* Profit  -- profit of each state in the past few years"
   ]
  },
  {
   "cell_type": "markdown",
   "id": "9bb252af",
   "metadata": {},
   "source": [
    "### Import the data"
   ]
  },
  {
   "cell_type": "code",
   "execution_count": 3,
   "id": "29064ecd",
   "metadata": {},
   "outputs": [
    {
     "data": {
      "text/html": [
       "<div>\n",
       "<style scoped>\n",
       "    .dataframe tbody tr th:only-of-type {\n",
       "        vertical-align: middle;\n",
       "    }\n",
       "\n",
       "    .dataframe tbody tr th {\n",
       "        vertical-align: top;\n",
       "    }\n",
       "\n",
       "    .dataframe thead th {\n",
       "        text-align: right;\n",
       "    }\n",
       "</style>\n",
       "<table border=\"1\" class=\"dataframe\">\n",
       "  <thead>\n",
       "    <tr style=\"text-align: right;\">\n",
       "      <th></th>\n",
       "      <th>R&amp;D Spend</th>\n",
       "      <th>Administration</th>\n",
       "      <th>Marketing Spend</th>\n",
       "      <th>State</th>\n",
       "      <th>Profit</th>\n",
       "    </tr>\n",
       "  </thead>\n",
       "  <tbody>\n",
       "    <tr>\n",
       "      <th>0</th>\n",
       "      <td>165349.20</td>\n",
       "      <td>136897.80</td>\n",
       "      <td>471784.10</td>\n",
       "      <td>New York</td>\n",
       "      <td>192261.83</td>\n",
       "    </tr>\n",
       "    <tr>\n",
       "      <th>1</th>\n",
       "      <td>162597.70</td>\n",
       "      <td>151377.59</td>\n",
       "      <td>443898.53</td>\n",
       "      <td>California</td>\n",
       "      <td>191792.06</td>\n",
       "    </tr>\n",
       "    <tr>\n",
       "      <th>2</th>\n",
       "      <td>153441.51</td>\n",
       "      <td>101145.55</td>\n",
       "      <td>407934.54</td>\n",
       "      <td>Florida</td>\n",
       "      <td>191050.39</td>\n",
       "    </tr>\n",
       "    <tr>\n",
       "      <th>3</th>\n",
       "      <td>144372.41</td>\n",
       "      <td>118671.85</td>\n",
       "      <td>383199.62</td>\n",
       "      <td>New York</td>\n",
       "      <td>182901.99</td>\n",
       "    </tr>\n",
       "    <tr>\n",
       "      <th>4</th>\n",
       "      <td>142107.34</td>\n",
       "      <td>91391.77</td>\n",
       "      <td>366168.42</td>\n",
       "      <td>Florida</td>\n",
       "      <td>166187.94</td>\n",
       "    </tr>\n",
       "  </tbody>\n",
       "</table>\n",
       "</div>"
      ],
      "text/plain": [
       "   R&D Spend  Administration  Marketing Spend       State     Profit\n",
       "0  165349.20       136897.80        471784.10    New York  192261.83\n",
       "1  162597.70       151377.59        443898.53  California  191792.06\n",
       "2  153441.51       101145.55        407934.54     Florida  191050.39\n",
       "3  144372.41       118671.85        383199.62    New York  182901.99\n",
       "4  142107.34        91391.77        366168.42     Florida  166187.94"
      ]
     },
     "execution_count": 3,
     "metadata": {},
     "output_type": "execute_result"
    }
   ],
   "source": [
    "startup = pd.read_csv(\"D:\\\\Downloads\\\\Prajnya\\\\Study related documet\\\\Assignments\\\\5.Multi linear regression\\\\50_Startups.csv\")\n",
    "startup.head()"
   ]
  },
  {
   "cell_type": "code",
   "execution_count": 4,
   "id": "17beb053",
   "metadata": {},
   "outputs": [
    {
     "data": {
      "text/html": [
       "<div>\n",
       "<style scoped>\n",
       "    .dataframe tbody tr th:only-of-type {\n",
       "        vertical-align: middle;\n",
       "    }\n",
       "\n",
       "    .dataframe tbody tr th {\n",
       "        vertical-align: top;\n",
       "    }\n",
       "\n",
       "    .dataframe thead th {\n",
       "        text-align: right;\n",
       "    }\n",
       "</style>\n",
       "<table border=\"1\" class=\"dataframe\">\n",
       "  <thead>\n",
       "    <tr style=\"text-align: right;\">\n",
       "      <th></th>\n",
       "      <th>RD</th>\n",
       "      <th>Administration</th>\n",
       "      <th>Marketing</th>\n",
       "      <th>State</th>\n",
       "      <th>Profit</th>\n",
       "    </tr>\n",
       "  </thead>\n",
       "  <tbody>\n",
       "    <tr>\n",
       "      <th>0</th>\n",
       "      <td>165349.20</td>\n",
       "      <td>136897.80</td>\n",
       "      <td>471784.10</td>\n",
       "      <td>New York</td>\n",
       "      <td>192261.83</td>\n",
       "    </tr>\n",
       "    <tr>\n",
       "      <th>1</th>\n",
       "      <td>162597.70</td>\n",
       "      <td>151377.59</td>\n",
       "      <td>443898.53</td>\n",
       "      <td>California</td>\n",
       "      <td>191792.06</td>\n",
       "    </tr>\n",
       "    <tr>\n",
       "      <th>2</th>\n",
       "      <td>153441.51</td>\n",
       "      <td>101145.55</td>\n",
       "      <td>407934.54</td>\n",
       "      <td>Florida</td>\n",
       "      <td>191050.39</td>\n",
       "    </tr>\n",
       "    <tr>\n",
       "      <th>3</th>\n",
       "      <td>144372.41</td>\n",
       "      <td>118671.85</td>\n",
       "      <td>383199.62</td>\n",
       "      <td>New York</td>\n",
       "      <td>182901.99</td>\n",
       "    </tr>\n",
       "    <tr>\n",
       "      <th>4</th>\n",
       "      <td>142107.34</td>\n",
       "      <td>91391.77</td>\n",
       "      <td>366168.42</td>\n",
       "      <td>Florida</td>\n",
       "      <td>166187.94</td>\n",
       "    </tr>\n",
       "  </tbody>\n",
       "</table>\n",
       "</div>"
      ],
      "text/plain": [
       "          RD  Administration  Marketing       State     Profit\n",
       "0  165349.20       136897.80  471784.10    New York  192261.83\n",
       "1  162597.70       151377.59  443898.53  California  191792.06\n",
       "2  153441.51       101145.55  407934.54     Florida  191050.39\n",
       "3  144372.41       118671.85  383199.62    New York  182901.99\n",
       "4  142107.34        91391.77  366168.42     Florida  166187.94"
      ]
     },
     "execution_count": 4,
     "metadata": {},
     "output_type": "execute_result"
    }
   ],
   "source": [
    "# Renaming Columns\n",
    "startup=startup.rename({'R&D Spend':'RD', 'Marketing Spend':'Marketing'},axis=1)\n",
    "startup.head()"
   ]
  },
  {
   "cell_type": "markdown",
   "id": "aa427b52",
   "metadata": {},
   "source": [
    "### EDA"
   ]
  },
  {
   "cell_type": "code",
   "execution_count": 5,
   "id": "6b770b08",
   "metadata": {},
   "outputs": [
    {
     "data": {
      "text/plain": [
       "(50, 5)"
      ]
     },
     "execution_count": 5,
     "metadata": {},
     "output_type": "execute_result"
    }
   ],
   "source": [
    "startup.shape"
   ]
  },
  {
   "cell_type": "code",
   "execution_count": 6,
   "id": "9713ce65",
   "metadata": {},
   "outputs": [
    {
     "data": {
      "text/plain": [
       "RD                0\n",
       "Administration    0\n",
       "Marketing         0\n",
       "State             0\n",
       "Profit            0\n",
       "dtype: int64"
      ]
     },
     "execution_count": 6,
     "metadata": {},
     "output_type": "execute_result"
    }
   ],
   "source": [
    "startup.isna().sum()"
   ]
  },
  {
   "cell_type": "code",
   "execution_count": 8,
   "id": "6e9628cb",
   "metadata": {},
   "outputs": [
    {
     "name": "stdout",
     "output_type": "stream",
     "text": [
      "<class 'pandas.core.frame.DataFrame'>\n",
      "RangeIndex: 50 entries, 0 to 49\n",
      "Data columns (total 5 columns):\n",
      " #   Column          Non-Null Count  Dtype  \n",
      "---  ------          --------------  -----  \n",
      " 0   RD              50 non-null     float64\n",
      " 1   Administration  50 non-null     float64\n",
      " 2   Marketing       50 non-null     float64\n",
      " 3   State           50 non-null     object \n",
      " 4   Profit          50 non-null     float64\n",
      "dtypes: float64(4), object(1)\n",
      "memory usage: 2.1+ KB\n"
     ]
    }
   ],
   "source": [
    "startup.info()"
   ]
  },
  {
   "cell_type": "code",
   "execution_count": 9,
   "id": "50568fe6",
   "metadata": {},
   "outputs": [
    {
     "data": {
      "text/plain": [
       "RD                float64\n",
       "Administration    float64\n",
       "Marketing         float64\n",
       "State              object\n",
       "Profit            float64\n",
       "dtype: object"
      ]
     },
     "execution_count": 9,
     "metadata": {},
     "output_type": "execute_result"
    }
   ],
   "source": [
    "startup.dtypes"
   ]
  },
  {
   "cell_type": "code",
   "execution_count": 10,
   "id": "ee5ca1a8",
   "metadata": {},
   "outputs": [
    {
     "data": {
      "text/plain": [
       "0"
      ]
     },
     "execution_count": 10,
     "metadata": {},
     "output_type": "execute_result"
    }
   ],
   "source": [
    "startup.duplicated().sum()"
   ]
  },
  {
   "cell_type": "code",
   "execution_count": 11,
   "id": "eb0afb87",
   "metadata": {},
   "outputs": [
    {
     "data": {
      "text/html": [
       "<div>\n",
       "<style scoped>\n",
       "    .dataframe tbody tr th:only-of-type {\n",
       "        vertical-align: middle;\n",
       "    }\n",
       "\n",
       "    .dataframe tbody tr th {\n",
       "        vertical-align: top;\n",
       "    }\n",
       "\n",
       "    .dataframe thead th {\n",
       "        text-align: right;\n",
       "    }\n",
       "</style>\n",
       "<table border=\"1\" class=\"dataframe\">\n",
       "  <thead>\n",
       "    <tr style=\"text-align: right;\">\n",
       "      <th></th>\n",
       "      <th>RD</th>\n",
       "      <th>Administration</th>\n",
       "      <th>Marketing</th>\n",
       "      <th>Profit</th>\n",
       "    </tr>\n",
       "  </thead>\n",
       "  <tbody>\n",
       "    <tr>\n",
       "      <th>count</th>\n",
       "      <td>50.000000</td>\n",
       "      <td>50.000000</td>\n",
       "      <td>50.000000</td>\n",
       "      <td>50.000000</td>\n",
       "    </tr>\n",
       "    <tr>\n",
       "      <th>mean</th>\n",
       "      <td>73721.615600</td>\n",
       "      <td>121344.639600</td>\n",
       "      <td>211025.097800</td>\n",
       "      <td>112012.639200</td>\n",
       "    </tr>\n",
       "    <tr>\n",
       "      <th>std</th>\n",
       "      <td>45902.256482</td>\n",
       "      <td>28017.802755</td>\n",
       "      <td>122290.310726</td>\n",
       "      <td>40306.180338</td>\n",
       "    </tr>\n",
       "    <tr>\n",
       "      <th>min</th>\n",
       "      <td>0.000000</td>\n",
       "      <td>51283.140000</td>\n",
       "      <td>0.000000</td>\n",
       "      <td>14681.400000</td>\n",
       "    </tr>\n",
       "    <tr>\n",
       "      <th>25%</th>\n",
       "      <td>39936.370000</td>\n",
       "      <td>103730.875000</td>\n",
       "      <td>129300.132500</td>\n",
       "      <td>90138.902500</td>\n",
       "    </tr>\n",
       "    <tr>\n",
       "      <th>50%</th>\n",
       "      <td>73051.080000</td>\n",
       "      <td>122699.795000</td>\n",
       "      <td>212716.240000</td>\n",
       "      <td>107978.190000</td>\n",
       "    </tr>\n",
       "    <tr>\n",
       "      <th>75%</th>\n",
       "      <td>101602.800000</td>\n",
       "      <td>144842.180000</td>\n",
       "      <td>299469.085000</td>\n",
       "      <td>139765.977500</td>\n",
       "    </tr>\n",
       "    <tr>\n",
       "      <th>max</th>\n",
       "      <td>165349.200000</td>\n",
       "      <td>182645.560000</td>\n",
       "      <td>471784.100000</td>\n",
       "      <td>192261.830000</td>\n",
       "    </tr>\n",
       "  </tbody>\n",
       "</table>\n",
       "</div>"
      ],
      "text/plain": [
       "                  RD  Administration      Marketing         Profit\n",
       "count      50.000000       50.000000      50.000000      50.000000\n",
       "mean    73721.615600   121344.639600  211025.097800  112012.639200\n",
       "std     45902.256482    28017.802755  122290.310726   40306.180338\n",
       "min         0.000000    51283.140000       0.000000   14681.400000\n",
       "25%     39936.370000   103730.875000  129300.132500   90138.902500\n",
       "50%     73051.080000   122699.795000  212716.240000  107978.190000\n",
       "75%    101602.800000   144842.180000  299469.085000  139765.977500\n",
       "max    165349.200000   182645.560000  471784.100000  192261.830000"
      ]
     },
     "execution_count": 11,
     "metadata": {},
     "output_type": "execute_result"
    }
   ],
   "source": [
    "startup.describe()"
   ]
  },
  {
   "cell_type": "code",
   "execution_count": 12,
   "id": "449f50df",
   "metadata": {},
   "outputs": [
    {
     "name": "stdout",
     "output_type": "stream",
     "text": [
      "-0.8050676431519039\n",
      "0.08553840791984113\n",
      "-0.7240327111087308\n",
      "-0.17529637679752152\n"
     ]
    }
   ],
   "source": [
    "print(kurtosis(startup.RD))\n",
    "print(kurtosis(startup.Administration))\n",
    "print(kurtosis(startup.Marketing))\n",
    "print(kurtosis(startup.Profit))"
   ]
  },
  {
   "cell_type": "code",
   "execution_count": 13,
   "id": "de3979bf",
   "metadata": {},
   "outputs": [
    {
     "name": "stdout",
     "output_type": "stream",
     "text": [
      "0.15904052321503395\n",
      "-0.4742300698920047\n",
      "-0.04506631617666136\n",
      "0.02258638356958943\n"
     ]
    }
   ],
   "source": [
    "print(skew(startup.RD))\n",
    "print(skew(startup.Administration))\n",
    "print(skew(startup.Marketing))\n",
    "print(skew(startup.Profit))"
   ]
  },
  {
   "cell_type": "code",
   "execution_count": 14,
   "id": "9aa717b4",
   "metadata": {
    "scrolled": true
   },
   "outputs": [
    {
     "data": {
      "image/png": "[encoded data removed]",
      "text/plain": [
       "<Figure size 432x288 with 1 Axes>"
      ]
     },
     "metadata": {
      "needs_background": "light"
     },
     "output_type": "display_data"
    }
   ],
   "source": [
    "sns.barplot(x='State',y='Profit',data = startup)\n",
    "plt.title(\"State V/s Profit\")\n",
    "plt.show()"
   ]
  },
  {
   "cell_type": "code",
   "execution_count": 15,
   "id": "0c8636f9",
   "metadata": {},
   "outputs": [
    {
     "data": {
      "image/png": "[encoded data removed]",
      "text/plain": [
       "<Figure size 720x720 with 20 Axes>"
      ]
     },
     "metadata": {
      "needs_background": "light"
     },
     "output_type": "display_data"
    }
   ],
   "source": [
    "sns.pairplot(startup)\n",
    "plt.show()"
   ]
  },
  {
   "cell_type": "code",
   "execution_count": 16,
   "id": "8fc0d879",
   "metadata": {
    "scrolled": true
   },
   "outputs": [
    {
     "data": {
      "image/png": "[encoded data removed]",
      "text/plain": [
       "<Figure size 432x288 with 1 Axes>"
      ]
     },
     "metadata": {
      "needs_background": "light"
     },
     "output_type": "display_data"
    }
   ],
   "source": [
    "startup['Profit'].hist()\n",
    "plt.show()"
   ]
  },
  {
   "cell_type": "code",
   "execution_count": 17,
   "id": "6c14ba95",
   "metadata": {},
   "outputs": [
    {
     "data": {
      "image/png": "[encoded data removed]",
      "text/plain": [
       "<Figure size 360x360 with 1 Axes>"
      ]
     },
     "metadata": {
      "needs_background": "light"
     },
     "output_type": "display_data"
    }
   ],
   "source": [
    "sns.lmplot(x='RD',y='Profit',data=startup)\n",
    "plt.title('R_and_D V/s Profit')\n",
    "plt.show()"
   ]
  },
  {
   "cell_type": "code",
   "execution_count": 18,
   "id": "2612a36b",
   "metadata": {},
   "outputs": [
    {
     "data": {
      "image/png": "[encoded data removed]",
      "text/plain": [
       "<Figure size 360x360 with 1 Axes>"
      ]
     },
     "metadata": {
      "needs_background": "light"
     },
     "output_type": "display_data"
    }
   ],
   "source": [
    "sns.lmplot(x='Administration',y='Profit',data=startup)\n",
    "plt.title('Administration V/s Profit')\n",
    "plt.show()"
   ]
  },
  {
   "cell_type": "code",
   "execution_count": 19,
   "id": "aa00d6ce",
   "metadata": {
    "scrolled": true
   },
   "outputs": [
    {
     "data": {
      "image/png": "[encoded data removed]",
      "text/plain": [
       "<Figure size 360x360 with 1 Axes>"
      ]
     },
     "metadata": {
      "needs_background": "light"
     },
     "output_type": "display_data"
    }
   ],
   "source": [
    "sns.lmplot(x='Marketing',y='Profit',data=startup)\n",
    "plt.title('Marketing V/s Profit')\n",
    "plt.show()"
   ]
  },
  {
   "cell_type": "code",
   "execution_count": 20,
   "id": "e76e390e",
   "metadata": {
    "scrolled": true
   },
   "outputs": [
    {
     "data": {
      "image/png": "[encoded data removed]",
      "text/plain": [
       "<Figure size 432x288 with 1 Axes>"
      ]
     },
     "metadata": {
      "needs_background": "light"
     },
     "output_type": "display_data"
    },
    {
     "data": {
      "image/png": "[encoded data removed]",
      "text/plain": [
       "<Figure size 432x288 with 1 Axes>"
      ]
     },
     "metadata": {
      "needs_background": "light"
     },
     "output_type": "display_data"
    },
    {
     "data": {
      "image/png": "[encoded data removed]",
      "text/plain": [
       "<Figure size 432x288 with 1 Axes>"
      ]
     },
     "metadata": {
      "needs_background": "light"
     },
     "output_type": "display_data"
    },
    {
     "data": {
      "image/png": "[encoded data removed]",
      "text/plain": [
       "<Figure size 432x288 with 1 Axes>"
      ]
     },
     "metadata": {
      "needs_background": "light"
     },
     "output_type": "display_data"
    }
   ],
   "source": [
    "sns.distplot(startup['RD'])\n",
    "plt.show()\n",
    "sns.distplot(startup['Administration'])\n",
    "plt.show()\n",
    "sns.distplot(startup['Marketing'])\n",
    "plt.show()\n",
    "sns.distplot(startup['Profit'])\n",
    "plt.show()"
   ]
  },
  {
   "cell_type": "code",
   "execution_count": 24,
   "id": "c258383e",
   "metadata": {},
   "outputs": [
    {
     "data": {
      "image/png": "[encoded data removed]",
      "text/plain": [
       "<Figure size 432x288 with 1 Axes>"
      ]
     },
     "metadata": {
      "needs_background": "light"
     },
     "output_type": "display_data"
    }
   ],
   "source": [
    "sns.boxplot(startup['Profit'])\n",
    "plt.show()"
   ]
  },
  {
   "cell_type": "code",
   "execution_count": 21,
   "id": "5cb04016",
   "metadata": {},
   "outputs": [
    {
     "data": {
      "image/png": "[encoded data removed]",
      "text/plain": [
       "<Figure size 432x288 with 1 Axes>"
      ]
     },
     "metadata": {
      "needs_background": "light"
     },
     "output_type": "display_data"
    }
   ],
   "source": [
    "sns.distplot(np.log(startup['Profit']))\n",
    "plt.show()"
   ]
  },
  {
   "cell_type": "code",
   "execution_count": 25,
   "id": "27191ddf",
   "metadata": {},
   "outputs": [
    {
     "data": {
      "text/html": [
       "<div>\n",
       "<style scoped>\n",
       "    .dataframe tbody tr th:only-of-type {\n",
       "        vertical-align: middle;\n",
       "    }\n",
       "\n",
       "    .dataframe tbody tr th {\n",
       "        vertical-align: top;\n",
       "    }\n",
       "\n",
       "    .dataframe thead th {\n",
       "        text-align: right;\n",
       "    }\n",
       "</style>\n",
       "<table border=\"1\" class=\"dataframe\">\n",
       "  <thead>\n",
       "    <tr style=\"text-align: right;\">\n",
       "      <th></th>\n",
       "      <th>RD</th>\n",
       "      <th>Administration</th>\n",
       "      <th>Marketing</th>\n",
       "      <th>Profit</th>\n",
       "    </tr>\n",
       "  </thead>\n",
       "  <tbody>\n",
       "    <tr>\n",
       "      <th>0</th>\n",
       "      <td>165349.20</td>\n",
       "      <td>136897.80</td>\n",
       "      <td>471784.10</td>\n",
       "      <td>192261.83</td>\n",
       "    </tr>\n",
       "    <tr>\n",
       "      <th>1</th>\n",
       "      <td>162597.70</td>\n",
       "      <td>151377.59</td>\n",
       "      <td>443898.53</td>\n",
       "      <td>191792.06</td>\n",
       "    </tr>\n",
       "    <tr>\n",
       "      <th>2</th>\n",
       "      <td>153441.51</td>\n",
       "      <td>101145.55</td>\n",
       "      <td>407934.54</td>\n",
       "      <td>191050.39</td>\n",
       "    </tr>\n",
       "    <tr>\n",
       "      <th>3</th>\n",
       "      <td>144372.41</td>\n",
       "      <td>118671.85</td>\n",
       "      <td>383199.62</td>\n",
       "      <td>182901.99</td>\n",
       "    </tr>\n",
       "    <tr>\n",
       "      <th>4</th>\n",
       "      <td>142107.34</td>\n",
       "      <td>91391.77</td>\n",
       "      <td>366168.42</td>\n",
       "      <td>166187.94</td>\n",
       "    </tr>\n",
       "  </tbody>\n",
       "</table>\n",
       "</div>"
      ],
      "text/plain": [
       "          RD  Administration  Marketing     Profit\n",
       "0  165349.20       136897.80  471784.10  192261.83\n",
       "1  162597.70       151377.59  443898.53  191792.06\n",
       "2  153441.51       101145.55  407934.54  191050.39\n",
       "3  144372.41       118671.85  383199.62  182901.99\n",
       "4  142107.34        91391.77  366168.42  166187.94"
      ]
     },
     "execution_count": 25,
     "metadata": {},
     "output_type": "execute_result"
    }
   ],
   "source": [
    "#Drop the column State from the dataframe\n",
    "startup.drop(columns=['State'],axis = 1, inplace = True)\n",
    "startup.head()"
   ]
  },
  {
   "cell_type": "markdown",
   "id": "fe973e84",
   "metadata": {},
   "source": [
    "### correlation"
   ]
  },
  {
   "cell_type": "code",
   "execution_count": 26,
   "id": "c054f4d5",
   "metadata": {},
   "outputs": [
    {
     "data": {
      "text/html": [
       "<div>\n",
       "<style scoped>\n",
       "    .dataframe tbody tr th:only-of-type {\n",
       "        vertical-align: middle;\n",
       "    }\n",
       "\n",
       "    .dataframe tbody tr th {\n",
       "        vertical-align: top;\n",
       "    }\n",
       "\n",
       "    .dataframe thead th {\n",
       "        text-align: right;\n",
       "    }\n",
       "</style>\n",
       "<table border=\"1\" class=\"dataframe\">\n",
       "  <thead>\n",
       "    <tr style=\"text-align: right;\">\n",
       "      <th></th>\n",
       "      <th>RD</th>\n",
       "      <th>Administration</th>\n",
       "      <th>Marketing</th>\n",
       "      <th>Profit</th>\n",
       "    </tr>\n",
       "  </thead>\n",
       "  <tbody>\n",
       "    <tr>\n",
       "      <th>RD</th>\n",
       "      <td>1.000000</td>\n",
       "      <td>0.241955</td>\n",
       "      <td>0.724248</td>\n",
       "      <td>0.972900</td>\n",
       "    </tr>\n",
       "    <tr>\n",
       "      <th>Administration</th>\n",
       "      <td>0.241955</td>\n",
       "      <td>1.000000</td>\n",
       "      <td>-0.032154</td>\n",
       "      <td>0.200717</td>\n",
       "    </tr>\n",
       "    <tr>\n",
       "      <th>Marketing</th>\n",
       "      <td>0.724248</td>\n",
       "      <td>-0.032154</td>\n",
       "      <td>1.000000</td>\n",
       "      <td>0.747766</td>\n",
       "    </tr>\n",
       "    <tr>\n",
       "      <th>Profit</th>\n",
       "      <td>0.972900</td>\n",
       "      <td>0.200717</td>\n",
       "      <td>0.747766</td>\n",
       "      <td>1.000000</td>\n",
       "    </tr>\n",
       "  </tbody>\n",
       "</table>\n",
       "</div>"
      ],
      "text/plain": [
       "                      RD  Administration  Marketing    Profit\n",
       "RD              1.000000        0.241955   0.724248  0.972900\n",
       "Administration  0.241955        1.000000  -0.032154  0.200717\n",
       "Marketing       0.724248       -0.032154   1.000000  0.747766\n",
       "Profit          0.972900        0.200717   0.747766  1.000000"
      ]
     },
     "execution_count": 26,
     "metadata": {},
     "output_type": "execute_result"
    }
   ],
   "source": [
    "corr_data = startup.corr()\n",
    "corr_data"
   ]
  },
  {
   "cell_type": "code",
   "execution_count": 27,
   "id": "7e99d56e",
   "metadata": {},
   "outputs": [
    {
     "data": {
      "image/png": "[encoded data removed]",
      "text/plain": [
       "<Figure size 432x288 with 2 Axes>"
      ]
     },
     "metadata": {
      "needs_background": "light"
     },
     "output_type": "display_data"
    }
   ],
   "source": [
    "plt.figure(figsize = (6,4))\n",
    "sns.heatmap(data = corr_data,annot = True)\n",
    "plt.show()"
   ]
  },
  {
   "cell_type": "markdown",
   "id": "21e67e60",
   "metadata": {},
   "source": [
    "### Model building"
   ]
  },
  {
   "cell_type": "code",
   "execution_count": 28,
   "id": "7542c5d3",
   "metadata": {},
   "outputs": [
    {
     "data": {
      "text/plain": [
       "<statsmodels.regression.linear_model.RegressionResultsWrapper at 0x2219a005250>"
      ]
     },
     "execution_count": 28,
     "metadata": {},
     "output_type": "execute_result"
    }
   ],
   "source": [
    "model = smf.ols('Profit~RD+Administration+Marketing',data=startup).fit()\n",
    "model"
   ]
  },
  {
   "cell_type": "code",
   "execution_count": 29,
   "id": "18eaa7e3",
   "metadata": {},
   "outputs": [
    {
     "data": {
      "text/plain": [
       "0     192521.252890\n",
       "1     189156.768232\n",
       "2     182147.279096\n",
       "3     173696.700026\n",
       "4     172139.514183\n",
       "5     163580.780571\n",
       "6     158114.096669\n",
       "7     160021.363048\n",
       "8     151741.699699\n",
       "9     154884.684110\n",
       "10    135509.016367\n",
       "11    135573.712961\n",
       "12    129138.054182\n",
       "13    127487.991663\n",
       "14    149548.646335\n",
       "15    146235.159985\n",
       "16    116915.405401\n",
       "17    130192.447208\n",
       "18    129014.226806\n",
       "19    115635.216367\n",
       "20    116639.669231\n",
       "21    117319.451640\n",
       "22    114706.981717\n",
       "23    109996.615221\n",
       "24    113362.966113\n",
       "25    102237.725065\n",
       "26    110600.575350\n",
       "27    114408.071457\n",
       "28    101660.026005\n",
       "29    101794.983452\n",
       "30     99452.372936\n",
       "31     97687.856276\n",
       "32     99001.328985\n",
       "33     97915.007805\n",
       "34     89039.273741\n",
       "35     90511.599568\n",
       "36     75286.174585\n",
       "37     89619.537708\n",
       "38     69697.430648\n",
       "39     83729.011977\n",
       "40     74815.953991\n",
       "41     74802.556239\n",
       "42     70620.411821\n",
       "43     60167.039963\n",
       "44     64611.354916\n",
       "45     47650.649687\n",
       "46     56166.206853\n",
       "47     46490.588983\n",
       "48     49171.388158\n",
       "49     48215.134111\n",
       "dtype: float64"
      ]
     },
     "execution_count": 29,
     "metadata": {},
     "output_type": "execute_result"
    }
   ],
   "source": [
    "model.fittedvalues"
   ]
  },
  {
   "cell_type": "code",
   "execution_count": 30,
   "id": "65f4e611",
   "metadata": {},
   "outputs": [
    {
     "data": {
      "text/plain": [
       "Intercept         50122.192990\n",
       "RD                    0.805715\n",
       "Administration       -0.026816\n",
       "Marketing             0.027228\n",
       "dtype: float64"
      ]
     },
     "execution_count": 30,
     "metadata": {},
     "output_type": "execute_result"
    }
   ],
   "source": [
    "model.params"
   ]
  },
  {
   "cell_type": "code",
   "execution_count": 32,
   "id": "28727b06",
   "metadata": {},
   "outputs": [
    {
     "data": {
      "text/html": [
       "<div>\n",
       "<style scoped>\n",
       "    .dataframe tbody tr th:only-of-type {\n",
       "        vertical-align: middle;\n",
       "    }\n",
       "\n",
       "    .dataframe tbody tr th {\n",
       "        vertical-align: top;\n",
       "    }\n",
       "\n",
       "    .dataframe thead th {\n",
       "        text-align: right;\n",
       "    }\n",
       "</style>\n",
       "<table border=\"1\" class=\"dataframe\">\n",
       "  <thead>\n",
       "    <tr style=\"text-align: right;\">\n",
       "      <th></th>\n",
       "      <th>RD</th>\n",
       "      <th>Administration</th>\n",
       "      <th>Marketing</th>\n",
       "      <th>Profit</th>\n",
       "      <th>Prediction</th>\n",
       "      <th>Prediction_manual</th>\n",
       "      <th>Error</th>\n",
       "    </tr>\n",
       "  </thead>\n",
       "  <tbody>\n",
       "    <tr>\n",
       "      <th>0</th>\n",
       "      <td>165349.20</td>\n",
       "      <td>136897.80</td>\n",
       "      <td>471784.10</td>\n",
       "      <td>192261.83</td>\n",
       "      <td>192521.252890</td>\n",
       "      <td>192521.209738</td>\n",
       "      <td>-259.422890</td>\n",
       "    </tr>\n",
       "    <tr>\n",
       "      <th>1</th>\n",
       "      <td>162597.70</td>\n",
       "      <td>151377.59</td>\n",
       "      <td>443898.53</td>\n",
       "      <td>191792.06</td>\n",
       "      <td>189156.768232</td>\n",
       "      <td>189156.726567</td>\n",
       "      <td>2635.291768</td>\n",
       "    </tr>\n",
       "    <tr>\n",
       "      <th>2</th>\n",
       "      <td>153441.51</td>\n",
       "      <td>101145.55</td>\n",
       "      <td>407934.54</td>\n",
       "      <td>191050.39</td>\n",
       "      <td>182147.279096</td>\n",
       "      <td>182147.241806</td>\n",
       "      <td>8903.110904</td>\n",
       "    </tr>\n",
       "    <tr>\n",
       "      <th>3</th>\n",
       "      <td>144372.41</td>\n",
       "      <td>118671.85</td>\n",
       "      <td>383199.62</td>\n",
       "      <td>182901.99</td>\n",
       "      <td>173696.700026</td>\n",
       "      <td>173696.664237</td>\n",
       "      <td>9205.289974</td>\n",
       "    </tr>\n",
       "    <tr>\n",
       "      <th>4</th>\n",
       "      <td>142107.34</td>\n",
       "      <td>91391.77</td>\n",
       "      <td>366168.42</td>\n",
       "      <td>166187.94</td>\n",
       "      <td>172139.514183</td>\n",
       "      <td>172139.480474</td>\n",
       "      <td>-5951.574183</td>\n",
       "    </tr>\n",
       "    <tr>\n",
       "      <th>5</th>\n",
       "      <td>131876.90</td>\n",
       "      <td>99814.71</td>\n",
       "      <td>362861.36</td>\n",
       "      <td>156991.12</td>\n",
       "      <td>163580.780571</td>\n",
       "      <td>163580.747320</td>\n",
       "      <td>-6589.660571</td>\n",
       "    </tr>\n",
       "    <tr>\n",
       "      <th>6</th>\n",
       "      <td>134615.46</td>\n",
       "      <td>147198.87</td>\n",
       "      <td>127716.82</td>\n",
       "      <td>156122.51</td>\n",
       "      <td>158114.096669</td>\n",
       "      <td>158114.077021</td>\n",
       "      <td>-1991.586669</td>\n",
       "    </tr>\n",
       "    <tr>\n",
       "      <th>7</th>\n",
       "      <td>130298.13</td>\n",
       "      <td>145530.06</td>\n",
       "      <td>323876.68</td>\n",
       "      <td>155752.60</td>\n",
       "      <td>160021.363048</td>\n",
       "      <td>160021.330957</td>\n",
       "      <td>-4268.763048</td>\n",
       "    </tr>\n",
       "    <tr>\n",
       "      <th>8</th>\n",
       "      <td>120542.52</td>\n",
       "      <td>148718.95</td>\n",
       "      <td>311613.29</td>\n",
       "      <td>152211.77</td>\n",
       "      <td>151741.699699</td>\n",
       "      <td>151741.668789</td>\n",
       "      <td>470.070301</td>\n",
       "    </tr>\n",
       "    <tr>\n",
       "      <th>9</th>\n",
       "      <td>123334.88</td>\n",
       "      <td>108679.17</td>\n",
       "      <td>304981.62</td>\n",
       "      <td>149759.96</td>\n",
       "      <td>154884.684110</td>\n",
       "      <td>154884.654756</td>\n",
       "      <td>-5124.724110</td>\n",
       "    </tr>\n",
       "    <tr>\n",
       "      <th>10</th>\n",
       "      <td>101913.08</td>\n",
       "      <td>110594.11</td>\n",
       "      <td>229160.95</td>\n",
       "      <td>146121.95</td>\n",
       "      <td>135509.016367</td>\n",
       "      <td>135508.992935</td>\n",
       "      <td>10612.933633</td>\n",
       "    </tr>\n",
       "    <tr>\n",
       "      <th>11</th>\n",
       "      <td>100671.96</td>\n",
       "      <td>91790.61</td>\n",
       "      <td>249744.55</td>\n",
       "      <td>144259.40</td>\n",
       "      <td>135573.712961</td>\n",
       "      <td>135573.688851</td>\n",
       "      <td>8685.687039</td>\n",
       "    </tr>\n",
       "    <tr>\n",
       "      <th>12</th>\n",
       "      <td>93863.75</td>\n",
       "      <td>127320.38</td>\n",
       "      <td>249839.44</td>\n",
       "      <td>141585.52</td>\n",
       "      <td>129138.054182</td>\n",
       "      <td>129138.029283</td>\n",
       "      <td>12447.465818</td>\n",
       "    </tr>\n",
       "    <tr>\n",
       "      <th>13</th>\n",
       "      <td>91992.39</td>\n",
       "      <td>135495.07</td>\n",
       "      <td>252664.93</td>\n",
       "      <td>134307.35</td>\n",
       "      <td>127487.991663</td>\n",
       "      <td>127487.966416</td>\n",
       "      <td>6819.358337</td>\n",
       "    </tr>\n",
       "    <tr>\n",
       "      <th>14</th>\n",
       "      <td>119943.24</td>\n",
       "      <td>156547.42</td>\n",
       "      <td>256512.92</td>\n",
       "      <td>132602.65</td>\n",
       "      <td>149548.646335</td>\n",
       "      <td>149548.618778</td>\n",
       "      <td>-16945.996335</td>\n",
       "    </tr>\n",
       "    <tr>\n",
       "      <th>15</th>\n",
       "      <td>114523.61</td>\n",
       "      <td>122616.84</td>\n",
       "      <td>261776.23</td>\n",
       "      <td>129917.04</td>\n",
       "      <td>146235.159985</td>\n",
       "      <td>146235.133430</td>\n",
       "      <td>-16318.119985</td>\n",
       "    </tr>\n",
       "    <tr>\n",
       "      <th>16</th>\n",
       "      <td>78013.11</td>\n",
       "      <td>121597.55</td>\n",
       "      <td>264346.06</td>\n",
       "      <td>126992.93</td>\n",
       "      <td>116915.405401</td>\n",
       "      <td>116915.380535</td>\n",
       "      <td>10077.524599</td>\n",
       "    </tr>\n",
       "    <tr>\n",
       "      <th>17</th>\n",
       "      <td>94657.16</td>\n",
       "      <td>145077.58</td>\n",
       "      <td>282574.31</td>\n",
       "      <td>125370.37</td>\n",
       "      <td>130192.447208</td>\n",
       "      <td>130192.419587</td>\n",
       "      <td>-4822.077208</td>\n",
       "    </tr>\n",
       "    <tr>\n",
       "      <th>18</th>\n",
       "      <td>91749.16</td>\n",
       "      <td>114175.79</td>\n",
       "      <td>294919.57</td>\n",
       "      <td>124266.90</td>\n",
       "      <td>129014.226806</td>\n",
       "      <td>129014.199507</td>\n",
       "      <td>-4747.326806</td>\n",
       "    </tr>\n",
       "    <tr>\n",
       "      <th>19</th>\n",
       "      <td>86419.70</td>\n",
       "      <td>153514.11</td>\n",
       "      <td>0.00</td>\n",
       "      <td>122776.86</td>\n",
       "      <td>115635.216367</td>\n",
       "      <td>115635.207202</td>\n",
       "      <td>7141.643633</td>\n",
       "    </tr>\n",
       "    <tr>\n",
       "      <th>20</th>\n",
       "      <td>76253.86</td>\n",
       "      <td>113867.30</td>\n",
       "      <td>298664.47</td>\n",
       "      <td>118474.03</td>\n",
       "      <td>116639.669231</td>\n",
       "      <td>116639.642472</td>\n",
       "      <td>1834.360769</td>\n",
       "    </tr>\n",
       "    <tr>\n",
       "      <th>21</th>\n",
       "      <td>78389.47</td>\n",
       "      <td>153773.43</td>\n",
       "      <td>299737.29</td>\n",
       "      <td>111313.02</td>\n",
       "      <td>117319.451640</td>\n",
       "      <td>117319.423444</td>\n",
       "      <td>-6006.431640</td>\n",
       "    </tr>\n",
       "    <tr>\n",
       "      <th>22</th>\n",
       "      <td>73994.56</td>\n",
       "      <td>122782.75</td>\n",
       "      <td>303319.26</td>\n",
       "      <td>110352.25</td>\n",
       "      <td>114706.981717</td>\n",
       "      <td>114706.954488</td>\n",
       "      <td>-4354.731717</td>\n",
       "    </tr>\n",
       "    <tr>\n",
       "      <th>23</th>\n",
       "      <td>67532.53</td>\n",
       "      <td>105751.03</td>\n",
       "      <td>304768.73</td>\n",
       "      <td>108733.99</td>\n",
       "      <td>109996.615221</td>\n",
       "      <td>109996.588759</td>\n",
       "      <td>-1262.625221</td>\n",
       "    </tr>\n",
       "    <tr>\n",
       "      <th>24</th>\n",
       "      <td>77044.01</td>\n",
       "      <td>99281.34</td>\n",
       "      <td>140574.81</td>\n",
       "      <td>108552.04</td>\n",
       "      <td>113362.966113</td>\n",
       "      <td>113362.950020</td>\n",
       "      <td>-4810.926113</td>\n",
       "    </tr>\n",
       "    <tr>\n",
       "      <th>25</th>\n",
       "      <td>64664.71</td>\n",
       "      <td>139553.16</td>\n",
       "      <td>137962.62</td>\n",
       "      <td>107404.34</td>\n",
       "      <td>102237.725065</td>\n",
       "      <td>102237.708486</td>\n",
       "      <td>5166.614935</td>\n",
       "    </tr>\n",
       "    <tr>\n",
       "      <th>26</th>\n",
       "      <td>75328.87</td>\n",
       "      <td>144135.98</td>\n",
       "      <td>134050.07</td>\n",
       "      <td>105733.54</td>\n",
       "      <td>110600.575350</td>\n",
       "      <td>110600.558348</td>\n",
       "      <td>-4867.035350</td>\n",
       "    </tr>\n",
       "    <tr>\n",
       "      <th>27</th>\n",
       "      <td>72107.60</td>\n",
       "      <td>127864.55</td>\n",
       "      <td>353183.81</td>\n",
       "      <td>105008.31</td>\n",
       "      <td>114408.071457</td>\n",
       "      <td>114408.040930</td>\n",
       "      <td>-9399.761457</td>\n",
       "    </tr>\n",
       "    <tr>\n",
       "      <th>28</th>\n",
       "      <td>66051.52</td>\n",
       "      <td>182645.56</td>\n",
       "      <td>118148.20</td>\n",
       "      <td>103282.38</td>\n",
       "      <td>101660.026005</td>\n",
       "      <td>101660.009279</td>\n",
       "      <td>1622.353995</td>\n",
       "    </tr>\n",
       "    <tr>\n",
       "      <th>29</th>\n",
       "      <td>65605.48</td>\n",
       "      <td>153032.06</td>\n",
       "      <td>107138.38</td>\n",
       "      <td>101004.64</td>\n",
       "      <td>101794.983452</td>\n",
       "      <td>101794.968398</td>\n",
       "      <td>-790.343452</td>\n",
       "    </tr>\n",
       "    <tr>\n",
       "      <th>30</th>\n",
       "      <td>61994.48</td>\n",
       "      <td>115641.28</td>\n",
       "      <td>91131.24</td>\n",
       "      <td>99937.59</td>\n",
       "      <td>99452.372936</td>\n",
       "      <td>99452.360281</td>\n",
       "      <td>485.217064</td>\n",
       "    </tr>\n",
       "    <tr>\n",
       "      <th>31</th>\n",
       "      <td>61136.38</td>\n",
       "      <td>152701.92</td>\n",
       "      <td>88218.23</td>\n",
       "      <td>97483.56</td>\n",
       "      <td>97687.856276</td>\n",
       "      <td>97687.842681</td>\n",
       "      <td>-204.296276</td>\n",
       "    </tr>\n",
       "    <tr>\n",
       "      <th>32</th>\n",
       "      <td>63408.86</td>\n",
       "      <td>129219.61</td>\n",
       "      <td>46085.25</td>\n",
       "      <td>97427.84</td>\n",
       "      <td>99001.328985</td>\n",
       "      <td>99001.318750</td>\n",
       "      <td>-1573.488985</td>\n",
       "    </tr>\n",
       "    <tr>\n",
       "      <th>33</th>\n",
       "      <td>55493.95</td>\n",
       "      <td>103057.49</td>\n",
       "      <td>214634.81</td>\n",
       "      <td>96778.92</td>\n",
       "      <td>97915.007805</td>\n",
       "      <td>97914.987869</td>\n",
       "      <td>-1136.087805</td>\n",
       "    </tr>\n",
       "    <tr>\n",
       "      <th>34</th>\n",
       "      <td>46426.07</td>\n",
       "      <td>157693.92</td>\n",
       "      <td>210797.67</td>\n",
       "      <td>96712.80</td>\n",
       "      <td>89039.273741</td>\n",
       "      <td>89039.252780</td>\n",
       "      <td>7673.526259</td>\n",
       "    </tr>\n",
       "    <tr>\n",
       "      <th>35</th>\n",
       "      <td>46014.02</td>\n",
       "      <td>85047.44</td>\n",
       "      <td>205517.64</td>\n",
       "      <td>96479.51</td>\n",
       "      <td>90511.599568</td>\n",
       "      <td>90511.581265</td>\n",
       "      <td>5967.910432</td>\n",
       "    </tr>\n",
       "    <tr>\n",
       "      <th>36</th>\n",
       "      <td>28663.76</td>\n",
       "      <td>127056.21</td>\n",
       "      <td>201126.82</td>\n",
       "      <td>90708.19</td>\n",
       "      <td>75286.174585</td>\n",
       "      <td>75286.156106</td>\n",
       "      <td>15422.015415</td>\n",
       "    </tr>\n",
       "    <tr>\n",
       "      <th>37</th>\n",
       "      <td>44069.95</td>\n",
       "      <td>51283.14</td>\n",
       "      <td>197029.42</td>\n",
       "      <td>89949.14</td>\n",
       "      <td>89619.537708</td>\n",
       "      <td>89619.521120</td>\n",
       "      <td>329.602292</td>\n",
       "    </tr>\n",
       "    <tr>\n",
       "      <th>38</th>\n",
       "      <td>20229.59</td>\n",
       "      <td>65947.93</td>\n",
       "      <td>185265.10</td>\n",
       "      <td>81229.06</td>\n",
       "      <td>69697.430648</td>\n",
       "      <td>69697.415549</td>\n",
       "      <td>11531.629352</td>\n",
       "    </tr>\n",
       "    <tr>\n",
       "      <th>39</th>\n",
       "      <td>38558.51</td>\n",
       "      <td>82982.09</td>\n",
       "      <td>174999.30</td>\n",
       "      <td>81005.76</td>\n",
       "      <td>83729.011977</td>\n",
       "      <td>83728.996090</td>\n",
       "      <td>-2723.251977</td>\n",
       "    </tr>\n",
       "    <tr>\n",
       "      <th>40</th>\n",
       "      <td>28754.33</td>\n",
       "      <td>118546.05</td>\n",
       "      <td>172795.67</td>\n",
       "      <td>78239.91</td>\n",
       "      <td>74815.953991</td>\n",
       "      <td>74815.937612</td>\n",
       "      <td>3423.956009</td>\n",
       "    </tr>\n",
       "    <tr>\n",
       "      <th>41</th>\n",
       "      <td>27892.92</td>\n",
       "      <td>84710.77</td>\n",
       "      <td>164470.71</td>\n",
       "      <td>77798.83</td>\n",
       "      <td>74802.556239</td>\n",
       "      <td>74802.541511</td>\n",
       "      <td>2996.273761</td>\n",
       "    </tr>\n",
       "    <tr>\n",
       "      <th>42</th>\n",
       "      <td>23640.93</td>\n",
       "      <td>96189.63</td>\n",
       "      <td>148001.11</td>\n",
       "      <td>71498.49</td>\n",
       "      <td>70620.411821</td>\n",
       "      <td>70620.398010</td>\n",
       "      <td>878.078179</td>\n",
       "    </tr>\n",
       "    <tr>\n",
       "      <th>43</th>\n",
       "      <td>15505.73</td>\n",
       "      <td>127382.30</td>\n",
       "      <td>35534.17</td>\n",
       "      <td>69758.98</td>\n",
       "      <td>60167.039963</td>\n",
       "      <td>60167.032861</td>\n",
       "      <td>9591.940037</td>\n",
       "    </tr>\n",
       "    <tr>\n",
       "      <th>44</th>\n",
       "      <td>22177.74</td>\n",
       "      <td>154806.14</td>\n",
       "      <td>28334.72</td>\n",
       "      <td>65200.33</td>\n",
       "      <td>64611.354916</td>\n",
       "      <td>64611.347080</td>\n",
       "      <td>588.975084</td>\n",
       "    </tr>\n",
       "    <tr>\n",
       "      <th>45</th>\n",
       "      <td>1000.23</td>\n",
       "      <td>124153.04</td>\n",
       "      <td>1903.93</td>\n",
       "      <td>64926.08</td>\n",
       "      <td>47650.649687</td>\n",
       "      <td>47650.645590</td>\n",
       "      <td>17275.430313</td>\n",
       "    </tr>\n",
       "    <tr>\n",
       "      <th>46</th>\n",
       "      <td>1315.46</td>\n",
       "      <td>115816.21</td>\n",
       "      <td>297114.46</td>\n",
       "      <td>49490.75</td>\n",
       "      <td>56166.206853</td>\n",
       "      <td>56166.183873</td>\n",
       "      <td>-6675.456853</td>\n",
       "    </tr>\n",
       "    <tr>\n",
       "      <th>47</th>\n",
       "      <td>0.00</td>\n",
       "      <td>135426.92</td>\n",
       "      <td>0.00</td>\n",
       "      <td>42559.73</td>\n",
       "      <td>46490.588983</td>\n",
       "      <td>46490.584703</td>\n",
       "      <td>-3930.858983</td>\n",
       "    </tr>\n",
       "    <tr>\n",
       "      <th>48</th>\n",
       "      <td>542.05</td>\n",
       "      <td>51743.15</td>\n",
       "      <td>0.00</td>\n",
       "      <td>35673.41</td>\n",
       "      <td>49171.388158</td>\n",
       "      <td>49171.386495</td>\n",
       "      <td>-13497.978158</td>\n",
       "    </tr>\n",
       "    <tr>\n",
       "      <th>49</th>\n",
       "      <td>0.00</td>\n",
       "      <td>116983.80</td>\n",
       "      <td>45173.06</td>\n",
       "      <td>14681.40</td>\n",
       "      <td>48215.134111</td>\n",
       "      <td>48215.127487</td>\n",
       "      <td>-33533.734111</td>\n",
       "    </tr>\n",
       "  </tbody>\n",
       "</table>\n",
       "</div>"
      ],
      "text/plain": [
       "           RD  Administration  Marketing     Profit     Prediction  \\\n",
       "0   165349.20       136897.80  471784.10  192261.83  192521.252890   \n",
       "1   162597.70       151377.59  443898.53  191792.06  189156.768232   \n",
       "2   153441.51       101145.55  407934.54  191050.39  182147.279096   \n",
       "3   144372.41       118671.85  383199.62  182901.99  173696.700026   \n",
       "4   142107.34        91391.77  366168.42  166187.94  172139.514183   \n",
       "5   131876.90        99814.71  362861.36  156991.12  163580.780571   \n",
       "6   134615.46       147198.87  127716.82  156122.51  158114.096669   \n",
       "7   130298.13       145530.06  323876.68  155752.60  160021.363048   \n",
       "8   120542.52       148718.95  311613.29  152211.77  151741.699699   \n",
       "9   123334.88       108679.17  304981.62  149759.96  154884.684110   \n",
       "10  101913.08       110594.11  229160.95  146121.95  135509.016367   \n",
       "11  100671.96        91790.61  249744.55  144259.40  135573.712961   \n",
       "12   93863.75       127320.38  249839.44  141585.52  129138.054182   \n",
       "13   91992.39       135495.07  252664.93  134307.35  127487.991663   \n",
       "14  119943.24       156547.42  256512.92  132602.65  149548.646335   \n",
       "15  114523.61       122616.84  261776.23  129917.04  146235.159985   \n",
       "16   78013.11       121597.55  264346.06  126992.93  116915.405401   \n",
       "17   94657.16       145077.58  282574.31  125370.37  130192.447208   \n",
       "18   91749.16       114175.79  294919.57  124266.90  129014.226806   \n",
       "19   86419.70       153514.11       0.00  122776.86  115635.216367   \n",
       "20   76253.86       113867.30  298664.47  118474.03  116639.669231   \n",
       "21   78389.47       153773.43  299737.29  111313.02  117319.451640   \n",
       "22   73994.56       122782.75  303319.26  110352.25  114706.981717   \n",
       "23   67532.53       105751.03  304768.73  108733.99  109996.615221   \n",
       "24   77044.01        99281.34  140574.81  108552.04  113362.966113   \n",
       "25   64664.71       139553.16  137962.62  107404.34  102237.725065   \n",
       "26   75328.87       144135.98  134050.07  105733.54  110600.575350   \n",
       "27   72107.60       127864.55  353183.81  105008.31  114408.071457   \n",
       "28   66051.52       182645.56  118148.20  103282.38  101660.026005   \n",
       "29   65605.48       153032.06  107138.38  101004.64  101794.983452   \n",
       "30   61994.48       115641.28   91131.24   99937.59   99452.372936   \n",
       "31   61136.38       152701.92   88218.23   97483.56   97687.856276   \n",
       "32   63408.86       129219.61   46085.25   97427.84   99001.328985   \n",
       "33   55493.95       103057.49  214634.81   96778.92   97915.007805   \n",
       "34   46426.07       157693.92  210797.67   96712.80   89039.273741   \n",
       "35   46014.02        85047.44  205517.64   96479.51   90511.599568   \n",
       "36   28663.76       127056.21  201126.82   90708.19   75286.174585   \n",
       "37   44069.95        51283.14  197029.42   89949.14   89619.537708   \n",
       "38   20229.59        65947.93  185265.10   81229.06   69697.430648   \n",
       "39   38558.51        82982.09  174999.30   81005.76   83729.011977   \n",
       "40   28754.33       118546.05  172795.67   78239.91   74815.953991   \n",
       "41   27892.92        84710.77  164470.71   77798.83   74802.556239   \n",
       "42   23640.93        96189.63  148001.11   71498.49   70620.411821   \n",
       "43   15505.73       127382.30   35534.17   69758.98   60167.039963   \n",
       "44   22177.74       154806.14   28334.72   65200.33   64611.354916   \n",
       "45    1000.23       124153.04    1903.93   64926.08   47650.649687   \n",
       "46    1315.46       115816.21  297114.46   49490.75   56166.206853   \n",
       "47       0.00       135426.92       0.00   42559.73   46490.588983   \n",
       "48     542.05        51743.15       0.00   35673.41   49171.388158   \n",
       "49       0.00       116983.80   45173.06   14681.40   48215.134111   \n",
       "\n",
       "    Prediction_manual         Error  \n",
       "0       192521.209738   -259.422890  \n",
       "1       189156.726567   2635.291768  \n",
       "2       182147.241806   8903.110904  \n",
       "3       173696.664237   9205.289974  \n",
       "4       172139.480474  -5951.574183  \n",
       "5       163580.747320  -6589.660571  \n",
       "6       158114.077021  -1991.586669  \n",
       "7       160021.330957  -4268.763048  \n",
       "8       151741.668789    470.070301  \n",
       "9       154884.654756  -5124.724110  \n",
       "10      135508.992935  10612.933633  \n",
       "11      135573.688851   8685.687039  \n",
       "12      129138.029283  12447.465818  \n",
       "13      127487.966416   6819.358337  \n",
       "14      149548.618778 -16945.996335  \n",
       "15      146235.133430 -16318.119985  \n",
       "16      116915.380535  10077.524599  \n",
       "17      130192.419587  -4822.077208  \n",
       "18      129014.199507  -4747.326806  \n",
       "19      115635.207202   7141.643633  \n",
       "20      116639.642472   1834.360769  \n",
       "21      117319.423444  -6006.431640  \n",
       "22      114706.954488  -4354.731717  \n",
       "23      109996.588759  -1262.625221  \n",
       "24      113362.950020  -4810.926113  \n",
       "25      102237.708486   5166.614935  \n",
       "26      110600.558348  -4867.035350  \n",
       "27      114408.040930  -9399.761457  \n",
       "28      101660.009279   1622.353995  \n",
       "29      101794.968398   -790.343452  \n",
       "30       99452.360281    485.217064  \n",
       "31       97687.842681   -204.296276  \n",
       "32       99001.318750  -1573.488985  \n",
       "33       97914.987869  -1136.087805  \n",
       "34       89039.252780   7673.526259  \n",
       "35       90511.581265   5967.910432  \n",
       "36       75286.156106  15422.015415  \n",
       "37       89619.521120    329.602292  \n",
       "38       69697.415549  11531.629352  \n",
       "39       83728.996090  -2723.251977  \n",
       "40       74815.937612   3423.956009  \n",
       "41       74802.541511   2996.273761  \n",
       "42       70620.398010    878.078179  \n",
       "43       60167.032861   9591.940037  \n",
       "44       64611.347080    588.975084  \n",
       "45       47650.645590  17275.430313  \n",
       "46       56166.183873  -6675.456853  \n",
       "47       46490.584703  -3930.858983  \n",
       "48       49171.386495 -13497.978158  \n",
       "49       48215.127487 -33533.734111  "
      ]
     },
     "execution_count": 32,
     "metadata": {},
     "output_type": "execute_result"
    }
   ],
   "source": [
    "startup['Prediction'] = model.fittedvalues\n",
    "startup['Prediction_manual']=50122.192990 + 0.805715* startup['RD'] - 0.026816 * startup['Administration'] + 0.027228 * startup['Marketing']\n",
    "startup['Error']=model.resid\n",
    "startup"
   ]
  },
  {
   "cell_type": "code",
   "execution_count": 33,
   "id": "01199c5b",
   "metadata": {},
   "outputs": [
    {
     "name": "stdout",
     "output_type": "stream",
     "text": [
      "Intercept          7.626218\n",
      "RD                17.846374\n",
      "Administration    -0.525507\n",
      "Marketing          1.655077\n",
      "dtype: float64 \n",
      " Intercept         1.057379e-09\n",
      "RD                2.634968e-22\n",
      "Administration    6.017551e-01\n",
      "Marketing         1.047168e-01\n",
      "dtype: float64\n"
     ]
    }
   ],
   "source": [
    "print(model.tvalues,'\\n',model.pvalues)"
   ]
  },
  {
   "cell_type": "markdown",
   "id": "69980a5e",
   "metadata": {},
   "source": [
    "* **Null Hypothesis = The independe variales are not significant(pvalue>0.05).**\n",
    "* **Alternate Hypothesis = The independent variables are significant(pvalue<0.05).**"
   ]
  },
  {
   "cell_type": "code",
   "execution_count": 34,
   "id": "f6c42d5a",
   "metadata": {},
   "outputs": [
    {
     "data": {
      "text/plain": [
       "Intercept         1.057379e-09\n",
       "RD                2.634968e-22\n",
       "Administration    6.017551e-01\n",
       "Marketing         1.047168e-01\n",
       "dtype: float64"
      ]
     },
     "execution_count": 34,
     "metadata": {},
     "output_type": "execute_result"
    }
   ],
   "source": [
    "model.pvalues"
   ]
  },
  {
   "cell_type": "markdown",
   "id": "de75366d",
   "metadata": {},
   "source": [
    "**Since all p values are<0.05, the independent variables are significant to predict the dependent variable.**"
   ]
  },
  {
   "cell_type": "code",
   "execution_count": 35,
   "id": "9adc2c13",
   "metadata": {},
   "outputs": [
    {
     "data": {
      "text/plain": [
       "(0.9507459940683246, 0.9475337762901719)"
      ]
     },
     "execution_count": 35,
     "metadata": {},
     "output_type": "execute_result"
    }
   ],
   "source": [
    "(model.rsquared,model.rsquared_adj)"
   ]
  },
  {
   "cell_type": "code",
   "execution_count": 36,
   "id": "e6a18ce3",
   "metadata": {},
   "outputs": [
    {
     "name": "stdout",
     "output_type": "stream",
     "text": [
      "Intercept    19.320288\n",
      "RD           29.151139\n",
      "dtype: float64 \n",
      " Intercept    2.782697e-24\n",
      "RD           3.500322e-32\n",
      "dtype: float64\n"
     ]
    }
   ],
   "source": [
    "m_rd = smf.ols('Profit~RD',data=startup).fit()\n",
    "print(m_rd.tvalues,'\\n',m_rd.pvalues)"
   ]
  },
  {
   "cell_type": "code",
   "execution_count": 37,
   "id": "45ece88c",
   "metadata": {},
   "outputs": [
    {
     "name": "stdout",
     "output_type": "stream",
     "text": [
      "Intercept         3.040044\n",
      "Administration    1.419493\n",
      "dtype: float64 \n",
      " Intercept         0.003824\n",
      "Administration    0.162217\n",
      "dtype: float64\n"
     ]
    }
   ],
   "source": [
    "m_ad = smf.ols('Profit~Administration',data=startup).fit()\n",
    "print(m_ad.tvalues,'\\n',m_ad.pvalues)"
   ]
  },
  {
   "cell_type": "code",
   "execution_count": 38,
   "id": "8560d497",
   "metadata": {},
   "outputs": [
    {
     "name": "stdout",
     "output_type": "stream",
     "text": [
      "Intercept    7.808356\n",
      "Marketing    7.802657\n",
      "dtype: float64 \n",
      " Intercept    4.294735e-10\n",
      "Marketing    4.381073e-10\n",
      "dtype: float64\n"
     ]
    }
   ],
   "source": [
    "m_m = smf.ols('Profit~Marketing',data=startup).fit()\n",
    "print(m_m.tvalues,'\\n',m_m.pvalues)"
   ]
  },
  {
   "cell_type": "code",
   "execution_count": 39,
   "id": "000b49a0",
   "metadata": {},
   "outputs": [
    {
     "name": "stdout",
     "output_type": "stream",
     "text": [
      "Intercept          7.626218\n",
      "RD                17.846374\n",
      "Administration    -0.525507\n",
      "Marketing          1.655077\n",
      "dtype: float64 \n",
      " Intercept         1.057379e-09\n",
      "RD                2.634968e-22\n",
      "Administration    6.017551e-01\n",
      "Marketing         1.047168e-01\n",
      "dtype: float64\n"
     ]
    }
   ],
   "source": [
    "m_ram = smf.ols('Profit~RD+Administration+Marketing',data=startup).fit()\n",
    "print(m_ram.tvalues,'\\n',m_ram.pvalues)"
   ]
  },
  {
   "cell_type": "markdown",
   "id": "faf102ed",
   "metadata": {},
   "source": [
    "### Calculation of VIF"
   ]
  },
  {
   "cell_type": "code",
   "execution_count": 40,
   "id": "a1d17748",
   "metadata": {},
   "outputs": [
    {
     "data": {
      "text/html": [
       "<div>\n",
       "<style scoped>\n",
       "    .dataframe tbody tr th:only-of-type {\n",
       "        vertical-align: middle;\n",
       "    }\n",
       "\n",
       "    .dataframe tbody tr th {\n",
       "        vertical-align: top;\n",
       "    }\n",
       "\n",
       "    .dataframe thead th {\n",
       "        text-align: right;\n",
       "    }\n",
       "</style>\n",
       "<table border=\"1\" class=\"dataframe\">\n",
       "  <thead>\n",
       "    <tr style=\"text-align: right;\">\n",
       "      <th></th>\n",
       "      <th>Variables</th>\n",
       "      <th>VIF</th>\n",
       "    </tr>\n",
       "  </thead>\n",
       "  <tbody>\n",
       "    <tr>\n",
       "      <th>0</th>\n",
       "      <td>RD</td>\n",
       "      <td>2.468903</td>\n",
       "    </tr>\n",
       "    <tr>\n",
       "      <th>1</th>\n",
       "      <td>Administration</td>\n",
       "      <td>1.175091</td>\n",
       "    </tr>\n",
       "    <tr>\n",
       "      <th>2</th>\n",
       "      <td>Marketing</td>\n",
       "      <td>2.326773</td>\n",
       "    </tr>\n",
       "  </tbody>\n",
       "</table>\n",
       "</div>"
      ],
      "text/plain": [
       "        Variables       VIF\n",
       "0              RD  2.468903\n",
       "1  Administration  1.175091\n",
       "2       Marketing  2.326773"
      ]
     },
     "execution_count": 40,
     "metadata": {},
     "output_type": "execute_result"
    }
   ],
   "source": [
    "rsq_RD = smf.ols('RD~Administration+Marketing',data=startup).fit().rsquared\n",
    "vif_RD = 1/(1-(rsq_RD))\n",
    "\n",
    "rsq_AD = smf.ols('Administration~RD+Marketing',data=startup).fit().rsquared\n",
    "vif_AD = 1/(1-(rsq_AD))\n",
    "\n",
    "rsq_M = smf.ols('Marketing~Administration+RD',data=startup).fit().rsquared\n",
    "vif_M = 1/(1-(rsq_M))\n",
    "\n",
    "df={'Variables':['RD','Administration','Marketing'],'VIF':[vif_RD,vif_AD,vif_M]}\n",
    "vif_frame=pd.DataFrame(df)\n",
    "vif_frame "
   ]
  },
  {
   "cell_type": "markdown",
   "id": "2b4edffc",
   "metadata": {},
   "source": [
    "### Residual Analysis"
   ]
  },
  {
   "cell_type": "markdown",
   "id": "33696279",
   "metadata": {},
   "source": [
    "#### Test for Normality of Residuals(Q-Q Plot)"
   ]
  },
  {
   "cell_type": "code",
   "execution_count": 41,
   "id": "06af014b",
   "metadata": {},
   "outputs": [
    {
     "data": {
      "image/png": "[encoded data removed]",
      "text/plain": [
       "<Figure size 432x288 with 1 Axes>"
      ]
     },
     "metadata": {
      "needs_background": "light"
     },
     "output_type": "display_data"
    }
   ],
   "source": [
    "qqplot=sm.qqplot(model.resid,line='q')\n",
    "plt.title=('Normal Q-Q plot')\n",
    "plt.show()"
   ]
  },
  {
   "cell_type": "code",
   "execution_count": 56,
   "id": "2a04c2d9",
   "metadata": {},
   "outputs": [
    {
     "data": {
      "text/plain": [
       "[array([49], dtype=int64)]"
      ]
     },
     "execution_count": 56,
     "metadata": {},
     "output_type": "execute_result"
    }
   ],
   "source": [
    "list(np.where(model.resid<-18000))"
   ]
  },
  {
   "cell_type": "code",
   "execution_count": 57,
   "id": "478a8beb",
   "metadata": {},
   "outputs": [
    {
     "data": {
      "text/plain": [
       "<AxesSubplot:>"
      ]
     },
     "execution_count": 57,
     "metadata": {},
     "output_type": "execute_result"
    },
    {
     "data": {
      "image/png": "[encoded data removed]",
      "text/plain": [
       "<Figure size 432x288 with 1 Axes>"
      ]
     },
     "metadata": {
      "needs_background": "light"
     },
     "output_type": "display_data"
    }
   ],
   "source": [
    "sns.boxplot(model.resid)"
   ]
  },
  {
   "cell_type": "code",
   "execution_count": 58,
   "id": "35aec3a0",
   "metadata": {},
   "outputs": [
    {
     "data": {
      "image/png": "[encoded data removed]",
      "text/plain": [
       "<Figure size 432x288 with 1 Axes>"
      ]
     },
     "metadata": {
      "needs_background": "light"
     },
     "output_type": "display_data"
    }
   ],
   "source": [
    "sns.histplot(startup['Error'])\n",
    "plt.show()"
   ]
  },
  {
   "cell_type": "code",
   "execution_count": 59,
   "id": "58662cfc",
   "metadata": {},
   "outputs": [
    {
     "data": {
      "text/plain": [
       "<AxesSubplot:xlabel='Error', ylabel='Density'>"
      ]
     },
     "execution_count": 59,
     "metadata": {},
     "output_type": "execute_result"
    },
    {
     "data": {
      "image/png": "[encoded data removed]",
      "text/plain": [
       "<Figure size 432x288 with 1 Axes>"
      ]
     },
     "metadata": {
      "needs_background": "light"
     },
     "output_type": "display_data"
    }
   ],
   "source": [
    "sns.distplot(startup['Error'])"
   ]
  },
  {
   "cell_type": "markdown",
   "id": "8448e527",
   "metadata": {},
   "source": [
    "### Residual plot for Homoscedasticity"
   ]
  },
  {
   "cell_type": "code",
   "execution_count": 63,
   "id": "08f76884",
   "metadata": {},
   "outputs": [],
   "source": [
    "def get_standardized_values(vals):\n",
    "    return(vals - vals.mean())/vals.std()"
   ]
  },
  {
   "cell_type": "code",
   "execution_count": 61,
   "id": "3fde00c4",
   "metadata": {},
   "outputs": [
    {
     "data": {
      "image/png": "[encoded data removed]",
      "text/plain": [
       "<Figure size 432x288 with 1 Axes>"
      ]
     },
     "metadata": {
      "needs_background": "light"
     },
     "output_type": "display_data"
    }
   ],
   "source": [
    "plt.scatter(get_standardized_values(model.fittedvalues),\n",
    "           get_standardized_values(model.resid))\n",
    "\n",
    "#plt.title('Residual Plot')\n",
    "plt.xlabel('Standardized Fitted Values')\n",
    "plt.ylabel('Standardized Residual Values')\n",
    "plt.show()"
   ]
  },
  {
   "cell_type": "code",
   "execution_count": 64,
   "id": "f88c6c68",
   "metadata": {},
   "outputs": [
    {
     "data": {
      "text/plain": [
       "-6.217248937900877e-17"
      ]
     },
     "execution_count": 64,
     "metadata": {},
     "output_type": "execute_result"
    }
   ],
   "source": [
    "get_standardized_values(model.resid).mean()"
   ]
  },
  {
   "cell_type": "markdown",
   "id": "9e1e6a67",
   "metadata": {},
   "source": [
    "### Residual Vs Regressors"
   ]
  },
  {
   "cell_type": "code",
   "execution_count": 65,
   "id": "47b1e149",
   "metadata": {},
   "outputs": [
    {
     "name": "stdout",
     "output_type": "stream",
     "text": [
      "eval_env: 1\n"
     ]
    },
    {
     "data": {
      "image/png": "[encoded data removed]",
      "text/plain": [
       "<Figure size 1080x720 with 4 Axes>"
      ]
     },
     "metadata": {
      "needs_background": "light"
     },
     "output_type": "display_data"
    }
   ],
   "source": [
    "fig = plt.figure(figsize=(15,10))\n",
    "fig=sm.graphics.plot_regress_exog(model,'RD',fig=fig)"
   ]
  },
  {
   "cell_type": "code",
   "execution_count": 67,
   "id": "30c64e2f",
   "metadata": {},
   "outputs": [
    {
     "name": "stdout",
     "output_type": "stream",
     "text": [
      "eval_env: 1\n"
     ]
    },
    {
     "data": {
      "image/png": "[encoded data removed]",
      "text/plain": [
       "<Figure size 1080x720 with 4 Axes>"
      ]
     },
     "metadata": {
      "needs_background": "light"
     },
     "output_type": "display_data"
    }
   ],
   "source": [
    "fig=plt.figure(figsize=(15,10))\n",
    "fig=sm.graphics.plot_regress_exog(model,'Administration',fig=fig)\n",
    "plt.show()"
   ]
  },
  {
   "cell_type": "code",
   "execution_count": 62,
   "id": "7730dc7d",
   "metadata": {},
   "outputs": [
    {
     "name": "stdout",
     "output_type": "stream",
     "text": [
      "eval_env: 1\n"
     ]
    },
    {
     "data": {
      "image/png": "[encoded data removed]",
      "text/plain": [
       "<Figure size 1080x720 with 4 Axes>"
      ]
     },
     "metadata": {
      "needs_background": "light"
     },
     "output_type": "display_data"
    }
   ],
   "source": [
    "fig=plt.figure(figsize=(15,10))\n",
    "fig=sm.graphics.plot_regress_exog(model,'Marketing',fig=fig)\n",
    "plt.show()"
   ]
  },
  {
   "cell_type": "code",
   "execution_count": 68,
   "id": "56435ed8",
   "metadata": {},
   "outputs": [
    {
     "data": {
      "image/png": "[encoded data removed]",
      "text/plain": [
       "<Figure size 432x288 with 1 Axes>"
      ]
     },
     "metadata": {
      "needs_background": "light"
     },
     "output_type": "display_data"
    }
   ],
   "source": [
    "plt.scatter(get_standardized_values(startup.Administration),\n",
    "           get_standardized_values(startup.Error))\n",
    "plt.xlabel(\"Standardized Independent Data Values\")\n",
    "plt.ylabel(\"Standardized Residual Values\")\n",
    "plt.show()"
   ]
  },
  {
   "cell_type": "code",
   "execution_count": 69,
   "id": "2e18df52",
   "metadata": {},
   "outputs": [
    {
     "data": {
      "text/plain": [
       "(50, 7)"
      ]
     },
     "execution_count": 69,
     "metadata": {},
     "output_type": "execute_result"
    }
   ],
   "source": [
    "startup.shape"
   ]
  },
  {
   "cell_type": "code",
   "execution_count": 70,
   "id": "322ef563",
   "metadata": {},
   "outputs": [
    {
     "data": {
      "text/plain": [
       "array([3.21825244e-05, 3.27591036e-03, 3.23842699e-02, 2.17206555e-02,\n",
       "       1.44833032e-02, 1.17158463e-02, 2.91766303e-03, 3.56513444e-03,\n",
       "       4.04303948e-05, 4.86758017e-03, 1.51064757e-02, 1.63564959e-02,\n",
       "       1.15516625e-02, 4.01422811e-03, 6.12934253e-02, 3.40013448e-02,\n",
       "       8.33556413e-03, 3.30534399e-03, 2.16819303e-03, 4.07440577e-02,\n",
       "       4.25137222e-04, 1.09844352e-02, 2.91768000e-03, 2.76030254e-04,\n",
       "       5.04643588e-03, 3.00074623e-03, 3.41957068e-03, 2.98396413e-02,\n",
       "       1.31590664e-03, 1.25992620e-04, 4.18505125e-05, 9.27434786e-06,\n",
       "       7.08656521e-04, 1.28122674e-04, 2.09815032e-02, 6.69508674e-03,\n",
       "       5.55314705e-02, 6.55050578e-05, 5.61547311e-02, 1.54279607e-03,\n",
       "       1.84850929e-03, 1.97578066e-03, 1.36089280e-04, 2.05553171e-02,\n",
       "       1.23156041e-04, 9.03234206e-02, 5.45303387e-02, 5.33885616e-03,\n",
       "       1.90527441e-01, 2.88082293e-01])"
      ]
     },
     "execution_count": 70,
     "metadata": {},
     "output_type": "execute_result"
    }
   ],
   "source": [
    "model.influence=model.get_influence()\n",
    "(c,_) = model.get_influence().cooks_distance\n",
    "c"
   ]
  },
  {
   "cell_type": "code",
   "execution_count": 71,
   "id": "ea286cb4",
   "metadata": {},
   "outputs": [
    {
     "data": {
      "image/png": "[encoded data removed]",
      "text/plain": [
       "<Figure size 1440x576 with 1 Axes>"
      ]
     },
     "metadata": {
      "needs_background": "light"
     },
     "output_type": "display_data"
    }
   ],
   "source": [
    "fig = plt.subplots(figsize=(20,8))\n",
    "plt.stem(np.arange(len(startup)), np.round(c,3))\n",
    "plt.xlabel('Row index')\n",
    "plt.ylabel('Cooks Distance')\n",
    "plt.show()"
   ]
  },
  {
   "cell_type": "code",
   "execution_count": 72,
   "id": "1c06548d",
   "metadata": {},
   "outputs": [
    {
     "data": {
      "text/plain": [
       "(49, 0.2880822927543267)"
      ]
     },
     "execution_count": 72,
     "metadata": {},
     "output_type": "execute_result"
    }
   ],
   "source": [
    "(np.argmax(c),np.max(c))"
   ]
  },
  {
   "cell_type": "markdown",
   "id": "1c65484a",
   "metadata": {},
   "source": [
    "### High influence points"
   ]
  },
  {
   "cell_type": "code",
   "execution_count": 73,
   "id": "97940637",
   "metadata": {},
   "outputs": [
    {
     "data": {
      "image/png": "[encoded data removed]",
      "text/plain": [
       "<Figure size 432x288 with 1 Axes>"
      ]
     },
     "metadata": {
      "needs_background": "light"
     },
     "output_type": "display_data"
    }
   ],
   "source": [
    "influence_plot(model)\n",
    "plt.show()"
   ]
  },
  {
   "cell_type": "code",
   "execution_count": 74,
   "id": "af9a44aa",
   "metadata": {},
   "outputs": [
    {
     "data": {
      "text/plain": [
       "0.48"
      ]
     },
     "execution_count": 74,
     "metadata": {},
     "output_type": "execute_result"
    }
   ],
   "source": [
    "k = startup.shape[1]\n",
    "n = startup.shape[0]\n",
    "leverage_cutoff = (3*(k+1))/n\n",
    "leverage_cutoff"
   ]
  },
  {
   "cell_type": "code",
   "execution_count": 75,
   "id": "f5f98830",
   "metadata": {},
   "outputs": [
    {
     "data": {
      "text/html": [
       "<div>\n",
       "<style scoped>\n",
       "    .dataframe tbody tr th:only-of-type {\n",
       "        vertical-align: middle;\n",
       "    }\n",
       "\n",
       "    .dataframe tbody tr th {\n",
       "        vertical-align: top;\n",
       "    }\n",
       "\n",
       "    .dataframe thead th {\n",
       "        text-align: right;\n",
       "    }\n",
       "</style>\n",
       "<table border=\"1\" class=\"dataframe\">\n",
       "  <thead>\n",
       "    <tr style=\"text-align: right;\">\n",
       "      <th></th>\n",
       "      <th>RD</th>\n",
       "      <th>Administration</th>\n",
       "      <th>Marketing</th>\n",
       "      <th>Profit</th>\n",
       "      <th>Prediction</th>\n",
       "      <th>Prediction_manual</th>\n",
       "      <th>Error</th>\n",
       "    </tr>\n",
       "  </thead>\n",
       "  <tbody>\n",
       "    <tr>\n",
       "      <th>48</th>\n",
       "      <td>542.05</td>\n",
       "      <td>51743.15</td>\n",
       "      <td>0.00</td>\n",
       "      <td>35673.41</td>\n",
       "      <td>49171.388158</td>\n",
       "      <td>49171.386495</td>\n",
       "      <td>-13497.978158</td>\n",
       "    </tr>\n",
       "    <tr>\n",
       "      <th>49</th>\n",
       "      <td>0.00</td>\n",
       "      <td>116983.80</td>\n",
       "      <td>45173.06</td>\n",
       "      <td>14681.40</td>\n",
       "      <td>48215.134111</td>\n",
       "      <td>48215.127487</td>\n",
       "      <td>-33533.734111</td>\n",
       "    </tr>\n",
       "  </tbody>\n",
       "</table>\n",
       "</div>"
      ],
      "text/plain": [
       "        RD  Administration  Marketing    Profit    Prediction  \\\n",
       "48  542.05        51743.15       0.00  35673.41  49171.388158   \n",
       "49    0.00       116983.80   45173.06  14681.40  48215.134111   \n",
       "\n",
       "    Prediction_manual         Error  \n",
       "48       49171.386495 -13497.978158  \n",
       "49       48215.127487 -33533.734111  "
      ]
     },
     "execution_count": 75,
     "metadata": {},
     "output_type": "execute_result"
    }
   ],
   "source": [
    "startup[startup.index.isin([49,48])]"
   ]
  },
  {
   "cell_type": "code",
   "execution_count": 76,
   "id": "919490ec",
   "metadata": {},
   "outputs": [
    {
     "data": {
      "text/html": [
       "<div>\n",
       "<style scoped>\n",
       "    .dataframe tbody tr th:only-of-type {\n",
       "        vertical-align: middle;\n",
       "    }\n",
       "\n",
       "    .dataframe tbody tr th {\n",
       "        vertical-align: top;\n",
       "    }\n",
       "\n",
       "    .dataframe thead th {\n",
       "        text-align: right;\n",
       "    }\n",
       "</style>\n",
       "<table border=\"1\" class=\"dataframe\">\n",
       "  <thead>\n",
       "    <tr style=\"text-align: right;\">\n",
       "      <th></th>\n",
       "      <th>RD</th>\n",
       "      <th>Administration</th>\n",
       "      <th>Marketing</th>\n",
       "      <th>Profit</th>\n",
       "      <th>Prediction</th>\n",
       "      <th>Prediction_manual</th>\n",
       "      <th>Error</th>\n",
       "    </tr>\n",
       "  </thead>\n",
       "  <tbody>\n",
       "    <tr>\n",
       "      <th>0</th>\n",
       "      <td>165349.20</td>\n",
       "      <td>136897.80</td>\n",
       "      <td>471784.10</td>\n",
       "      <td>192261.83</td>\n",
       "      <td>192521.252890</td>\n",
       "      <td>192521.209738</td>\n",
       "      <td>-259.422890</td>\n",
       "    </tr>\n",
       "    <tr>\n",
       "      <th>1</th>\n",
       "      <td>162597.70</td>\n",
       "      <td>151377.59</td>\n",
       "      <td>443898.53</td>\n",
       "      <td>191792.06</td>\n",
       "      <td>189156.768232</td>\n",
       "      <td>189156.726567</td>\n",
       "      <td>2635.291768</td>\n",
       "    </tr>\n",
       "    <tr>\n",
       "      <th>2</th>\n",
       "      <td>153441.51</td>\n",
       "      <td>101145.55</td>\n",
       "      <td>407934.54</td>\n",
       "      <td>191050.39</td>\n",
       "      <td>182147.279096</td>\n",
       "      <td>182147.241806</td>\n",
       "      <td>8903.110904</td>\n",
       "    </tr>\n",
       "    <tr>\n",
       "      <th>3</th>\n",
       "      <td>144372.41</td>\n",
       "      <td>118671.85</td>\n",
       "      <td>383199.62</td>\n",
       "      <td>182901.99</td>\n",
       "      <td>173696.700026</td>\n",
       "      <td>173696.664237</td>\n",
       "      <td>9205.289974</td>\n",
       "    </tr>\n",
       "    <tr>\n",
       "      <th>4</th>\n",
       "      <td>142107.34</td>\n",
       "      <td>91391.77</td>\n",
       "      <td>366168.42</td>\n",
       "      <td>166187.94</td>\n",
       "      <td>172139.514183</td>\n",
       "      <td>172139.480474</td>\n",
       "      <td>-5951.574183</td>\n",
       "    </tr>\n",
       "  </tbody>\n",
       "</table>\n",
       "</div>"
      ],
      "text/plain": [
       "          RD  Administration  Marketing     Profit     Prediction  \\\n",
       "0  165349.20       136897.80  471784.10  192261.83  192521.252890   \n",
       "1  162597.70       151377.59  443898.53  191792.06  189156.768232   \n",
       "2  153441.51       101145.55  407934.54  191050.39  182147.279096   \n",
       "3  144372.41       118671.85  383199.62  182901.99  173696.700026   \n",
       "4  142107.34        91391.77  366168.42  166187.94  172139.514183   \n",
       "\n",
       "   Prediction_manual        Error  \n",
       "0      192521.209738  -259.422890  \n",
       "1      189156.726567  2635.291768  \n",
       "2      182147.241806  8903.110904  \n",
       "3      173696.664237  9205.289974  \n",
       "4      172139.480474 -5951.574183  "
      ]
     },
     "execution_count": 76,
     "metadata": {},
     "output_type": "execute_result"
    }
   ],
   "source": [
    "startup.head()"
   ]
  },
  {
   "cell_type": "code",
   "execution_count": 77,
   "id": "bdb1d071",
   "metadata": {},
   "outputs": [
    {
     "data": {
      "text/html": [
       "<div>\n",
       "<style scoped>\n",
       "    .dataframe tbody tr th:only-of-type {\n",
       "        vertical-align: middle;\n",
       "    }\n",
       "\n",
       "    .dataframe tbody tr th {\n",
       "        vertical-align: top;\n",
       "    }\n",
       "\n",
       "    .dataframe thead th {\n",
       "        text-align: right;\n",
       "    }\n",
       "</style>\n",
       "<table border=\"1\" class=\"dataframe\">\n",
       "  <thead>\n",
       "    <tr style=\"text-align: right;\">\n",
       "      <th></th>\n",
       "      <th>RD</th>\n",
       "      <th>Administration</th>\n",
       "      <th>Marketing</th>\n",
       "      <th>Profit</th>\n",
       "      <th>Prediction</th>\n",
       "      <th>Prediction_manual</th>\n",
       "      <th>Error</th>\n",
       "    </tr>\n",
       "  </thead>\n",
       "  <tbody>\n",
       "    <tr>\n",
       "      <th>0</th>\n",
       "      <td>165349.20</td>\n",
       "      <td>136897.80</td>\n",
       "      <td>471784.10</td>\n",
       "      <td>192261.83</td>\n",
       "      <td>192521.252890</td>\n",
       "      <td>192521.209738</td>\n",
       "      <td>-259.422890</td>\n",
       "    </tr>\n",
       "    <tr>\n",
       "      <th>1</th>\n",
       "      <td>162597.70</td>\n",
       "      <td>151377.59</td>\n",
       "      <td>443898.53</td>\n",
       "      <td>191792.06</td>\n",
       "      <td>189156.768232</td>\n",
       "      <td>189156.726567</td>\n",
       "      <td>2635.291768</td>\n",
       "    </tr>\n",
       "    <tr>\n",
       "      <th>2</th>\n",
       "      <td>153441.51</td>\n",
       "      <td>101145.55</td>\n",
       "      <td>407934.54</td>\n",
       "      <td>191050.39</td>\n",
       "      <td>182147.279096</td>\n",
       "      <td>182147.241806</td>\n",
       "      <td>8903.110904</td>\n",
       "    </tr>\n",
       "    <tr>\n",
       "      <th>3</th>\n",
       "      <td>144372.41</td>\n",
       "      <td>118671.85</td>\n",
       "      <td>383199.62</td>\n",
       "      <td>182901.99</td>\n",
       "      <td>173696.700026</td>\n",
       "      <td>173696.664237</td>\n",
       "      <td>9205.289974</td>\n",
       "    </tr>\n",
       "    <tr>\n",
       "      <th>4</th>\n",
       "      <td>142107.34</td>\n",
       "      <td>91391.77</td>\n",
       "      <td>366168.42</td>\n",
       "      <td>166187.94</td>\n",
       "      <td>172139.514183</td>\n",
       "      <td>172139.480474</td>\n",
       "      <td>-5951.574183</td>\n",
       "    </tr>\n",
       "    <tr>\n",
       "      <th>5</th>\n",
       "      <td>131876.90</td>\n",
       "      <td>99814.71</td>\n",
       "      <td>362861.36</td>\n",
       "      <td>156991.12</td>\n",
       "      <td>163580.780571</td>\n",
       "      <td>163580.747320</td>\n",
       "      <td>-6589.660571</td>\n",
       "    </tr>\n",
       "    <tr>\n",
       "      <th>6</th>\n",
       "      <td>134615.46</td>\n",
       "      <td>147198.87</td>\n",
       "      <td>127716.82</td>\n",
       "      <td>156122.51</td>\n",
       "      <td>158114.096669</td>\n",
       "      <td>158114.077021</td>\n",
       "      <td>-1991.586669</td>\n",
       "    </tr>\n",
       "    <tr>\n",
       "      <th>7</th>\n",
       "      <td>130298.13</td>\n",
       "      <td>145530.06</td>\n",
       "      <td>323876.68</td>\n",
       "      <td>155752.60</td>\n",
       "      <td>160021.363048</td>\n",
       "      <td>160021.330957</td>\n",
       "      <td>-4268.763048</td>\n",
       "    </tr>\n",
       "    <tr>\n",
       "      <th>8</th>\n",
       "      <td>120542.52</td>\n",
       "      <td>148718.95</td>\n",
       "      <td>311613.29</td>\n",
       "      <td>152211.77</td>\n",
       "      <td>151741.699699</td>\n",
       "      <td>151741.668789</td>\n",
       "      <td>470.070301</td>\n",
       "    </tr>\n",
       "    <tr>\n",
       "      <th>9</th>\n",
       "      <td>123334.88</td>\n",
       "      <td>108679.17</td>\n",
       "      <td>304981.62</td>\n",
       "      <td>149759.96</td>\n",
       "      <td>154884.684110</td>\n",
       "      <td>154884.654756</td>\n",
       "      <td>-5124.724110</td>\n",
       "    </tr>\n",
       "    <tr>\n",
       "      <th>10</th>\n",
       "      <td>101913.08</td>\n",
       "      <td>110594.11</td>\n",
       "      <td>229160.95</td>\n",
       "      <td>146121.95</td>\n",
       "      <td>135509.016367</td>\n",
       "      <td>135508.992935</td>\n",
       "      <td>10612.933633</td>\n",
       "    </tr>\n",
       "    <tr>\n",
       "      <th>11</th>\n",
       "      <td>100671.96</td>\n",
       "      <td>91790.61</td>\n",
       "      <td>249744.55</td>\n",
       "      <td>144259.40</td>\n",
       "      <td>135573.712961</td>\n",
       "      <td>135573.688851</td>\n",
       "      <td>8685.687039</td>\n",
       "    </tr>\n",
       "    <tr>\n",
       "      <th>12</th>\n",
       "      <td>93863.75</td>\n",
       "      <td>127320.38</td>\n",
       "      <td>249839.44</td>\n",
       "      <td>141585.52</td>\n",
       "      <td>129138.054182</td>\n",
       "      <td>129138.029283</td>\n",
       "      <td>12447.465818</td>\n",
       "    </tr>\n",
       "    <tr>\n",
       "      <th>13</th>\n",
       "      <td>91992.39</td>\n",
       "      <td>135495.07</td>\n",
       "      <td>252664.93</td>\n",
       "      <td>134307.35</td>\n",
       "      <td>127487.991663</td>\n",
       "      <td>127487.966416</td>\n",
       "      <td>6819.358337</td>\n",
       "    </tr>\n",
       "    <tr>\n",
       "      <th>14</th>\n",
       "      <td>119943.24</td>\n",
       "      <td>156547.42</td>\n",
       "      <td>256512.92</td>\n",
       "      <td>132602.65</td>\n",
       "      <td>149548.646335</td>\n",
       "      <td>149548.618778</td>\n",
       "      <td>-16945.996335</td>\n",
       "    </tr>\n",
       "    <tr>\n",
       "      <th>15</th>\n",
       "      <td>114523.61</td>\n",
       "      <td>122616.84</td>\n",
       "      <td>261776.23</td>\n",
       "      <td>129917.04</td>\n",
       "      <td>146235.159985</td>\n",
       "      <td>146235.133430</td>\n",
       "      <td>-16318.119985</td>\n",
       "    </tr>\n",
       "    <tr>\n",
       "      <th>16</th>\n",
       "      <td>78013.11</td>\n",
       "      <td>121597.55</td>\n",
       "      <td>264346.06</td>\n",
       "      <td>126992.93</td>\n",
       "      <td>116915.405401</td>\n",
       "      <td>116915.380535</td>\n",
       "      <td>10077.524599</td>\n",
       "    </tr>\n",
       "    <tr>\n",
       "      <th>17</th>\n",
       "      <td>94657.16</td>\n",
       "      <td>145077.58</td>\n",
       "      <td>282574.31</td>\n",
       "      <td>125370.37</td>\n",
       "      <td>130192.447208</td>\n",
       "      <td>130192.419587</td>\n",
       "      <td>-4822.077208</td>\n",
       "    </tr>\n",
       "    <tr>\n",
       "      <th>18</th>\n",
       "      <td>91749.16</td>\n",
       "      <td>114175.79</td>\n",
       "      <td>294919.57</td>\n",
       "      <td>124266.90</td>\n",
       "      <td>129014.226806</td>\n",
       "      <td>129014.199507</td>\n",
       "      <td>-4747.326806</td>\n",
       "    </tr>\n",
       "    <tr>\n",
       "      <th>19</th>\n",
       "      <td>86419.70</td>\n",
       "      <td>153514.11</td>\n",
       "      <td>0.00</td>\n",
       "      <td>122776.86</td>\n",
       "      <td>115635.216367</td>\n",
       "      <td>115635.207202</td>\n",
       "      <td>7141.643633</td>\n",
       "    </tr>\n",
       "    <tr>\n",
       "      <th>20</th>\n",
       "      <td>76253.86</td>\n",
       "      <td>113867.30</td>\n",
       "      <td>298664.47</td>\n",
       "      <td>118474.03</td>\n",
       "      <td>116639.669231</td>\n",
       "      <td>116639.642472</td>\n",
       "      <td>1834.360769</td>\n",
       "    </tr>\n",
       "    <tr>\n",
       "      <th>21</th>\n",
       "      <td>78389.47</td>\n",
       "      <td>153773.43</td>\n",
       "      <td>299737.29</td>\n",
       "      <td>111313.02</td>\n",
       "      <td>117319.451640</td>\n",
       "      <td>117319.423444</td>\n",
       "      <td>-6006.431640</td>\n",
       "    </tr>\n",
       "    <tr>\n",
       "      <th>22</th>\n",
       "      <td>73994.56</td>\n",
       "      <td>122782.75</td>\n",
       "      <td>303319.26</td>\n",
       "      <td>110352.25</td>\n",
       "      <td>114706.981717</td>\n",
       "      <td>114706.954488</td>\n",
       "      <td>-4354.731717</td>\n",
       "    </tr>\n",
       "    <tr>\n",
       "      <th>23</th>\n",
       "      <td>67532.53</td>\n",
       "      <td>105751.03</td>\n",
       "      <td>304768.73</td>\n",
       "      <td>108733.99</td>\n",
       "      <td>109996.615221</td>\n",
       "      <td>109996.588759</td>\n",
       "      <td>-1262.625221</td>\n",
       "    </tr>\n",
       "    <tr>\n",
       "      <th>24</th>\n",
       "      <td>77044.01</td>\n",
       "      <td>99281.34</td>\n",
       "      <td>140574.81</td>\n",
       "      <td>108552.04</td>\n",
       "      <td>113362.966113</td>\n",
       "      <td>113362.950020</td>\n",
       "      <td>-4810.926113</td>\n",
       "    </tr>\n",
       "    <tr>\n",
       "      <th>25</th>\n",
       "      <td>64664.71</td>\n",
       "      <td>139553.16</td>\n",
       "      <td>137962.62</td>\n",
       "      <td>107404.34</td>\n",
       "      <td>102237.725065</td>\n",
       "      <td>102237.708486</td>\n",
       "      <td>5166.614935</td>\n",
       "    </tr>\n",
       "    <tr>\n",
       "      <th>26</th>\n",
       "      <td>75328.87</td>\n",
       "      <td>144135.98</td>\n",
       "      <td>134050.07</td>\n",
       "      <td>105733.54</td>\n",
       "      <td>110600.575350</td>\n",
       "      <td>110600.558348</td>\n",
       "      <td>-4867.035350</td>\n",
       "    </tr>\n",
       "    <tr>\n",
       "      <th>27</th>\n",
       "      <td>72107.60</td>\n",
       "      <td>127864.55</td>\n",
       "      <td>353183.81</td>\n",
       "      <td>105008.31</td>\n",
       "      <td>114408.071457</td>\n",
       "      <td>114408.040930</td>\n",
       "      <td>-9399.761457</td>\n",
       "    </tr>\n",
       "    <tr>\n",
       "      <th>28</th>\n",
       "      <td>66051.52</td>\n",
       "      <td>182645.56</td>\n",
       "      <td>118148.20</td>\n",
       "      <td>103282.38</td>\n",
       "      <td>101660.026005</td>\n",
       "      <td>101660.009279</td>\n",
       "      <td>1622.353995</td>\n",
       "    </tr>\n",
       "    <tr>\n",
       "      <th>29</th>\n",
       "      <td>65605.48</td>\n",
       "      <td>153032.06</td>\n",
       "      <td>107138.38</td>\n",
       "      <td>101004.64</td>\n",
       "      <td>101794.983452</td>\n",
       "      <td>101794.968398</td>\n",
       "      <td>-790.343452</td>\n",
       "    </tr>\n",
       "    <tr>\n",
       "      <th>30</th>\n",
       "      <td>61994.48</td>\n",
       "      <td>115641.28</td>\n",
       "      <td>91131.24</td>\n",
       "      <td>99937.59</td>\n",
       "      <td>99452.372936</td>\n",
       "      <td>99452.360281</td>\n",
       "      <td>485.217064</td>\n",
       "    </tr>\n",
       "    <tr>\n",
       "      <th>31</th>\n",
       "      <td>61136.38</td>\n",
       "      <td>152701.92</td>\n",
       "      <td>88218.23</td>\n",
       "      <td>97483.56</td>\n",
       "      <td>97687.856276</td>\n",
       "      <td>97687.842681</td>\n",
       "      <td>-204.296276</td>\n",
       "    </tr>\n",
       "    <tr>\n",
       "      <th>32</th>\n",
       "      <td>63408.86</td>\n",
       "      <td>129219.61</td>\n",
       "      <td>46085.25</td>\n",
       "      <td>97427.84</td>\n",
       "      <td>99001.328985</td>\n",
       "      <td>99001.318750</td>\n",
       "      <td>-1573.488985</td>\n",
       "    </tr>\n",
       "    <tr>\n",
       "      <th>33</th>\n",
       "      <td>55493.95</td>\n",
       "      <td>103057.49</td>\n",
       "      <td>214634.81</td>\n",
       "      <td>96778.92</td>\n",
       "      <td>97915.007805</td>\n",
       "      <td>97914.987869</td>\n",
       "      <td>-1136.087805</td>\n",
       "    </tr>\n",
       "    <tr>\n",
       "      <th>34</th>\n",
       "      <td>46426.07</td>\n",
       "      <td>157693.92</td>\n",
       "      <td>210797.67</td>\n",
       "      <td>96712.80</td>\n",
       "      <td>89039.273741</td>\n",
       "      <td>89039.252780</td>\n",
       "      <td>7673.526259</td>\n",
       "    </tr>\n",
       "    <tr>\n",
       "      <th>35</th>\n",
       "      <td>46014.02</td>\n",
       "      <td>85047.44</td>\n",
       "      <td>205517.64</td>\n",
       "      <td>96479.51</td>\n",
       "      <td>90511.599568</td>\n",
       "      <td>90511.581265</td>\n",
       "      <td>5967.910432</td>\n",
       "    </tr>\n",
       "    <tr>\n",
       "      <th>36</th>\n",
       "      <td>28663.76</td>\n",
       "      <td>127056.21</td>\n",
       "      <td>201126.82</td>\n",
       "      <td>90708.19</td>\n",
       "      <td>75286.174585</td>\n",
       "      <td>75286.156106</td>\n",
       "      <td>15422.015415</td>\n",
       "    </tr>\n",
       "    <tr>\n",
       "      <th>37</th>\n",
       "      <td>44069.95</td>\n",
       "      <td>51283.14</td>\n",
       "      <td>197029.42</td>\n",
       "      <td>89949.14</td>\n",
       "      <td>89619.537708</td>\n",
       "      <td>89619.521120</td>\n",
       "      <td>329.602292</td>\n",
       "    </tr>\n",
       "    <tr>\n",
       "      <th>38</th>\n",
       "      <td>20229.59</td>\n",
       "      <td>65947.93</td>\n",
       "      <td>185265.10</td>\n",
       "      <td>81229.06</td>\n",
       "      <td>69697.430648</td>\n",
       "      <td>69697.415549</td>\n",
       "      <td>11531.629352</td>\n",
       "    </tr>\n",
       "    <tr>\n",
       "      <th>39</th>\n",
       "      <td>38558.51</td>\n",
       "      <td>82982.09</td>\n",
       "      <td>174999.30</td>\n",
       "      <td>81005.76</td>\n",
       "      <td>83729.011977</td>\n",
       "      <td>83728.996090</td>\n",
       "      <td>-2723.251977</td>\n",
       "    </tr>\n",
       "    <tr>\n",
       "      <th>40</th>\n",
       "      <td>28754.33</td>\n",
       "      <td>118546.05</td>\n",
       "      <td>172795.67</td>\n",
       "      <td>78239.91</td>\n",
       "      <td>74815.953991</td>\n",
       "      <td>74815.937612</td>\n",
       "      <td>3423.956009</td>\n",
       "    </tr>\n",
       "    <tr>\n",
       "      <th>41</th>\n",
       "      <td>27892.92</td>\n",
       "      <td>84710.77</td>\n",
       "      <td>164470.71</td>\n",
       "      <td>77798.83</td>\n",
       "      <td>74802.556239</td>\n",
       "      <td>74802.541511</td>\n",
       "      <td>2996.273761</td>\n",
       "    </tr>\n",
       "    <tr>\n",
       "      <th>42</th>\n",
       "      <td>23640.93</td>\n",
       "      <td>96189.63</td>\n",
       "      <td>148001.11</td>\n",
       "      <td>71498.49</td>\n",
       "      <td>70620.411821</td>\n",
       "      <td>70620.398010</td>\n",
       "      <td>878.078179</td>\n",
       "    </tr>\n",
       "    <tr>\n",
       "      <th>43</th>\n",
       "      <td>15505.73</td>\n",
       "      <td>127382.30</td>\n",
       "      <td>35534.17</td>\n",
       "      <td>69758.98</td>\n",
       "      <td>60167.039963</td>\n",
       "      <td>60167.032861</td>\n",
       "      <td>9591.940037</td>\n",
       "    </tr>\n",
       "    <tr>\n",
       "      <th>44</th>\n",
       "      <td>22177.74</td>\n",
       "      <td>154806.14</td>\n",
       "      <td>28334.72</td>\n",
       "      <td>65200.33</td>\n",
       "      <td>64611.354916</td>\n",
       "      <td>64611.347080</td>\n",
       "      <td>588.975084</td>\n",
       "    </tr>\n",
       "    <tr>\n",
       "      <th>45</th>\n",
       "      <td>1000.23</td>\n",
       "      <td>124153.04</td>\n",
       "      <td>1903.93</td>\n",
       "      <td>64926.08</td>\n",
       "      <td>47650.649687</td>\n",
       "      <td>47650.645590</td>\n",
       "      <td>17275.430313</td>\n",
       "    </tr>\n",
       "    <tr>\n",
       "      <th>46</th>\n",
       "      <td>1315.46</td>\n",
       "      <td>115816.21</td>\n",
       "      <td>297114.46</td>\n",
       "      <td>49490.75</td>\n",
       "      <td>56166.206853</td>\n",
       "      <td>56166.183873</td>\n",
       "      <td>-6675.456853</td>\n",
       "    </tr>\n",
       "    <tr>\n",
       "      <th>47</th>\n",
       "      <td>0.00</td>\n",
       "      <td>135426.92</td>\n",
       "      <td>0.00</td>\n",
       "      <td>42559.73</td>\n",
       "      <td>46490.588983</td>\n",
       "      <td>46490.584703</td>\n",
       "      <td>-3930.858983</td>\n",
       "    </tr>\n",
       "    <tr>\n",
       "      <th>48</th>\n",
       "      <td>542.05</td>\n",
       "      <td>51743.15</td>\n",
       "      <td>0.00</td>\n",
       "      <td>35673.41</td>\n",
       "      <td>49171.388158</td>\n",
       "      <td>49171.386495</td>\n",
       "      <td>-13497.978158</td>\n",
       "    </tr>\n",
       "  </tbody>\n",
       "</table>\n",
       "</div>"
      ],
      "text/plain": [
       "           RD  Administration  Marketing     Profit     Prediction  \\\n",
       "0   165349.20       136897.80  471784.10  192261.83  192521.252890   \n",
       "1   162597.70       151377.59  443898.53  191792.06  189156.768232   \n",
       "2   153441.51       101145.55  407934.54  191050.39  182147.279096   \n",
       "3   144372.41       118671.85  383199.62  182901.99  173696.700026   \n",
       "4   142107.34        91391.77  366168.42  166187.94  172139.514183   \n",
       "5   131876.90        99814.71  362861.36  156991.12  163580.780571   \n",
       "6   134615.46       147198.87  127716.82  156122.51  158114.096669   \n",
       "7   130298.13       145530.06  323876.68  155752.60  160021.363048   \n",
       "8   120542.52       148718.95  311613.29  152211.77  151741.699699   \n",
       "9   123334.88       108679.17  304981.62  149759.96  154884.684110   \n",
       "10  101913.08       110594.11  229160.95  146121.95  135509.016367   \n",
       "11  100671.96        91790.61  249744.55  144259.40  135573.712961   \n",
       "12   93863.75       127320.38  249839.44  141585.52  129138.054182   \n",
       "13   91992.39       135495.07  252664.93  134307.35  127487.991663   \n",
       "14  119943.24       156547.42  256512.92  132602.65  149548.646335   \n",
       "15  114523.61       122616.84  261776.23  129917.04  146235.159985   \n",
       "16   78013.11       121597.55  264346.06  126992.93  116915.405401   \n",
       "17   94657.16       145077.58  282574.31  125370.37  130192.447208   \n",
       "18   91749.16       114175.79  294919.57  124266.90  129014.226806   \n",
       "19   86419.70       153514.11       0.00  122776.86  115635.216367   \n",
       "20   76253.86       113867.30  298664.47  118474.03  116639.669231   \n",
       "21   78389.47       153773.43  299737.29  111313.02  117319.451640   \n",
       "22   73994.56       122782.75  303319.26  110352.25  114706.981717   \n",
       "23   67532.53       105751.03  304768.73  108733.99  109996.615221   \n",
       "24   77044.01        99281.34  140574.81  108552.04  113362.966113   \n",
       "25   64664.71       139553.16  137962.62  107404.34  102237.725065   \n",
       "26   75328.87       144135.98  134050.07  105733.54  110600.575350   \n",
       "27   72107.60       127864.55  353183.81  105008.31  114408.071457   \n",
       "28   66051.52       182645.56  118148.20  103282.38  101660.026005   \n",
       "29   65605.48       153032.06  107138.38  101004.64  101794.983452   \n",
       "30   61994.48       115641.28   91131.24   99937.59   99452.372936   \n",
       "31   61136.38       152701.92   88218.23   97483.56   97687.856276   \n",
       "32   63408.86       129219.61   46085.25   97427.84   99001.328985   \n",
       "33   55493.95       103057.49  214634.81   96778.92   97915.007805   \n",
       "34   46426.07       157693.92  210797.67   96712.80   89039.273741   \n",
       "35   46014.02        85047.44  205517.64   96479.51   90511.599568   \n",
       "36   28663.76       127056.21  201126.82   90708.19   75286.174585   \n",
       "37   44069.95        51283.14  197029.42   89949.14   89619.537708   \n",
       "38   20229.59        65947.93  185265.10   81229.06   69697.430648   \n",
       "39   38558.51        82982.09  174999.30   81005.76   83729.011977   \n",
       "40   28754.33       118546.05  172795.67   78239.91   74815.953991   \n",
       "41   27892.92        84710.77  164470.71   77798.83   74802.556239   \n",
       "42   23640.93        96189.63  148001.11   71498.49   70620.411821   \n",
       "43   15505.73       127382.30   35534.17   69758.98   60167.039963   \n",
       "44   22177.74       154806.14   28334.72   65200.33   64611.354916   \n",
       "45    1000.23       124153.04    1903.93   64926.08   47650.649687   \n",
       "46    1315.46       115816.21  297114.46   49490.75   56166.206853   \n",
       "47       0.00       135426.92       0.00   42559.73   46490.588983   \n",
       "48     542.05        51743.15       0.00   35673.41   49171.388158   \n",
       "\n",
       "    Prediction_manual         Error  \n",
       "0       192521.209738   -259.422890  \n",
       "1       189156.726567   2635.291768  \n",
       "2       182147.241806   8903.110904  \n",
       "3       173696.664237   9205.289974  \n",
       "4       172139.480474  -5951.574183  \n",
       "5       163580.747320  -6589.660571  \n",
       "6       158114.077021  -1991.586669  \n",
       "7       160021.330957  -4268.763048  \n",
       "8       151741.668789    470.070301  \n",
       "9       154884.654756  -5124.724110  \n",
       "10      135508.992935  10612.933633  \n",
       "11      135573.688851   8685.687039  \n",
       "12      129138.029283  12447.465818  \n",
       "13      127487.966416   6819.358337  \n",
       "14      149548.618778 -16945.996335  \n",
       "15      146235.133430 -16318.119985  \n",
       "16      116915.380535  10077.524599  \n",
       "17      130192.419587  -4822.077208  \n",
       "18      129014.199507  -4747.326806  \n",
       "19      115635.207202   7141.643633  \n",
       "20      116639.642472   1834.360769  \n",
       "21      117319.423444  -6006.431640  \n",
       "22      114706.954488  -4354.731717  \n",
       "23      109996.588759  -1262.625221  \n",
       "24      113362.950020  -4810.926113  \n",
       "25      102237.708486   5166.614935  \n",
       "26      110600.558348  -4867.035350  \n",
       "27      114408.040930  -9399.761457  \n",
       "28      101660.009279   1622.353995  \n",
       "29      101794.968398   -790.343452  \n",
       "30       99452.360281    485.217064  \n",
       "31       97687.842681   -204.296276  \n",
       "32       99001.318750  -1573.488985  \n",
       "33       97914.987869  -1136.087805  \n",
       "34       89039.252780   7673.526259  \n",
       "35       90511.581265   5967.910432  \n",
       "36       75286.156106  15422.015415  \n",
       "37       89619.521120    329.602292  \n",
       "38       69697.415549  11531.629352  \n",
       "39       83728.996090  -2723.251977  \n",
       "40       74815.937612   3423.956009  \n",
       "41       74802.541511   2996.273761  \n",
       "42       70620.398010    878.078179  \n",
       "43       60167.032861   9591.940037  \n",
       "44       64611.347080    588.975084  \n",
       "45       47650.645590  17275.430313  \n",
       "46       56166.183873  -6675.456853  \n",
       "47       46490.584703  -3930.858983  \n",
       "48       49171.386495 -13497.978158  "
      ]
     },
     "execution_count": 77,
     "metadata": {},
     "output_type": "execute_result"
    }
   ],
   "source": [
    "startup1 = startup.drop(startup.index[[49]],axis=0).reset_index(drop=True)\n",
    "startup1"
   ]
  },
  {
   "cell_type": "code",
   "execution_count": 78,
   "id": "c6b61bd7",
   "metadata": {},
   "outputs": [
    {
     "name": "stdout",
     "output_type": "stream",
     "text": [
      "Thus model accuracy is improved to 0.9613162435129847\n"
     ]
    }
   ],
   "source": [
    "while np.max(c)>0.5:\n",
    "    model = smf.ols('Profit~RD+Administration+Marketing',data=startup1).fit()\n",
    "    (c,_) = model.get_influence().cooks_distance\n",
    "    c\n",
    "    np.argmax(c) , np.max(c)\n",
    "    startup1 = startup1.drop(startup1.index[[np.argmax(c)]],axis=0).reset_index(drop=True)\n",
    "    startup1\n",
    "else:\n",
    "    final_model = smf.ols('Profit~RD+Administration+Marketing',data=startup1).fit()\n",
    "    final_model.rsquared, final_model.aic\n",
    "    print('Thus model accuracy is improved to', final_model.rsquared)\n"
   ]
  },
  {
   "cell_type": "code",
   "execution_count": 79,
   "id": "36530b6f",
   "metadata": {},
   "outputs": [
    {
     "data": {
      "text/plain": [
       "0.9613162435129847"
      ]
     },
     "execution_count": 79,
     "metadata": {},
     "output_type": "execute_result"
    }
   ],
   "source": [
    "final_model.rsquared"
   ]
  },
  {
   "cell_type": "code",
   "execution_count": 80,
   "id": "8ae0fb70",
   "metadata": {},
   "outputs": [
    {
     "data": {
      "text/html": [
       "<div>\n",
       "<style scoped>\n",
       "    .dataframe tbody tr th:only-of-type {\n",
       "        vertical-align: middle;\n",
       "    }\n",
       "\n",
       "    .dataframe tbody tr th {\n",
       "        vertical-align: top;\n",
       "    }\n",
       "\n",
       "    .dataframe thead th {\n",
       "        text-align: right;\n",
       "    }\n",
       "</style>\n",
       "<table border=\"1\" class=\"dataframe\">\n",
       "  <thead>\n",
       "    <tr style=\"text-align: right;\">\n",
       "      <th></th>\n",
       "      <th>RD</th>\n",
       "      <th>Administration</th>\n",
       "      <th>Marketing</th>\n",
       "      <th>Profit</th>\n",
       "      <th>Prediction</th>\n",
       "      <th>Prediction_manual</th>\n",
       "      <th>Error</th>\n",
       "    </tr>\n",
       "  </thead>\n",
       "  <tbody>\n",
       "    <tr>\n",
       "      <th>0</th>\n",
       "      <td>165349.20</td>\n",
       "      <td>136897.80</td>\n",
       "      <td>471784.10</td>\n",
       "      <td>192261.83</td>\n",
       "      <td>192521.252890</td>\n",
       "      <td>192521.209738</td>\n",
       "      <td>-259.422890</td>\n",
       "    </tr>\n",
       "    <tr>\n",
       "      <th>1</th>\n",
       "      <td>162597.70</td>\n",
       "      <td>151377.59</td>\n",
       "      <td>443898.53</td>\n",
       "      <td>191792.06</td>\n",
       "      <td>189156.768232</td>\n",
       "      <td>189156.726567</td>\n",
       "      <td>2635.291768</td>\n",
       "    </tr>\n",
       "    <tr>\n",
       "      <th>2</th>\n",
       "      <td>153441.51</td>\n",
       "      <td>101145.55</td>\n",
       "      <td>407934.54</td>\n",
       "      <td>191050.39</td>\n",
       "      <td>182147.279096</td>\n",
       "      <td>182147.241806</td>\n",
       "      <td>8903.110904</td>\n",
       "    </tr>\n",
       "    <tr>\n",
       "      <th>3</th>\n",
       "      <td>144372.41</td>\n",
       "      <td>118671.85</td>\n",
       "      <td>383199.62</td>\n",
       "      <td>182901.99</td>\n",
       "      <td>173696.700026</td>\n",
       "      <td>173696.664237</td>\n",
       "      <td>9205.289974</td>\n",
       "    </tr>\n",
       "    <tr>\n",
       "      <th>4</th>\n",
       "      <td>142107.34</td>\n",
       "      <td>91391.77</td>\n",
       "      <td>366168.42</td>\n",
       "      <td>166187.94</td>\n",
       "      <td>172139.514183</td>\n",
       "      <td>172139.480474</td>\n",
       "      <td>-5951.574183</td>\n",
       "    </tr>\n",
       "    <tr>\n",
       "      <th>5</th>\n",
       "      <td>131876.90</td>\n",
       "      <td>99814.71</td>\n",
       "      <td>362861.36</td>\n",
       "      <td>156991.12</td>\n",
       "      <td>163580.780571</td>\n",
       "      <td>163580.747320</td>\n",
       "      <td>-6589.660571</td>\n",
       "    </tr>\n",
       "    <tr>\n",
       "      <th>6</th>\n",
       "      <td>134615.46</td>\n",
       "      <td>147198.87</td>\n",
       "      <td>127716.82</td>\n",
       "      <td>156122.51</td>\n",
       "      <td>158114.096669</td>\n",
       "      <td>158114.077021</td>\n",
       "      <td>-1991.586669</td>\n",
       "    </tr>\n",
       "    <tr>\n",
       "      <th>7</th>\n",
       "      <td>130298.13</td>\n",
       "      <td>145530.06</td>\n",
       "      <td>323876.68</td>\n",
       "      <td>155752.60</td>\n",
       "      <td>160021.363048</td>\n",
       "      <td>160021.330957</td>\n",
       "      <td>-4268.763048</td>\n",
       "    </tr>\n",
       "    <tr>\n",
       "      <th>8</th>\n",
       "      <td>120542.52</td>\n",
       "      <td>148718.95</td>\n",
       "      <td>311613.29</td>\n",
       "      <td>152211.77</td>\n",
       "      <td>151741.699699</td>\n",
       "      <td>151741.668789</td>\n",
       "      <td>470.070301</td>\n",
       "    </tr>\n",
       "    <tr>\n",
       "      <th>9</th>\n",
       "      <td>123334.88</td>\n",
       "      <td>108679.17</td>\n",
       "      <td>304981.62</td>\n",
       "      <td>149759.96</td>\n",
       "      <td>154884.684110</td>\n",
       "      <td>154884.654756</td>\n",
       "      <td>-5124.724110</td>\n",
       "    </tr>\n",
       "    <tr>\n",
       "      <th>10</th>\n",
       "      <td>101913.08</td>\n",
       "      <td>110594.11</td>\n",
       "      <td>229160.95</td>\n",
       "      <td>146121.95</td>\n",
       "      <td>135509.016367</td>\n",
       "      <td>135508.992935</td>\n",
       "      <td>10612.933633</td>\n",
       "    </tr>\n",
       "    <tr>\n",
       "      <th>11</th>\n",
       "      <td>100671.96</td>\n",
       "      <td>91790.61</td>\n",
       "      <td>249744.55</td>\n",
       "      <td>144259.40</td>\n",
       "      <td>135573.712961</td>\n",
       "      <td>135573.688851</td>\n",
       "      <td>8685.687039</td>\n",
       "    </tr>\n",
       "    <tr>\n",
       "      <th>12</th>\n",
       "      <td>93863.75</td>\n",
       "      <td>127320.38</td>\n",
       "      <td>249839.44</td>\n",
       "      <td>141585.52</td>\n",
       "      <td>129138.054182</td>\n",
       "      <td>129138.029283</td>\n",
       "      <td>12447.465818</td>\n",
       "    </tr>\n",
       "    <tr>\n",
       "      <th>13</th>\n",
       "      <td>91992.39</td>\n",
       "      <td>135495.07</td>\n",
       "      <td>252664.93</td>\n",
       "      <td>134307.35</td>\n",
       "      <td>127487.991663</td>\n",
       "      <td>127487.966416</td>\n",
       "      <td>6819.358337</td>\n",
       "    </tr>\n",
       "    <tr>\n",
       "      <th>14</th>\n",
       "      <td>119943.24</td>\n",
       "      <td>156547.42</td>\n",
       "      <td>256512.92</td>\n",
       "      <td>132602.65</td>\n",
       "      <td>149548.646335</td>\n",
       "      <td>149548.618778</td>\n",
       "      <td>-16945.996335</td>\n",
       "    </tr>\n",
       "    <tr>\n",
       "      <th>15</th>\n",
       "      <td>114523.61</td>\n",
       "      <td>122616.84</td>\n",
       "      <td>261776.23</td>\n",
       "      <td>129917.04</td>\n",
       "      <td>146235.159985</td>\n",
       "      <td>146235.133430</td>\n",
       "      <td>-16318.119985</td>\n",
       "    </tr>\n",
       "    <tr>\n",
       "      <th>16</th>\n",
       "      <td>78013.11</td>\n",
       "      <td>121597.55</td>\n",
       "      <td>264346.06</td>\n",
       "      <td>126992.93</td>\n",
       "      <td>116915.405401</td>\n",
       "      <td>116915.380535</td>\n",
       "      <td>10077.524599</td>\n",
       "    </tr>\n",
       "    <tr>\n",
       "      <th>17</th>\n",
       "      <td>94657.16</td>\n",
       "      <td>145077.58</td>\n",
       "      <td>282574.31</td>\n",
       "      <td>125370.37</td>\n",
       "      <td>130192.447208</td>\n",
       "      <td>130192.419587</td>\n",
       "      <td>-4822.077208</td>\n",
       "    </tr>\n",
       "    <tr>\n",
       "      <th>18</th>\n",
       "      <td>91749.16</td>\n",
       "      <td>114175.79</td>\n",
       "      <td>294919.57</td>\n",
       "      <td>124266.90</td>\n",
       "      <td>129014.226806</td>\n",
       "      <td>129014.199507</td>\n",
       "      <td>-4747.326806</td>\n",
       "    </tr>\n",
       "    <tr>\n",
       "      <th>19</th>\n",
       "      <td>86419.70</td>\n",
       "      <td>153514.11</td>\n",
       "      <td>0.00</td>\n",
       "      <td>122776.86</td>\n",
       "      <td>115635.216367</td>\n",
       "      <td>115635.207202</td>\n",
       "      <td>7141.643633</td>\n",
       "    </tr>\n",
       "    <tr>\n",
       "      <th>20</th>\n",
       "      <td>76253.86</td>\n",
       "      <td>113867.30</td>\n",
       "      <td>298664.47</td>\n",
       "      <td>118474.03</td>\n",
       "      <td>116639.669231</td>\n",
       "      <td>116639.642472</td>\n",
       "      <td>1834.360769</td>\n",
       "    </tr>\n",
       "    <tr>\n",
       "      <th>21</th>\n",
       "      <td>78389.47</td>\n",
       "      <td>153773.43</td>\n",
       "      <td>299737.29</td>\n",
       "      <td>111313.02</td>\n",
       "      <td>117319.451640</td>\n",
       "      <td>117319.423444</td>\n",
       "      <td>-6006.431640</td>\n",
       "    </tr>\n",
       "    <tr>\n",
       "      <th>22</th>\n",
       "      <td>73994.56</td>\n",
       "      <td>122782.75</td>\n",
       "      <td>303319.26</td>\n",
       "      <td>110352.25</td>\n",
       "      <td>114706.981717</td>\n",
       "      <td>114706.954488</td>\n",
       "      <td>-4354.731717</td>\n",
       "    </tr>\n",
       "    <tr>\n",
       "      <th>23</th>\n",
       "      <td>67532.53</td>\n",
       "      <td>105751.03</td>\n",
       "      <td>304768.73</td>\n",
       "      <td>108733.99</td>\n",
       "      <td>109996.615221</td>\n",
       "      <td>109996.588759</td>\n",
       "      <td>-1262.625221</td>\n",
       "    </tr>\n",
       "    <tr>\n",
       "      <th>24</th>\n",
       "      <td>77044.01</td>\n",
       "      <td>99281.34</td>\n",
       "      <td>140574.81</td>\n",
       "      <td>108552.04</td>\n",
       "      <td>113362.966113</td>\n",
       "      <td>113362.950020</td>\n",
       "      <td>-4810.926113</td>\n",
       "    </tr>\n",
       "    <tr>\n",
       "      <th>25</th>\n",
       "      <td>64664.71</td>\n",
       "      <td>139553.16</td>\n",
       "      <td>137962.62</td>\n",
       "      <td>107404.34</td>\n",
       "      <td>102237.725065</td>\n",
       "      <td>102237.708486</td>\n",
       "      <td>5166.614935</td>\n",
       "    </tr>\n",
       "    <tr>\n",
       "      <th>26</th>\n",
       "      <td>75328.87</td>\n",
       "      <td>144135.98</td>\n",
       "      <td>134050.07</td>\n",
       "      <td>105733.54</td>\n",
       "      <td>110600.575350</td>\n",
       "      <td>110600.558348</td>\n",
       "      <td>-4867.035350</td>\n",
       "    </tr>\n",
       "    <tr>\n",
       "      <th>27</th>\n",
       "      <td>72107.60</td>\n",
       "      <td>127864.55</td>\n",
       "      <td>353183.81</td>\n",
       "      <td>105008.31</td>\n",
       "      <td>114408.071457</td>\n",
       "      <td>114408.040930</td>\n",
       "      <td>-9399.761457</td>\n",
       "    </tr>\n",
       "    <tr>\n",
       "      <th>28</th>\n",
       "      <td>66051.52</td>\n",
       "      <td>182645.56</td>\n",
       "      <td>118148.20</td>\n",
       "      <td>103282.38</td>\n",
       "      <td>101660.026005</td>\n",
       "      <td>101660.009279</td>\n",
       "      <td>1622.353995</td>\n",
       "    </tr>\n",
       "    <tr>\n",
       "      <th>29</th>\n",
       "      <td>65605.48</td>\n",
       "      <td>153032.06</td>\n",
       "      <td>107138.38</td>\n",
       "      <td>101004.64</td>\n",
       "      <td>101794.983452</td>\n",
       "      <td>101794.968398</td>\n",
       "      <td>-790.343452</td>\n",
       "    </tr>\n",
       "    <tr>\n",
       "      <th>30</th>\n",
       "      <td>61994.48</td>\n",
       "      <td>115641.28</td>\n",
       "      <td>91131.24</td>\n",
       "      <td>99937.59</td>\n",
       "      <td>99452.372936</td>\n",
       "      <td>99452.360281</td>\n",
       "      <td>485.217064</td>\n",
       "    </tr>\n",
       "    <tr>\n",
       "      <th>31</th>\n",
       "      <td>61136.38</td>\n",
       "      <td>152701.92</td>\n",
       "      <td>88218.23</td>\n",
       "      <td>97483.56</td>\n",
       "      <td>97687.856276</td>\n",
       "      <td>97687.842681</td>\n",
       "      <td>-204.296276</td>\n",
       "    </tr>\n",
       "    <tr>\n",
       "      <th>32</th>\n",
       "      <td>63408.86</td>\n",
       "      <td>129219.61</td>\n",
       "      <td>46085.25</td>\n",
       "      <td>97427.84</td>\n",
       "      <td>99001.328985</td>\n",
       "      <td>99001.318750</td>\n",
       "      <td>-1573.488985</td>\n",
       "    </tr>\n",
       "    <tr>\n",
       "      <th>33</th>\n",
       "      <td>55493.95</td>\n",
       "      <td>103057.49</td>\n",
       "      <td>214634.81</td>\n",
       "      <td>96778.92</td>\n",
       "      <td>97915.007805</td>\n",
       "      <td>97914.987869</td>\n",
       "      <td>-1136.087805</td>\n",
       "    </tr>\n",
       "    <tr>\n",
       "      <th>34</th>\n",
       "      <td>46426.07</td>\n",
       "      <td>157693.92</td>\n",
       "      <td>210797.67</td>\n",
       "      <td>96712.80</td>\n",
       "      <td>89039.273741</td>\n",
       "      <td>89039.252780</td>\n",
       "      <td>7673.526259</td>\n",
       "    </tr>\n",
       "    <tr>\n",
       "      <th>35</th>\n",
       "      <td>46014.02</td>\n",
       "      <td>85047.44</td>\n",
       "      <td>205517.64</td>\n",
       "      <td>96479.51</td>\n",
       "      <td>90511.599568</td>\n",
       "      <td>90511.581265</td>\n",
       "      <td>5967.910432</td>\n",
       "    </tr>\n",
       "    <tr>\n",
       "      <th>36</th>\n",
       "      <td>28663.76</td>\n",
       "      <td>127056.21</td>\n",
       "      <td>201126.82</td>\n",
       "      <td>90708.19</td>\n",
       "      <td>75286.174585</td>\n",
       "      <td>75286.156106</td>\n",
       "      <td>15422.015415</td>\n",
       "    </tr>\n",
       "    <tr>\n",
       "      <th>37</th>\n",
       "      <td>44069.95</td>\n",
       "      <td>51283.14</td>\n",
       "      <td>197029.42</td>\n",
       "      <td>89949.14</td>\n",
       "      <td>89619.537708</td>\n",
       "      <td>89619.521120</td>\n",
       "      <td>329.602292</td>\n",
       "    </tr>\n",
       "    <tr>\n",
       "      <th>38</th>\n",
       "      <td>20229.59</td>\n",
       "      <td>65947.93</td>\n",
       "      <td>185265.10</td>\n",
       "      <td>81229.06</td>\n",
       "      <td>69697.430648</td>\n",
       "      <td>69697.415549</td>\n",
       "      <td>11531.629352</td>\n",
       "    </tr>\n",
       "    <tr>\n",
       "      <th>39</th>\n",
       "      <td>38558.51</td>\n",
       "      <td>82982.09</td>\n",
       "      <td>174999.30</td>\n",
       "      <td>81005.76</td>\n",
       "      <td>83729.011977</td>\n",
       "      <td>83728.996090</td>\n",
       "      <td>-2723.251977</td>\n",
       "    </tr>\n",
       "    <tr>\n",
       "      <th>40</th>\n",
       "      <td>28754.33</td>\n",
       "      <td>118546.05</td>\n",
       "      <td>172795.67</td>\n",
       "      <td>78239.91</td>\n",
       "      <td>74815.953991</td>\n",
       "      <td>74815.937612</td>\n",
       "      <td>3423.956009</td>\n",
       "    </tr>\n",
       "    <tr>\n",
       "      <th>41</th>\n",
       "      <td>27892.92</td>\n",
       "      <td>84710.77</td>\n",
       "      <td>164470.71</td>\n",
       "      <td>77798.83</td>\n",
       "      <td>74802.556239</td>\n",
       "      <td>74802.541511</td>\n",
       "      <td>2996.273761</td>\n",
       "    </tr>\n",
       "    <tr>\n",
       "      <th>42</th>\n",
       "      <td>23640.93</td>\n",
       "      <td>96189.63</td>\n",
       "      <td>148001.11</td>\n",
       "      <td>71498.49</td>\n",
       "      <td>70620.411821</td>\n",
       "      <td>70620.398010</td>\n",
       "      <td>878.078179</td>\n",
       "    </tr>\n",
       "    <tr>\n",
       "      <th>43</th>\n",
       "      <td>15505.73</td>\n",
       "      <td>127382.30</td>\n",
       "      <td>35534.17</td>\n",
       "      <td>69758.98</td>\n",
       "      <td>60167.039963</td>\n",
       "      <td>60167.032861</td>\n",
       "      <td>9591.940037</td>\n",
       "    </tr>\n",
       "    <tr>\n",
       "      <th>44</th>\n",
       "      <td>22177.74</td>\n",
       "      <td>154806.14</td>\n",
       "      <td>28334.72</td>\n",
       "      <td>65200.33</td>\n",
       "      <td>64611.354916</td>\n",
       "      <td>64611.347080</td>\n",
       "      <td>588.975084</td>\n",
       "    </tr>\n",
       "    <tr>\n",
       "      <th>45</th>\n",
       "      <td>1000.23</td>\n",
       "      <td>124153.04</td>\n",
       "      <td>1903.93</td>\n",
       "      <td>64926.08</td>\n",
       "      <td>47650.649687</td>\n",
       "      <td>47650.645590</td>\n",
       "      <td>17275.430313</td>\n",
       "    </tr>\n",
       "    <tr>\n",
       "      <th>46</th>\n",
       "      <td>1315.46</td>\n",
       "      <td>115816.21</td>\n",
       "      <td>297114.46</td>\n",
       "      <td>49490.75</td>\n",
       "      <td>56166.206853</td>\n",
       "      <td>56166.183873</td>\n",
       "      <td>-6675.456853</td>\n",
       "    </tr>\n",
       "    <tr>\n",
       "      <th>47</th>\n",
       "      <td>0.00</td>\n",
       "      <td>135426.92</td>\n",
       "      <td>0.00</td>\n",
       "      <td>42559.73</td>\n",
       "      <td>46490.588983</td>\n",
       "      <td>46490.584703</td>\n",
       "      <td>-3930.858983</td>\n",
       "    </tr>\n",
       "    <tr>\n",
       "      <th>48</th>\n",
       "      <td>542.05</td>\n",
       "      <td>51743.15</td>\n",
       "      <td>0.00</td>\n",
       "      <td>35673.41</td>\n",
       "      <td>49171.388158</td>\n",
       "      <td>49171.386495</td>\n",
       "      <td>-13497.978158</td>\n",
       "    </tr>\n",
       "  </tbody>\n",
       "</table>\n",
       "</div>"
      ],
      "text/plain": [
       "           RD  Administration  Marketing     Profit     Prediction  \\\n",
       "0   165349.20       136897.80  471784.10  192261.83  192521.252890   \n",
       "1   162597.70       151377.59  443898.53  191792.06  189156.768232   \n",
       "2   153441.51       101145.55  407934.54  191050.39  182147.279096   \n",
       "3   144372.41       118671.85  383199.62  182901.99  173696.700026   \n",
       "4   142107.34        91391.77  366168.42  166187.94  172139.514183   \n",
       "5   131876.90        99814.71  362861.36  156991.12  163580.780571   \n",
       "6   134615.46       147198.87  127716.82  156122.51  158114.096669   \n",
       "7   130298.13       145530.06  323876.68  155752.60  160021.363048   \n",
       "8   120542.52       148718.95  311613.29  152211.77  151741.699699   \n",
       "9   123334.88       108679.17  304981.62  149759.96  154884.684110   \n",
       "10  101913.08       110594.11  229160.95  146121.95  135509.016367   \n",
       "11  100671.96        91790.61  249744.55  144259.40  135573.712961   \n",
       "12   93863.75       127320.38  249839.44  141585.52  129138.054182   \n",
       "13   91992.39       135495.07  252664.93  134307.35  127487.991663   \n",
       "14  119943.24       156547.42  256512.92  132602.65  149548.646335   \n",
       "15  114523.61       122616.84  261776.23  129917.04  146235.159985   \n",
       "16   78013.11       121597.55  264346.06  126992.93  116915.405401   \n",
       "17   94657.16       145077.58  282574.31  125370.37  130192.447208   \n",
       "18   91749.16       114175.79  294919.57  124266.90  129014.226806   \n",
       "19   86419.70       153514.11       0.00  122776.86  115635.216367   \n",
       "20   76253.86       113867.30  298664.47  118474.03  116639.669231   \n",
       "21   78389.47       153773.43  299737.29  111313.02  117319.451640   \n",
       "22   73994.56       122782.75  303319.26  110352.25  114706.981717   \n",
       "23   67532.53       105751.03  304768.73  108733.99  109996.615221   \n",
       "24   77044.01        99281.34  140574.81  108552.04  113362.966113   \n",
       "25   64664.71       139553.16  137962.62  107404.34  102237.725065   \n",
       "26   75328.87       144135.98  134050.07  105733.54  110600.575350   \n",
       "27   72107.60       127864.55  353183.81  105008.31  114408.071457   \n",
       "28   66051.52       182645.56  118148.20  103282.38  101660.026005   \n",
       "29   65605.48       153032.06  107138.38  101004.64  101794.983452   \n",
       "30   61994.48       115641.28   91131.24   99937.59   99452.372936   \n",
       "31   61136.38       152701.92   88218.23   97483.56   97687.856276   \n",
       "32   63408.86       129219.61   46085.25   97427.84   99001.328985   \n",
       "33   55493.95       103057.49  214634.81   96778.92   97915.007805   \n",
       "34   46426.07       157693.92  210797.67   96712.80   89039.273741   \n",
       "35   46014.02        85047.44  205517.64   96479.51   90511.599568   \n",
       "36   28663.76       127056.21  201126.82   90708.19   75286.174585   \n",
       "37   44069.95        51283.14  197029.42   89949.14   89619.537708   \n",
       "38   20229.59        65947.93  185265.10   81229.06   69697.430648   \n",
       "39   38558.51        82982.09  174999.30   81005.76   83729.011977   \n",
       "40   28754.33       118546.05  172795.67   78239.91   74815.953991   \n",
       "41   27892.92        84710.77  164470.71   77798.83   74802.556239   \n",
       "42   23640.93        96189.63  148001.11   71498.49   70620.411821   \n",
       "43   15505.73       127382.30   35534.17   69758.98   60167.039963   \n",
       "44   22177.74       154806.14   28334.72   65200.33   64611.354916   \n",
       "45    1000.23       124153.04    1903.93   64926.08   47650.649687   \n",
       "46    1315.46       115816.21  297114.46   49490.75   56166.206853   \n",
       "47       0.00       135426.92       0.00   42559.73   46490.588983   \n",
       "48     542.05        51743.15       0.00   35673.41   49171.388158   \n",
       "\n",
       "    Prediction_manual         Error  \n",
       "0       192521.209738   -259.422890  \n",
       "1       189156.726567   2635.291768  \n",
       "2       182147.241806   8903.110904  \n",
       "3       173696.664237   9205.289974  \n",
       "4       172139.480474  -5951.574183  \n",
       "5       163580.747320  -6589.660571  \n",
       "6       158114.077021  -1991.586669  \n",
       "7       160021.330957  -4268.763048  \n",
       "8       151741.668789    470.070301  \n",
       "9       154884.654756  -5124.724110  \n",
       "10      135508.992935  10612.933633  \n",
       "11      135573.688851   8685.687039  \n",
       "12      129138.029283  12447.465818  \n",
       "13      127487.966416   6819.358337  \n",
       "14      149548.618778 -16945.996335  \n",
       "15      146235.133430 -16318.119985  \n",
       "16      116915.380535  10077.524599  \n",
       "17      130192.419587  -4822.077208  \n",
       "18      129014.199507  -4747.326806  \n",
       "19      115635.207202   7141.643633  \n",
       "20      116639.642472   1834.360769  \n",
       "21      117319.423444  -6006.431640  \n",
       "22      114706.954488  -4354.731717  \n",
       "23      109996.588759  -1262.625221  \n",
       "24      113362.950020  -4810.926113  \n",
       "25      102237.708486   5166.614935  \n",
       "26      110600.558348  -4867.035350  \n",
       "27      114408.040930  -9399.761457  \n",
       "28      101660.009279   1622.353995  \n",
       "29      101794.968398   -790.343452  \n",
       "30       99452.360281    485.217064  \n",
       "31       97687.842681   -204.296276  \n",
       "32       99001.318750  -1573.488985  \n",
       "33       97914.987869  -1136.087805  \n",
       "34       89039.252780   7673.526259  \n",
       "35       90511.581265   5967.910432  \n",
       "36       75286.156106  15422.015415  \n",
       "37       89619.521120    329.602292  \n",
       "38       69697.415549  11531.629352  \n",
       "39       83728.996090  -2723.251977  \n",
       "40       74815.937612   3423.956009  \n",
       "41       74802.541511   2996.273761  \n",
       "42       70620.398010    878.078179  \n",
       "43       60167.032861   9591.940037  \n",
       "44       64611.347080    588.975084  \n",
       "45       47650.645590  17275.430313  \n",
       "46       56166.183873  -6675.456853  \n",
       "47       46490.584703  -3930.858983  \n",
       "48       49171.386495 -13497.978158  "
      ]
     },
     "execution_count": 80,
     "metadata": {},
     "output_type": "execute_result"
    }
   ],
   "source": [
    "startup1"
   ]
  },
  {
   "cell_type": "markdown",
   "id": "0278d29f",
   "metadata": {},
   "source": [
    "### Model Prediction"
   ]
  },
  {
   "cell_type": "code",
   "execution_count": 82,
   "id": "cf1c8c2a",
   "metadata": {},
   "outputs": [
    {
     "data": {
      "text/html": [
       "<div>\n",
       "<style scoped>\n",
       "    .dataframe tbody tr th:only-of-type {\n",
       "        vertical-align: middle;\n",
       "    }\n",
       "\n",
       "    .dataframe tbody tr th {\n",
       "        vertical-align: top;\n",
       "    }\n",
       "\n",
       "    .dataframe thead th {\n",
       "        text-align: right;\n",
       "    }\n",
       "</style>\n",
       "<table border=\"1\" class=\"dataframe\">\n",
       "  <thead>\n",
       "    <tr style=\"text-align: right;\">\n",
       "      <th></th>\n",
       "      <th>RD</th>\n",
       "      <th>Administration</th>\n",
       "      <th>Marketing</th>\n",
       "    </tr>\n",
       "  </thead>\n",
       "  <tbody>\n",
       "    <tr>\n",
       "      <th>0</th>\n",
       "      <td>10000</td>\n",
       "      <td>12560</td>\n",
       "      <td>41000</td>\n",
       "    </tr>\n",
       "  </tbody>\n",
       "</table>\n",
       "</div>"
      ],
      "text/plain": [
       "      RD  Administration  Marketing\n",
       "0  10000           12560      41000"
      ]
     },
     "execution_count": 82,
     "metadata": {},
     "output_type": "execute_result"
    }
   ],
   "source": [
    "new_data = pd.DataFrame({'RD':10000, 'Administration':12560, 'Marketing': 41000},index=[0])\n",
    "new_data"
   ]
  },
  {
   "cell_type": "code",
   "execution_count": 83,
   "id": "138e894b",
   "metadata": {},
   "outputs": [
    {
     "data": {
      "text/plain": [
       "0    60968.187419\n",
       "dtype: float64"
      ]
     },
     "execution_count": 83,
     "metadata": {},
     "output_type": "execute_result"
    }
   ],
   "source": [
    "final_model.predict(new_data)"
   ]
  },
  {
   "cell_type": "code",
   "execution_count": 84,
   "id": "11259d28",
   "metadata": {},
   "outputs": [
    {
     "data": {
      "text/plain": [
       "0     190716.676999\n",
       "1     187537.122227\n",
       "2     180575.526396\n",
       "3     172461.144642\n",
       "4     170863.486721\n",
       "5     162582.583177\n",
       "6     157741.338633\n",
       "7     159347.735318\n",
       "8     151328.826941\n",
       "9     154236.846778\n",
       "10    135507.792682\n",
       "11    135472.855621\n",
       "12    129355.599449\n",
       "13    127780.129139\n",
       "14    149295.404796\n",
       "15    145937.941975\n",
       "16    117437.627921\n",
       "17    130408.626295\n",
       "18    129129.234457\n",
       "19    116641.003121\n",
       "20    117097.731866\n",
       "21    117911.019038\n",
       "22    115248.217796\n",
       "23    110603.139045\n",
       "24    114051.073877\n",
       "25    103398.054385\n",
       "26    111547.638935\n",
       "27    114916.165026\n",
       "28    103027.229434\n",
       "29    103057.621761\n",
       "30    100656.410227\n",
       "31     99088.213693\n",
       "32    100325.741335\n",
       "33     98962.303136\n",
       "34     90552.307809\n",
       "35     91709.288672\n",
       "36     77080.554255\n",
       "37     90722.503244\n",
       "38     71433.021956\n",
       "39     85147.375646\n",
       "40     76625.510303\n",
       "41     76492.145175\n",
       "42     72492.394974\n",
       "43     62592.049718\n",
       "44     67025.731107\n",
       "45     50457.297206\n",
       "46     58338.443625\n",
       "47     49375.776655\n",
       "48     51658.096812\n",
       "dtype: float64"
      ]
     },
     "execution_count": 84,
     "metadata": {},
     "output_type": "execute_result"
    }
   ],
   "source": [
    "pred = final_model.predict(startup1)\n",
    "pred"
   ]
  },
  {
   "cell_type": "code",
   "execution_count": 85,
   "id": "8301cdaf",
   "metadata": {},
   "outputs": [
    {
     "data": {
      "text/plain": [
       "(0.9507459940683246, 0.9613162435129847)"
      ]
     },
     "execution_count": 85,
     "metadata": {},
     "output_type": "execute_result"
    }
   ],
   "source": [
    "(model.rsquared , final_model.rsquared)"
   ]
  },
  {
   "cell_type": "code",
   "execution_count": 86,
   "id": "6dc4431a",
   "metadata": {},
   "outputs": [
    {
     "data": {
      "text/html": [
       "<table class=\"simpletable\">\n",
       "<caption>OLS Regression Results</caption>\n",
       "<tr>\n",
       "  <th>Dep. Variable:</th>         <td>Profit</td>      <th>  R-squared:         </th> <td>   0.961</td>\n",
       "</tr>\n",
       "<tr>\n",
       "  <th>Model:</th>                   <td>OLS</td>       <th>  Adj. R-squared:    </th> <td>   0.959</td>\n",
       "</tr>\n",
       "<tr>\n",
       "  <th>Method:</th>             <td>Least Squares</td>  <th>  F-statistic:       </th> <td>   372.8</td>\n",
       "</tr>\n",
       "<tr>\n",
       "  <th>Date:</th>             <td>Fri, 19 Aug 2022</td> <th>  Prob (F-statistic):</th> <td>8.85e-32</td>\n",
       "</tr>\n",
       "<tr>\n",
       "  <th>Time:</th>                 <td>22:10:56</td>     <th>  Log-Likelihood:    </th> <td> -506.28</td>\n",
       "</tr>\n",
       "<tr>\n",
       "  <th>No. Observations:</th>      <td>    49</td>      <th>  AIC:               </th> <td>   1021.</td>\n",
       "</tr>\n",
       "<tr>\n",
       "  <th>Df Residuals:</th>          <td>    45</td>      <th>  BIC:               </th> <td>   1028.</td>\n",
       "</tr>\n",
       "<tr>\n",
       "  <th>Df Model:</th>              <td>     3</td>      <th>                     </th>     <td> </td>   \n",
       "</tr>\n",
       "<tr>\n",
       "  <th>Covariance Type:</th>      <td>nonrobust</td>    <th>                     </th>     <td> </td>   \n",
       "</tr>\n",
       "</table>\n",
       "<table class=\"simpletable\">\n",
       "<tr>\n",
       "         <td></td>           <th>coef</th>     <th>std err</th>      <th>t</th>      <th>P>|t|</th>  <th>[0.025</th>    <th>0.975]</th>  \n",
       "</tr>\n",
       "<tr>\n",
       "  <th>Intercept</th>      <td> 5.238e+04</td> <td> 5542.657</td> <td>    9.451</td> <td> 0.000</td> <td> 4.12e+04</td> <td> 6.35e+04</td>\n",
       "</tr>\n",
       "<tr>\n",
       "  <th>RD</th>             <td>    0.7830</td> <td>    0.038</td> <td>   20.470</td> <td> 0.000</td> <td>    0.706</td> <td>    0.860</td>\n",
       "</tr>\n",
       "<tr>\n",
       "  <th>Administration</th> <td>   -0.0222</td> <td>    0.043</td> <td>   -0.518</td> <td> 0.607</td> <td>   -0.109</td> <td>    0.064</td>\n",
       "</tr>\n",
       "<tr>\n",
       "  <th>Marketing</th>      <td>    0.0252</td> <td>    0.014</td> <td>    1.825</td> <td> 0.075</td> <td>   -0.003</td> <td>    0.053</td>\n",
       "</tr>\n",
       "</table>\n",
       "<table class=\"simpletable\">\n",
       "<tr>\n",
       "  <th>Omnibus:</th>       <td> 0.082</td> <th>  Durbin-Watson:     </th> <td>   1.598</td>\n",
       "</tr>\n",
       "<tr>\n",
       "  <th>Prob(Omnibus):</th> <td> 0.960</td> <th>  Jarque-Bera (JB):  </th> <td>   0.232</td>\n",
       "</tr>\n",
       "<tr>\n",
       "  <th>Skew:</th>          <td>-0.082</td> <th>  Prob(JB):          </th> <td>   0.890</td>\n",
       "</tr>\n",
       "<tr>\n",
       "  <th>Kurtosis:</th>      <td> 2.706</td> <th>  Cond. No.          </th> <td>1.41e+06</td>\n",
       "</tr>\n",
       "</table><br/><br/>Notes:<br/>[1] Standard Errors assume that the covariance matrix of the errors is correctly specified.<br/>[2] The condition number is large, 1.41e+06. This might indicate that there are<br/>strong multicollinearity or other numerical problems."
      ],
      "text/plain": [
       "<class 'statsmodels.iolib.summary.Summary'>\n",
       "\"\"\"\n",
       "                            OLS Regression Results                            \n",
       "==============================================================================\n",
       "Dep. Variable:                 Profit   R-squared:                       0.961\n",
       "Model:                            OLS   Adj. R-squared:                  0.959\n",
       "Method:                 Least Squares   F-statistic:                     372.8\n",
       "Date:                Fri, 19 Aug 2022   Prob (F-statistic):           8.85e-32\n",
       "Time:                        22:10:56   Log-Likelihood:                -506.28\n",
       "No. Observations:                  49   AIC:                             1021.\n",
       "Df Residuals:                      45   BIC:                             1028.\n",
       "Df Model:                           3                                         \n",
       "Covariance Type:            nonrobust                                         \n",
       "==================================================================================\n",
       "                     coef    std err          t      P>|t|      [0.025      0.975]\n",
       "----------------------------------------------------------------------------------\n",
       "Intercept       5.238e+04   5542.657      9.451      0.000    4.12e+04    6.35e+04\n",
       "RD                 0.7830      0.038     20.470      0.000       0.706       0.860\n",
       "Administration    -0.0222      0.043     -0.518      0.607      -0.109       0.064\n",
       "Marketing          0.0252      0.014      1.825      0.075      -0.003       0.053\n",
       "==============================================================================\n",
       "Omnibus:                        0.082   Durbin-Watson:                   1.598\n",
       "Prob(Omnibus):                  0.960   Jarque-Bera (JB):                0.232\n",
       "Skew:                          -0.082   Prob(JB):                        0.890\n",
       "Kurtosis:                       2.706   Cond. No.                     1.41e+06\n",
       "==============================================================================\n",
       "\n",
       "Notes:\n",
       "[1] Standard Errors assume that the covariance matrix of the errors is correctly specified.\n",
       "[2] The condition number is large, 1.41e+06. This might indicate that there are\n",
       "strong multicollinearity or other numerical problems.\n",
       "\"\"\""
      ]
     },
     "execution_count": 86,
     "metadata": {},
     "output_type": "execute_result"
    }
   ],
   "source": [
    "final_model.summary()"
   ]
  }
 ],
 "metadata": {
  "kernelspec": {
   "display_name": "Python 3 (ipykernel)",
   "language": "python",
   "name": "python3"
  },
  "language_info": {
   "codemirror_mode": {
    "name": "ipython",
    "version": 3
   },
   "file_extension": ".py",
   "mimetype": "text/x-python",
   "name": "python",
   "nbconvert_exporter": "python",
   "pygments_lexer": "ipython3",
   "version": "3.9.12"
  }
 },
 "nbformat": 4,
 "nbformat_minor": 5
}
